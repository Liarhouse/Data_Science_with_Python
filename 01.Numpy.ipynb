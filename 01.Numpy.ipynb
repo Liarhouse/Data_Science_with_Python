{
 "cells": [
  {
   "cell_type": "markdown",
   "id": "e207b175",
   "metadata": {},
   "source": [
    "넘파이(Numpy) 배열 프로그래밍"
   ]
  },
  {
   "cell_type": "markdown",
   "id": "f79afb71",
   "metadata": {},
   "source": [
    "### 1. 넘파이 배열\n",
    "#### Array(배열): 동일한 자료형을 순서대로 저장하여 처리하는 자료구조\n",
    "#### 파이썬 자료형: List[], Dictionary{}-key:value, Tuple()\n",
    "#### 넘파이 자료구조 : 다차원 배열 자료구조 클래스 ndarray"
   ]
  },
  {
   "cell_type": "code",
   "execution_count": null,
   "id": "6c867d7e",
   "metadata": {
    "ExecuteTime": {
     "end_time": "2022-10-24T00:39:39.388615Z",
     "start_time": "2022-10-24T00:39:39.373654Z"
    }
   },
   "outputs": [],
   "source": [
    "a=[1,2,3,4,5]\n",
    "b=[1,2,3,4,5]\n",
    "c=[] # 빈 리스트 객체\n",
    "# for 개별변수 in 집합변수\n",
    "for i in range(len(a)): # range(5): 0,1,2,3,4\n",
    "    c.append(a[i]*b[i])\n",
    "print(c)"
   ]
  },
  {
   "cell_type": "code",
   "execution_count": null,
   "id": "899821d8",
   "metadata": {
    "ExecuteTime": {
     "end_time": "2022-10-24T00:39:56.805299Z",
     "start_time": "2022-10-24T00:39:56.629470Z"
    }
   },
   "outputs": [],
   "source": [
    "c = a*b\n",
    "c"
   ]
  },
  {
   "cell_type": "markdown",
   "id": "08a68686",
   "metadata": {},
   "source": [
    "### 2.넘파이 패키지 임포트 "
   ]
  },
  {
   "cell_type": "code",
   "execution_count": 2,
   "id": "edd0d243",
   "metadata": {
    "ExecuteTime": {
     "end_time": "2022-10-24T01:22:43.231161Z",
     "start_time": "2022-10-24T01:22:42.914616Z"
    }
   },
   "outputs": [],
   "source": [
    "import numpy as np"
   ]
  },
  {
   "cell_type": "code",
   "execution_count": null,
   "id": "1b678525",
   "metadata": {
    "ExecuteTime": {
     "end_time": "2022-10-24T00:45:37.870304Z",
     "start_time": "2022-10-24T00:45:37.853350Z"
    }
   },
   "outputs": [],
   "source": [
    "# Numpy 라이브러리 버전 확인\n",
    "np.__version__"
   ]
  },
  {
   "cell_type": "code",
   "execution_count": null,
   "id": "f66aa877",
   "metadata": {
    "ExecuteTime": {
     "end_time": "2022-10-24T00:46:22.619858Z",
     "start_time": "2022-10-24T00:46:22.605874Z"
    }
   },
   "outputs": [],
   "source": [
    "x = np.array(a)\n",
    "y = np.array(b)\n",
    "x * y"
   ]
  },
  {
   "cell_type": "markdown",
   "id": "9598843c",
   "metadata": {},
   "source": [
    "#### 수업에 사용할 함수 정의"
   ]
  },
  {
   "cell_type": "markdown",
   "id": "542e1614",
   "metadata": {},
   "source": [
    "#### 파이썬 1차원 배열(list)로 Numpy 배열 생성하는 방법"
   ]
  },
  {
   "cell_type": "code",
   "execution_count": 3,
   "id": "05fff875",
   "metadata": {
    "ExecuteTime": {
     "end_time": "2022-10-24T01:22:46.589958Z",
     "start_time": "2022-10-24T01:22:46.579969Z"
    }
   },
   "outputs": [],
   "source": [
    "arr = [1, 2, 3]\n",
    "a = np.array(arr)"
   ]
  },
  {
   "cell_type": "code",
   "execution_count": 4,
   "id": "ec62b542",
   "metadata": {
    "ExecuteTime": {
     "end_time": "2022-10-24T01:22:49.828914Z",
     "start_time": "2022-10-24T01:22:49.818941Z"
    }
   },
   "outputs": [
    {
     "name": "stdout",
     "output_type": "stream",
     "text": [
      "Pretty printing has been turned OFF\n"
     ]
    }
   ],
   "source": [
    "pprint(a)"
   ]
  },
  {
   "cell_type": "code",
   "execution_count": null,
   "id": "5dc9badc",
   "metadata": {
    "ExecuteTime": {
     "end_time": "2022-10-24T01:10:38.939015Z",
     "start_time": "2022-10-24T01:10:38.925020Z"
    }
   },
   "outputs": [],
   "source": [
    "import sys\n",
    "\n",
    "print(\"--sys.version—\")\n",
    "print(sys.version)"
   ]
  },
  {
   "cell_type": "code",
   "execution_count": 6,
   "id": "53dae930",
   "metadata": {
    "ExecuteTime": {
     "end_time": "2022-10-24T01:23:13.664940Z",
     "start_time": "2022-10-24T01:23:13.652971Z"
    }
   },
   "outputs": [],
   "source": [
    "from teacher import *"
   ]
  },
  {
   "cell_type": "code",
   "execution_count": null,
   "id": "81dfa0c7",
   "metadata": {
    "ExecuteTime": {
     "end_time": "2022-10-24T01:02:36.369586Z",
     "start_time": "2022-10-24T01:02:36.355613Z"
    }
   },
   "outputs": [],
   "source": [
    "def pprint(arr):\n",
    "    print('type: {}'.format(type(arr)))\n",
    "    print('shape:{}, dimension:{}, dtype:{}'.format(arr.shape, arr.ndim, arr.dtype))\n",
    "    print(\"Array's Data: \\n\", arr)"
   ]
  },
  {
   "cell_type": "markdown",
   "id": "829bd8c0",
   "metadata": {},
   "source": [
    "#### 파이썬 2차원 배열로 Numpy 배열 생성, 원소 데이터타입 지정"
   ]
  },
  {
   "cell_type": "code",
   "execution_count": 7,
   "id": "f6905188",
   "metadata": {
    "ExecuteTime": {
     "end_time": "2022-10-24T01:26:08.342203Z",
     "start_time": "2022-10-24T01:26:08.331233Z"
    }
   },
   "outputs": [],
   "source": [
    "arr = [[1, 2, 3],[4, 5, 6]]\n",
    "arr2 = [(1, 2, 3),(4, 5, 6)]\n",
    "b = np.array(arr, dtype = float)"
   ]
  },
  {
   "cell_type": "code",
   "execution_count": 8,
   "id": "cf4c3551",
   "metadata": {
    "ExecuteTime": {
     "end_time": "2022-10-24T01:26:26.523308Z",
     "start_time": "2022-10-24T01:26:26.507351Z"
    }
   },
   "outputs": [
    {
     "name": "stdout",
     "output_type": "stream",
     "text": [
      "type: <class 'numpy.ndarray'>\n",
      "shape:(2, 3), dimension:2, dtype:float64\n",
      "Array's Data: \n",
      " [[1. 2. 3.]\n",
      " [4. 5. 6.]]\n"
     ]
    }
   ],
   "source": [
    "pprint(b)"
   ]
  },
  {
   "cell_type": "markdown",
   "id": "8d3519c4",
   "metadata": {},
   "source": [
    "#### 파이썬 3차원 배열로 Numpy 배열 생성, 원소 데이터 타입 지정"
   ]
  },
  {
   "cell_type": "code",
   "execution_count": 9,
   "id": "33aef013",
   "metadata": {
    "ExecuteTime": {
     "end_time": "2022-10-24T01:30:37.906009Z",
     "start_time": "2022-10-24T01:30:37.900032Z"
    }
   },
   "outputs": [],
   "source": [
    "arr = np.array([[[1, 2, 3], [4, 5, 6]],[[3, 2, 1],[4, 5, 6]]], dtype = float)"
   ]
  },
  {
   "cell_type": "code",
   "execution_count": 10,
   "id": "1a13362d",
   "metadata": {
    "ExecuteTime": {
     "end_time": "2022-10-24T01:30:43.685125Z",
     "start_time": "2022-10-24T01:30:43.666166Z"
    }
   },
   "outputs": [
    {
     "name": "stdout",
     "output_type": "stream",
     "text": [
      "type: <class 'numpy.ndarray'>\n",
      "shape:(2, 2, 3), dimension:3, dtype:float64\n",
      "Array's Data: \n",
      " [[[1. 2. 3.]\n",
      "  [4. 5. 6.]]\n",
      "\n",
      " [[3. 2. 1.]\n",
      "  [4. 5. 6.]]]\n"
     ]
    }
   ],
   "source": [
    "pprint(arr)"
   ]
  },
  {
   "cell_type": "markdown",
   "id": "bcaf0bf2",
   "metadata": {},
   "source": [
    "#### np.zeros(shape, dtype = float, order = 'C')\n",
    "- 지정된 shape의 배열을 생성하고, 모든 요소를 0으로 초기화"
   ]
  },
  {
   "cell_type": "code",
   "execution_count": 11,
   "id": "ee0eb2e3",
   "metadata": {
    "ExecuteTime": {
     "end_time": "2022-10-24T01:35:35.757876Z",
     "start_time": "2022-10-24T01:35:35.738924Z"
    }
   },
   "outputs": [
    {
     "name": "stdout",
     "output_type": "stream",
     "text": [
      "type: <class 'numpy.ndarray'>\n",
      "shape:(3, 4), dimension:2, dtype:float64\n",
      "Array's Data: \n",
      " [[0. 0. 0. 0.]\n",
      " [0. 0. 0. 0.]\n",
      " [0. 0. 0. 0.]]\n"
     ]
    }
   ],
   "source": [
    "a = np.zeros((3, 4))\n",
    "pprint(a)"
   ]
  },
  {
   "cell_type": "markdown",
   "id": "c719fff4",
   "metadata": {},
   "source": [
    "#### np.ones(shape, dtype = None, order = 'C')\n",
    "- 지정된 shape의 배열을 생성하고, 모든 요소를 1로 초기화"
   ]
  },
  {
   "cell_type": "code",
   "execution_count": 13,
   "id": "9afdcae4",
   "metadata": {
    "ExecuteTime": {
     "end_time": "2022-10-24T01:38:15.193806Z",
     "start_time": "2022-10-24T01:38:15.179843Z"
    }
   },
   "outputs": [
    {
     "name": "stdout",
     "output_type": "stream",
     "text": [
      "type: <class 'numpy.ndarray'>\n",
      "shape:(2, 3, 4), dimension:3, dtype:int16\n",
      "Array's Data: \n",
      " [[[1 1 1 1]\n",
      "  [1 1 1 1]\n",
      "  [1 1 1 1]]\n",
      "\n",
      " [[1 1 1 1]\n",
      "  [1 1 1 1]\n",
      "  [1 1 1 1]]]\n"
     ]
    }
   ],
   "source": [
    "a = np.ones((2, 3, 4), dtype = np.int16)\n",
    "pprint(a)"
   ]
  },
  {
   "cell_type": "markdown",
   "id": "e54785f3",
   "metadata": {},
   "source": [
    "#### np.full(shape, fill_value, dtype=None, order='C')\n",
    "- 지정된 shape의 배열을 생성하고, 모든 요소를 fill_value 값으로 초기화"
   ]
  },
  {
   "cell_type": "code",
   "execution_count": 14,
   "id": "54624cde",
   "metadata": {
    "ExecuteTime": {
     "end_time": "2022-10-24T01:39:54.219267Z",
     "start_time": "2022-10-24T01:39:54.211289Z"
    }
   },
   "outputs": [
    {
     "name": "stdout",
     "output_type": "stream",
     "text": [
      "type: <class 'numpy.ndarray'>\n",
      "shape:(2, 2), dimension:2, dtype:int32\n",
      "Array's Data: \n",
      " [[7 7]\n",
      " [7 7]]\n"
     ]
    }
   ],
   "source": [
    "a = np.full((2,2), 7)\n",
    "pprint(a)"
   ]
  },
  {
   "cell_type": "markdown",
   "id": "8fcf780e",
   "metadata": {},
   "source": [
    "#### np.eye(N, M = None, k = 0, dtype = float)\n",
    "- (N, N) shape의 단위 행렬(대각선으로 숫자 채우기)을 생성"
   ]
  },
  {
   "cell_type": "code",
   "execution_count": 16,
   "id": "e9b7a096",
   "metadata": {
    "ExecuteTime": {
     "end_time": "2022-10-24T01:42:31.926265Z",
     "start_time": "2022-10-24T01:42:31.906319Z"
    }
   },
   "outputs": [
    {
     "data": {
      "text/plain": [
       "array([[1., 0., 0., 0.],\n",
       "       [0., 1., 0., 0.],\n",
       "       [0., 0., 1., 0.],\n",
       "       [0., 0., 0., 1.]])"
      ]
     },
     "execution_count": 16,
     "metadata": {},
     "output_type": "execute_result"
    }
   ],
   "source": [
    "np.eye(4)"
   ]
  },
  {
   "cell_type": "markdown",
   "id": "aad15fc3",
   "metadata": {},
   "source": [
    "#### np.empty(shape, dtype = float, order = 'C')\n",
    "- 지정된 shape의 배열 생성\n",
    "- 요소의 초기화 과정이 없고, 기존 메모리값을 그대로 사용\n",
    "- 배열 생성비용이 가장 저렴하고 빠름"
   ]
  },
  {
   "cell_type": "code",
   "execution_count": 17,
   "id": "acdc2d35",
   "metadata": {
    "ExecuteTime": {
     "end_time": "2022-10-24T01:45:16.790307Z",
     "start_time": "2022-10-24T01:45:16.772355Z"
    }
   },
   "outputs": [
    {
     "name": "stdout",
     "output_type": "stream",
     "text": [
      "type: <class 'numpy.ndarray'>\n",
      "shape:(4, 2), dimension:2, dtype:float64\n",
      "Array's Data: \n",
      " [[0.00000000e+000 0.00000000e+000]\n",
      " [0.00000000e+000 0.00000000e+000]\n",
      " [0.00000000e+000 7.58884832e-321]\n",
      " [9.34609110e-307 1.60219034e-306]]\n"
     ]
    }
   ],
   "source": [
    "a = np.empty((4, 2))\n",
    "pprint(a)"
   ]
  },
  {
   "cell_type": "markdown",
   "id": "e1a64b46",
   "metadata": {},
   "source": [
    "#### like 함수, ~처럼, ~같은\n",
    "- 지정된 배열과 shape이 같은 배열을 만드는 함수\n",
    "- np.zeros_like(기존에 만든 배열)\n",
    "- np.ones_like()\n",
    "- np.full_like()\n",
    "- np.empty_like()"
   ]
  },
  {
   "cell_type": "code",
   "execution_count": 18,
   "id": "3787b87a",
   "metadata": {
    "ExecuteTime": {
     "end_time": "2022-10-24T01:50:02.894939Z",
     "start_time": "2022-10-24T01:50:02.882971Z"
    }
   },
   "outputs": [
    {
     "name": "stdout",
     "output_type": "stream",
     "text": [
      "type: <class 'numpy.ndarray'>\n",
      "shape:(2, 3), dimension:2, dtype:int32\n",
      "Array's Data: \n",
      " [[1 1 1]\n",
      " [1 1 1]]\n"
     ]
    }
   ],
   "source": [
    "a = np.array([[1, 2, 3], [4, 5, 6]])\n",
    "b = np.ones_like(a)\n",
    "pprint(b)"
   ]
  },
  {
   "cell_type": "markdown",
   "id": "efa138b2",
   "metadata": {},
   "source": [
    "#### 난수 발생과 카운팅\n",
    "- 난수(random number) : 파이썬을 이용하여 데이터를 무작위로 섞거나 임의의 수\n",
    "- 시드(seed) : 0이거나 0보다 큰 정수를 취한다."
   ]
  },
  {
   "cell_type": "code",
   "execution_count": 26,
   "id": "32f282ff",
   "metadata": {
    "ExecuteTime": {
     "end_time": "2022-10-24T01:56:37.603098Z",
     "start_time": "2022-10-24T01:56:37.593125Z"
    }
   },
   "outputs": [],
   "source": [
    "np.random.seed(0)"
   ]
  },
  {
   "cell_type": "code",
   "execution_count": 27,
   "id": "bc90f702",
   "metadata": {
    "ExecuteTime": {
     "end_time": "2022-10-24T01:56:40.659034Z",
     "start_time": "2022-10-24T01:56:40.649043Z"
    }
   },
   "outputs": [
    {
     "data": {
      "text/plain": [
       "array([0.5488135 , 0.71518937, 0.60276338, 0.54488318, 0.4236548 ])"
      ]
     },
     "execution_count": 27,
     "metadata": {},
     "output_type": "execute_result"
    }
   ],
   "source": [
    "np.random.rand(5)"
   ]
  },
  {
   "cell_type": "code",
   "execution_count": 28,
   "id": "057bf555",
   "metadata": {
    "ExecuteTime": {
     "end_time": "2022-10-24T01:56:48.449048Z",
     "start_time": "2022-10-24T01:56:48.434088Z"
    }
   },
   "outputs": [
    {
     "data": {
      "text/plain": [
       "array([0.64589411, 0.43758721, 0.891773  , 0.96366276, 0.38344152,\n",
       "       0.79172504, 0.52889492, 0.56804456, 0.92559664, 0.07103606])"
      ]
     },
     "execution_count": 28,
     "metadata": {},
     "output_type": "execute_result"
    }
   ],
   "source": [
    "np.random.rand(10)"
   ]
  },
  {
   "cell_type": "code",
   "execution_count": 29,
   "id": "96a5395c",
   "metadata": {
    "ExecuteTime": {
     "end_time": "2022-10-24T01:56:56.645265Z",
     "start_time": "2022-10-24T01:56:56.626317Z"
    }
   },
   "outputs": [
    {
     "data": {
      "text/plain": [
       "array([0.0871293 , 0.0202184 , 0.83261985, 0.77815675, 0.87001215,\n",
       "       0.97861834, 0.79915856, 0.46147936, 0.78052918, 0.11827443])"
      ]
     },
     "execution_count": 29,
     "metadata": {},
     "output_type": "execute_result"
    }
   ],
   "source": [
    "np.random.rand(10)"
   ]
  },
  {
   "cell_type": "code",
   "execution_count": 30,
   "id": "ee61ecb7",
   "metadata": {
    "ExecuteTime": {
     "end_time": "2022-10-24T01:57:21.146065Z",
     "start_time": "2022-10-24T01:57:21.131105Z"
    }
   },
   "outputs": [],
   "source": [
    "np.random.seed(0)"
   ]
  },
  {
   "cell_type": "code",
   "execution_count": 31,
   "id": "78adf17f",
   "metadata": {
    "ExecuteTime": {
     "end_time": "2022-10-24T01:57:28.960712Z",
     "start_time": "2022-10-24T01:57:28.954728Z"
    }
   },
   "outputs": [
    {
     "data": {
      "text/plain": [
       "array([0.5488135 , 0.71518937, 0.60276338, 0.54488318, 0.4236548 ])"
      ]
     },
     "execution_count": 31,
     "metadata": {},
     "output_type": "execute_result"
    }
   ],
   "source": [
    "np.random.rand(5)"
   ]
  },
  {
   "cell_type": "code",
   "execution_count": 32,
   "id": "aadc03b3",
   "metadata": {
    "ExecuteTime": {
     "end_time": "2022-10-24T01:57:34.428387Z",
     "start_time": "2022-10-24T01:57:34.418413Z"
    }
   },
   "outputs": [
    {
     "data": {
      "text/plain": [
       "array([0.64589411, 0.43758721, 0.891773  , 0.96366276, 0.38344152,\n",
       "       0.79172504, 0.52889492, 0.56804456, 0.92559664, 0.07103606])"
      ]
     },
     "execution_count": 32,
     "metadata": {},
     "output_type": "execute_result"
    }
   ],
   "source": [
    "np.random.rand(10)"
   ]
  },
  {
   "cell_type": "markdown",
   "id": "84ca5c68",
   "metadata": {},
   "source": [
    "#### 데이터의 순서 변경: shuffle"
   ]
  },
  {
   "cell_type": "code",
   "execution_count": 33,
   "id": "90840adc",
   "metadata": {
    "ExecuteTime": {
     "end_time": "2022-10-24T02:02:20.223162Z",
     "start_time": "2022-10-24T02:02:20.211194Z"
    }
   },
   "outputs": [
    {
     "data": {
      "text/plain": [
       "array([0, 1, 2, 3, 4, 5, 6, 7, 8, 9])"
      ]
     },
     "execution_count": 33,
     "metadata": {},
     "output_type": "execute_result"
    }
   ],
   "source": [
    "x = np.arange(10)\n",
    "x"
   ]
  },
  {
   "cell_type": "code",
   "execution_count": 34,
   "id": "4c1b3843",
   "metadata": {
    "ExecuteTime": {
     "end_time": "2022-10-24T02:02:44.982102Z",
     "start_time": "2022-10-24T02:02:44.977116Z"
    }
   },
   "outputs": [],
   "source": [
    "np.random.shuffle(x)"
   ]
  },
  {
   "cell_type": "code",
   "execution_count": 35,
   "id": "267c51fe",
   "metadata": {
    "ExecuteTime": {
     "end_time": "2022-10-24T02:02:48.803340Z",
     "start_time": "2022-10-24T02:02:48.793366Z"
    }
   },
   "outputs": [
    {
     "data": {
      "text/plain": [
       "array([5, 1, 8, 2, 6, 7, 0, 3, 4, 9])"
      ]
     },
     "execution_count": 35,
     "metadata": {},
     "output_type": "execute_result"
    }
   ],
   "source": [
    "x"
   ]
  },
  {
   "cell_type": "markdown",
   "id": "a0b1bfa7",
   "metadata": {},
   "source": [
    "#### 데이터 샘플링: choice\n",
    "- np.random.choice(data, size = None, replace = True, p = None)\n",
    "- data : 원본 데이터, arange(data)\n",
    "- size : 샘플 숫자\n",
    "- replace : True이면 중복 가능, False면 중복 불가능\n",
    "- p : 각 데이터가 선택될 수 있는 확률"
   ]
  },
  {
   "cell_type": "code",
   "execution_count": 38,
   "id": "e4725a2f",
   "metadata": {
    "ExecuteTime": {
     "end_time": "2022-10-24T02:08:43.083996Z",
     "start_time": "2022-10-24T02:08:43.073025Z"
    }
   },
   "outputs": [
    {
     "data": {
      "text/plain": [
       "array([0, 1, 2, 4, 3])"
      ]
     },
     "execution_count": 38,
     "metadata": {},
     "output_type": "execute_result"
    }
   ],
   "source": [
    "np.random.choice(5, 5, replace = False) # shuffle과 유사함"
   ]
  },
  {
   "cell_type": "code",
   "execution_count": 39,
   "id": "333f25b1",
   "metadata": {
    "ExecuteTime": {
     "end_time": "2022-10-24T02:09:29.952855Z",
     "start_time": "2022-10-24T02:09:29.938342Z"
    }
   },
   "outputs": [
    {
     "data": {
      "text/plain": [
       "array([4, 2, 3])"
      ]
     },
     "execution_count": 39,
     "metadata": {},
     "output_type": "execute_result"
    }
   ],
   "source": [
    "np.random.choice(5, 3, replace = False)"
   ]
  },
  {
   "cell_type": "code",
   "execution_count": 41,
   "id": "4d47a1bd",
   "metadata": {
    "ExecuteTime": {
     "end_time": "2022-10-24T02:09:59.438625Z",
     "start_time": "2022-10-24T02:09:59.432642Z"
    }
   },
   "outputs": [
    {
     "data": {
      "text/plain": [
       "array([0, 2, 4, 3, 3, 2, 4, 2, 0, 0])"
      ]
     },
     "execution_count": 41,
     "metadata": {},
     "output_type": "execute_result"
    }
   ],
   "source": [
    "np.random.choice(5, 10)"
   ]
  },
  {
   "cell_type": "code",
   "execution_count": 43,
   "id": "ec390488",
   "metadata": {
    "ExecuteTime": {
     "end_time": "2022-10-24T02:10:38.586497Z",
     "start_time": "2022-10-24T02:10:38.577523Z"
    }
   },
   "outputs": [
    {
     "data": {
      "text/plain": [
       "array([2, 2, 2, 2, 3, 3, 3, 3, 0, 3])"
      ]
     },
     "execution_count": 43,
     "metadata": {},
     "output_type": "execute_result"
    }
   ],
   "source": [
    "np.random.choice(5, 10, p = [0.1, 0, 0.3, 0.6, 0])"
   ]
  },
  {
   "cell_type": "markdown",
   "id": "5ee71f15",
   "metadata": {},
   "source": [
    "#### 난수 생성\n",
    "- rand : 0부터 1 사이의 균일 분포\n",
    "- randn : 표준 정규 분포\n",
    "- randint : 균일 분포의 정수 난수\n",
    "- randint(low, high=None, size=None)"
   ]
  },
  {
   "cell_type": "code",
   "execution_count": 46,
   "id": "ec8f4c62",
   "metadata": {
    "ExecuteTime": {
     "end_time": "2022-10-24T02:28:01.397221Z",
     "start_time": "2022-10-24T02:28:01.385248Z"
    }
   },
   "outputs": [
    {
     "data": {
      "text/plain": [
       "array([6, 7, 2, 0, 3, 5, 9, 4, 4, 6])"
      ]
     },
     "execution_count": 46,
     "metadata": {},
     "output_type": "execute_result"
    }
   ],
   "source": [
    "np.random.randint(10, size=10)"
   ]
  },
  {
   "cell_type": "code",
   "execution_count": 49,
   "id": "6165b837",
   "metadata": {
    "ExecuteTime": {
     "end_time": "2022-10-24T02:29:38.366473Z",
     "start_time": "2022-10-24T02:29:38.360488Z"
    }
   },
   "outputs": [
    {
     "data": {
      "text/plain": [
       "array([15, 10, 11, 15, 19, 13, 10, 15, 10, 11])"
      ]
     },
     "execution_count": 49,
     "metadata": {},
     "output_type": "execute_result"
    }
   ],
   "source": [
    "np.random.randint(10, 20, size=10)"
   ]
  },
  {
   "cell_type": "code",
   "execution_count": 50,
   "id": "0a5044d4",
   "metadata": {
    "ExecuteTime": {
     "end_time": "2022-10-24T02:29:56.242910Z",
     "start_time": "2022-10-24T02:29:56.223960Z"
    }
   },
   "outputs": [
    {
     "data": {
      "text/plain": [
       "array([[12, 14, 12, 10, 13],\n",
       "       [12, 10, 17, 15, 19],\n",
       "       [10, 12, 17, 12, 19]])"
      ]
     },
     "execution_count": 50,
     "metadata": {},
     "output_type": "execute_result"
    }
   ],
   "source": [
    "np. random.randint(10, 20, size=(3,5))"
   ]
  },
  {
   "cell_type": "markdown",
   "id": "62c6394a",
   "metadata": {},
   "source": [
    "#### 정수 데이터 카운팅"
   ]
  },
  {
   "cell_type": "code",
   "execution_count": 51,
   "id": "971052c1",
   "metadata": {
    "ExecuteTime": {
     "end_time": "2022-10-24T02:31:57.997761Z",
     "start_time": "2022-10-24T02:31:57.991785Z"
    }
   },
   "outputs": [
    {
     "data": {
      "text/plain": [
       "array([ 2, 11, 34])"
      ]
     },
     "execution_count": 51,
     "metadata": {},
     "output_type": "execute_result"
    }
   ],
   "source": [
    "np.unique([11, 11, 2, 2, 34, 34])"
   ]
  },
  {
   "cell_type": "code",
   "execution_count": 54,
   "id": "515a78ad",
   "metadata": {
    "ExecuteTime": {
     "end_time": "2022-10-24T02:35:44.425970Z",
     "start_time": "2022-10-24T02:35:44.409016Z"
    }
   },
   "outputs": [],
   "source": [
    "a = np.array(['a', 'b', 'b', 'c', 'a'])\n",
    "index, count = np.unique(a, return_counts = True)"
   ]
  },
  {
   "cell_type": "code",
   "execution_count": 55,
   "id": "ea20da1a",
   "metadata": {
    "ExecuteTime": {
     "end_time": "2022-10-24T02:36:04.112811Z",
     "start_time": "2022-10-24T02:36:04.095854Z"
    }
   },
   "outputs": [
    {
     "data": {
      "text/plain": [
       "array(['a', 'b', 'c'], dtype='<U1')"
      ]
     },
     "execution_count": 55,
     "metadata": {},
     "output_type": "execute_result"
    }
   ],
   "source": [
    "index"
   ]
  },
  {
   "cell_type": "code",
   "execution_count": 56,
   "id": "f8a184e2",
   "metadata": {
    "ExecuteTime": {
     "end_time": "2022-10-24T02:36:08.222547Z",
     "start_time": "2022-10-24T02:36:08.207586Z"
    }
   },
   "outputs": [
    {
     "data": {
      "text/plain": [
       "array([2, 2, 1], dtype=int64)"
      ]
     },
     "execution_count": 56,
     "metadata": {},
     "output_type": "execute_result"
    }
   ],
   "source": [
    "count"
   ]
  },
  {
   "cell_type": "markdown",
   "id": "236c2aa6",
   "metadata": {},
   "source": [
    "#### 데이터 생성 함수\n",
    "- Numpy는 주어진 조건으로 데이터를 생성한 후, 배열을 만드는 데이터 생성함수 제공\n",
    "- np.linspace(start, stop, num=50)\n",
    "- np.arange(start, stop, step)\n",
    "- np.logspace"
   ]
  },
  {
   "cell_type": "code",
   "execution_count": 57,
   "id": "fe80189a",
   "metadata": {
    "ExecuteTime": {
     "end_time": "2022-10-24T02:42:02.453619Z",
     "start_time": "2022-10-24T02:42:02.442650Z"
    }
   },
   "outputs": [
    {
     "name": "stdout",
     "output_type": "stream",
     "text": [
      "type: <class 'numpy.ndarray'>\n",
      "shape:(5,), dimension:1, dtype:float64\n",
      "Array's Data: \n",
      " [0.   0.25 0.5  0.75 1.  ]\n"
     ]
    }
   ],
   "source": [
    "a = np.linspace(0, 1, 5)\n",
    "pprint(a)"
   ]
  },
  {
   "cell_type": "code",
   "execution_count": 58,
   "id": "d1b7eb35",
   "metadata": {
    "ExecuteTime": {
     "end_time": "2022-10-24T02:43:42.586658Z",
     "start_time": "2022-10-24T02:43:41.311830Z"
    }
   },
   "outputs": [
    {
     "data": {
      "image/png": "[encoded data removed]",
      "text/plain": [
       "<Figure size 432x288 with 1 Axes>"
      ]
     },
     "metadata": {
      "needs_background": "light"
     },
     "output_type": "display_data"
    }
   ],
   "source": [
    "import matplotlib.pyplot as plt\n",
    "plt.plot(a, 'o')\n",
    "plt.show()"
   ]
  },
  {
   "cell_type": "code",
   "execution_count": 60,
   "id": "5c49dff4",
   "metadata": {
    "ExecuteTime": {
     "end_time": "2022-10-24T02:45:09.074560Z",
     "start_time": "2022-10-24T02:45:09.070574Z"
    }
   },
   "outputs": [
    {
     "name": "stdout",
     "output_type": "stream",
     "text": [
      "type: <class 'numpy.ndarray'>\n",
      "shape:(5,), dimension:1, dtype:float64\n",
      "Array's Data: \n",
      " [0. 2. 4. 6. 8.]\n"
     ]
    }
   ],
   "source": [
    "a = np.arange(0, 10, 2, np.float64)\n",
    "pprint(a)"
   ]
  },
  {
   "cell_type": "code",
   "execution_count": 62,
   "id": "ae376c93",
   "metadata": {
    "ExecuteTime": {
     "end_time": "2022-10-24T02:46:35.314428Z",
     "start_time": "2022-10-24T02:46:35.303456Z"
    }
   },
   "outputs": [
    {
     "name": "stdout",
     "output_type": "stream",
     "text": [
      "type: <class 'numpy.ndarray'>\n",
      "shape:(20,), dimension:1, dtype:float64\n",
      "Array's Data: \n",
      " [ 1.25892541  1.40400425  1.565802    1.74624535  1.94748304  2.1719114\n",
      "  2.42220294  2.70133812  3.0126409   3.35981829  3.74700446  4.17881006\n",
      "  4.66037703  5.19743987  5.79639395  6.46437163  7.2093272   8.04013161\n",
      "  8.9666781  10.        ]\n"
     ]
    }
   ],
   "source": [
    "a = np.logspace(0.1, 1, 20)\n",
    "pprint(a)"
   ]
  },
  {
   "cell_type": "code",
   "execution_count": 63,
   "id": "8359ecad",
   "metadata": {
    "ExecuteTime": {
     "end_time": "2022-10-24T02:46:54.400109Z",
     "start_time": "2022-10-24T02:46:54.287096Z"
    }
   },
   "outputs": [
    {
     "data": {
      "image/png": "[encoded data removed]",
      "text/plain": [
       "<Figure size 432x288 with 1 Axes>"
      ]
     },
     "metadata": {
      "needs_background": "light"
     },
     "output_type": "display_data"
    }
   ],
   "source": [
    "plt.plot(a, 'o')\n",
    "plt.show()"
   ]
  },
  {
   "cell_type": "markdown",
   "id": "54bca317",
   "metadata": {},
   "source": [
    "#### 난수 기반 배열 생성\n",
    "- np.random.normal(loc = 0.0, scale = 1.0, size)\n",
    "- np.random.random\n",
    "- np.random.rand()\n",
    "- np.random.randn()\n",
    "- np.random.randint()"
   ]
  },
  {
   "cell_type": "code",
   "execution_count": 64,
   "id": "c9b1668e",
   "metadata": {
    "ExecuteTime": {
     "end_time": "2022-10-24T02:51:39.414854Z",
     "start_time": "2022-10-24T02:51:39.400891Z"
    }
   },
   "outputs": [
    {
     "name": "stdout",
     "output_type": "stream",
     "text": [
      "type: <class 'numpy.ndarray'>\n",
      "shape:(2, 3), dimension:2, dtype:float64\n",
      "Array's Data: \n",
      " [[-0.81314628 -1.7262826   0.17742614]\n",
      " [-0.40178094 -1.63019835  0.46278226]]\n"
     ]
    }
   ],
   "source": [
    "mean = 0\n",
    "std = 1\n",
    "a = np.random.normal(mean, std, (2, 3))\n",
    "pprint(a)"
   ]
  },
  {
   "cell_type": "code",
   "execution_count": 66,
   "id": "f382c76c",
   "metadata": {
    "ExecuteTime": {
     "end_time": "2022-10-24T02:52:50.504208Z",
     "start_time": "2022-10-24T02:52:50.262463Z"
    }
   },
   "outputs": [
    {
     "data": {
      "image/png": "[encoded data removed]",
      "text/plain": [
       "<Figure size 432x288 with 1 Axes>"
      ]
     },
     "metadata": {
      "needs_background": "light"
     },
     "output_type": "display_data"
    }
   ],
   "source": [
    "data = np.random.normal(0, 1, 10000)\n",
    "plt.hist(data, bins=100)\n",
    "plt.show()"
   ]
  },
  {
   "cell_type": "code",
   "execution_count": 67,
   "id": "3e21951d",
   "metadata": {
    "ExecuteTime": {
     "end_time": "2022-10-24T02:54:11.364263Z",
     "start_time": "2022-10-24T02:54:11.215660Z"
    }
   },
   "outputs": [
    {
     "data": {
      "image/png": "[encoded data removed]",
      "text/plain": [
       "<Figure size 432x288 with 1 Axes>"
      ]
     },
     "metadata": {
      "needs_background": "light"
     },
     "output_type": "display_data"
    }
   ],
   "source": [
    "data = np.random.rand(10000)\n",
    "plt.hist(data, bins = 10)\n",
    "plt.show()"
   ]
  },
  {
   "cell_type": "code",
   "execution_count": 69,
   "id": "8fbe48ff",
   "metadata": {
    "ExecuteTime": {
     "end_time": "2022-10-24T02:55:01.956669Z",
     "start_time": "2022-10-24T02:55:01.855929Z"
    }
   },
   "outputs": [
    {
     "data": {
      "image/png": "[encoded data removed]",
      "text/plain": [
       "<Figure size 432x288 with 1 Axes>"
      ]
     },
     "metadata": {
      "needs_background": "light"
     },
     "output_type": "display_data"
    }
   ],
   "source": [
    "data = np.random.randn(10000)\n",
    "plt.hist(data, bins = 10)\n",
    "plt.show()"
   ]
  },
  {
   "cell_type": "code",
   "execution_count": 71,
   "id": "86f8b708",
   "metadata": {
    "ExecuteTime": {
     "end_time": "2022-10-24T02:55:33.869375Z",
     "start_time": "2022-10-24T02:55:33.758172Z"
    }
   },
   "outputs": [
    {
     "data": {
      "image/png": "[encoded data removed]",
      "text/plain": [
       "<Figure size 432x288 with 1 Axes>"
      ]
     },
     "metadata": {
      "needs_background": "light"
     },
     "output_type": "display_data"
    }
   ],
   "source": [
    "data = np.random.randint(-100, 100, 10000)\n",
    "plt.hist(data, bins = 10)\n",
    "plt.show()"
   ]
  },
  {
   "cell_type": "code",
   "execution_count": 72,
   "id": "7403ad0e",
   "metadata": {
    "ExecuteTime": {
     "end_time": "2022-10-24T02:56:52.564879Z",
     "start_time": "2022-10-24T02:56:52.446969Z"
    }
   },
   "outputs": [
    {
     "data": {
      "image/png": "[encoded data removed]",
      "text/plain": [
       "<Figure size 432x288 with 1 Axes>"
      ]
     },
     "metadata": {
      "needs_background": "light"
     },
     "output_type": "display_data"
    }
   ],
   "source": [
    "data = np.random.random(100000)\n",
    "plt.hist(data, bins = 10)\n",
    "plt.show()"
   ]
  },
  {
   "cell_type": "markdown",
   "id": "9d6f4031",
   "metadata": {},
   "source": [
    "### 3. Numpy 입출력"
   ]
  },
  {
   "cell_type": "markdown",
   "id": "fe8b8043",
   "metadata": {},
   "source": [
    "##### 바이너리(Binary)\n",
    "- np.save() : Numpy 배열 객체 1개를 파일에 저장(확장자 : npy)\n",
    "- np.savez() : Numpy 배열 객체 복수개를 파일에 저장(확장자 : npz)\n",
    "- np.load() : Numpy 배열 저장 파일로부터 객체 로딩\n",
    "##### 텍스트(text)\n",
    "- np.loadtxt() : 텍스트 파일로부터 배열 로딩\n",
    "- np.savetxt() : 텍스트 파일에 Numpy 배열 객체 저장"
   ]
  },
  {
   "cell_type": "code",
   "execution_count": 73,
   "id": "9bea10c9",
   "metadata": {
    "ExecuteTime": {
     "end_time": "2022-10-24T03:13:36.034373Z",
     "start_time": "2022-10-24T03:13:36.014427Z"
    }
   },
   "outputs": [
    {
     "name": "stdout",
     "output_type": "stream",
     "text": [
      "type: <class 'numpy.ndarray'>\n",
      "shape:(2, 3), dimension:2, dtype:int32\n",
      "Array's Data: \n",
      " [[4 7 7]\n",
      " [0 8 6]]\n",
      "type: <class 'numpy.ndarray'>\n",
      "shape:(2, 3), dimension:2, dtype:int32\n",
      "Array's Data: \n",
      " [[6 5 1]\n",
      " [8 7 8]]\n"
     ]
    }
   ],
   "source": [
    "a = np.random.randint(0, 10, (2,3))\n",
    "b = np.random.randint(0, 10, (2,3))\n",
    "\n",
    "pprint(a)\n",
    "pprint(b)"
   ]
  },
  {
   "cell_type": "markdown",
   "id": "11850624",
   "metadata": {},
   "source": [
    "#### 1개 배열 파일에 저장"
   ]
  },
  {
   "cell_type": "code",
   "execution_count": 74,
   "id": "4b962712",
   "metadata": {
    "ExecuteTime": {
     "end_time": "2022-10-24T03:18:57.483281Z",
     "start_time": "2022-10-24T03:18:57.471311Z"
    }
   },
   "outputs": [],
   "source": [
    "np.save('my_array1', a)"
   ]
  },
  {
   "cell_type": "code",
   "execution_count": 76,
   "id": "54563e82",
   "metadata": {
    "ExecuteTime": {
     "end_time": "2022-10-24T03:20:51.656986Z",
     "start_time": "2022-10-24T03:20:51.614843Z"
    }
   },
   "outputs": [
    {
     "name": "stdout",
     "output_type": "stream",
     "text": [
      " C 드라이브의 볼륨에는 이름이 없습니다.\n",
      " 볼륨 일련 번호: A051-66A5\n",
      "\n",
      " C:\\K_digital\\source\\Data_Science_with_Python 디렉터리\n",
      "\n",
      "2022-10-24  오후 12:19    <DIR>          .\n",
      "2022-10-24  오후 12:19    <DIR>          ..\n",
      "2022-10-24  오전 09:24    <DIR>          .ipynb_checkpoints\n",
      "2022-10-24  오후 12:19            74,487 1.Numpy.ipynb\n",
      "2022-10-24  오후 12:18               152 my_array1.npy\n",
      "2022-10-24  오전 10:19               176 teacher.py\n",
      "2022-10-24  오전 10:23    <DIR>          __pycache__\n",
      "               3개 파일              74,815 바이트\n",
      "               4개 디렉터리  172,484,292,608 바이트 남음\n"
     ]
    }
   ],
   "source": [
    "!dir"
   ]
  },
  {
   "cell_type": "code",
   "execution_count": 77,
   "id": "0cdce679",
   "metadata": {
    "ExecuteTime": {
     "end_time": "2022-10-24T03:21:54.013169Z",
     "start_time": "2022-10-24T03:21:53.998209Z"
    }
   },
   "outputs": [],
   "source": [
    "np.savez('my_array2', a, b)"
   ]
  },
  {
   "cell_type": "code",
   "execution_count": 78,
   "id": "9b50c00a",
   "metadata": {
    "ExecuteTime": {
     "end_time": "2022-10-24T03:23:20.114411Z",
     "start_time": "2022-10-24T03:23:20.095462Z"
    }
   },
   "outputs": [
    {
     "data": {
      "text/plain": [
       "array([[4, 7, 7],\n",
       "       [0, 8, 6]])"
      ]
     },
     "execution_count": 78,
     "metadata": {},
     "output_type": "execute_result"
    }
   ],
   "source": [
    "np.load('my_array1.npy')"
   ]
  },
  {
   "cell_type": "code",
   "execution_count": 80,
   "id": "a4db269c",
   "metadata": {
    "ExecuteTime": {
     "end_time": "2022-10-24T03:24:04.141805Z",
     "start_time": "2022-10-24T03:24:04.131829Z"
    }
   },
   "outputs": [],
   "source": [
    "x = np.load('my_array2.npz')"
   ]
  },
  {
   "cell_type": "code",
   "execution_count": 82,
   "id": "7bd54d1f",
   "metadata": {
    "ExecuteTime": {
     "end_time": "2022-10-24T03:24:39.717185Z",
     "start_time": "2022-10-24T03:24:39.700231Z"
    }
   },
   "outputs": [
    {
     "data": {
      "text/plain": [
       "['arr_0', 'arr_1']"
      ]
     },
     "execution_count": 82,
     "metadata": {},
     "output_type": "execute_result"
    }
   ],
   "source": [
    "x.files"
   ]
  },
  {
   "cell_type": "code",
   "execution_count": 83,
   "id": "1f92676a",
   "metadata": {
    "ExecuteTime": {
     "end_time": "2022-10-24T03:25:07.746200Z",
     "start_time": "2022-10-24T03:25:07.740216Z"
    }
   },
   "outputs": [
    {
     "data": {
      "text/plain": [
       "array([[4, 7, 7],\n",
       "       [0, 8, 6]])"
      ]
     },
     "execution_count": 83,
     "metadata": {},
     "output_type": "execute_result"
    }
   ],
   "source": [
    "x['arr_0']"
   ]
  },
  {
   "cell_type": "code",
   "execution_count": 84,
   "id": "54bedaa7",
   "metadata": {
    "ExecuteTime": {
     "end_time": "2022-10-24T03:25:15.070914Z",
     "start_time": "2022-10-24T03:25:15.062936Z"
    }
   },
   "outputs": [
    {
     "data": {
      "text/plain": [
       "array([[6, 5, 1],\n",
       "       [8, 7, 8]])"
      ]
     },
     "execution_count": 84,
     "metadata": {},
     "output_type": "execute_result"
    }
   ],
   "source": [
    "x['arr_1']"
   ]
  },
  {
   "cell_type": "markdown",
   "id": "282026e3",
   "metadata": {},
   "source": [
    "### 4. Numpy 데이터 타입"
   ]
  },
  {
   "cell_type": "code",
   "execution_count": null,
   "id": "9a8dd5d3",
   "metadata": {},
   "outputs": [],
   "source": []
  },
  {
   "cell_type": "markdown",
   "id": "25bec44c",
   "metadata": {},
   "source": [
    "### 5. Inspecting : 배열 상태 검사"
   ]
  },
  {
   "cell_type": "code",
   "execution_count": 85,
   "id": "1c4fa032",
   "metadata": {
    "ExecuteTime": {
     "end_time": "2022-10-24T03:34:33.673466Z",
     "start_time": "2022-10-24T03:34:33.669473Z"
    }
   },
   "outputs": [],
   "source": [
    "arr = np.random.random((5,2,3))"
   ]
  },
  {
   "cell_type": "code",
   "execution_count": 86,
   "id": "bfaeb1b8",
   "metadata": {
    "ExecuteTime": {
     "end_time": "2022-10-24T03:34:53.510263Z",
     "start_time": "2022-10-24T03:34:53.494306Z"
    }
   },
   "outputs": [
    {
     "data": {
      "text/plain": [
       "<class 'numpy.ndarray'>"
      ]
     },
     "execution_count": 86,
     "metadata": {},
     "output_type": "execute_result"
    }
   ],
   "source": [
    "# 배열 타입\n",
    "type(arr)"
   ]
  },
  {
   "cell_type": "code",
   "execution_count": 87,
   "id": "69af6b24",
   "metadata": {
    "ExecuteTime": {
     "end_time": "2022-10-24T03:36:22.682240Z",
     "start_time": "2022-10-24T03:36:22.677255Z"
    }
   },
   "outputs": [
    {
     "data": {
      "text/plain": [
       "(5, 2, 3)"
      ]
     },
     "execution_count": 87,
     "metadata": {},
     "output_type": "execute_result"
    }
   ],
   "source": [
    "# 배열 shape 확인\n",
    "arr.shape"
   ]
  },
  {
   "cell_type": "code",
   "execution_count": 88,
   "id": "918a966f",
   "metadata": {
    "ExecuteTime": {
     "end_time": "2022-10-24T03:36:51.838889Z",
     "start_time": "2022-10-24T03:36:51.829914Z"
    }
   },
   "outputs": [
    {
     "data": {
      "text/plain": [
       "5"
      ]
     },
     "execution_count": 88,
     "metadata": {},
     "output_type": "execute_result"
    }
   ],
   "source": [
    "# 배열의 길이\n",
    "len(arr)"
   ]
  },
  {
   "cell_type": "code",
   "execution_count": 89,
   "id": "13f9f274",
   "metadata": {
    "ExecuteTime": {
     "end_time": "2022-10-24T03:41:00.114423Z",
     "start_time": "2022-10-24T03:41:00.102455Z"
    }
   },
   "outputs": [
    {
     "data": {
      "text/plain": [
       "3"
      ]
     },
     "execution_count": 89,
     "metadata": {},
     "output_type": "execute_result"
    }
   ],
   "source": [
    "# 배열의 차원 수\n",
    "arr.ndim"
   ]
  },
  {
   "cell_type": "code",
   "execution_count": 90,
   "id": "668e3ec3",
   "metadata": {
    "ExecuteTime": {
     "end_time": "2022-10-24T03:41:41.777294Z",
     "start_time": "2022-10-24T03:41:41.765310Z"
    }
   },
   "outputs": [
    {
     "data": {
      "text/plain": [
       "30"
      ]
     },
     "execution_count": 90,
     "metadata": {},
     "output_type": "execute_result"
    }
   ],
   "source": [
    "# 배열의 요소 수 : shape(k, m, n) = k * m * n\n",
    "arr.size"
   ]
  },
  {
   "cell_type": "code",
   "execution_count": 91,
   "id": "518a80ed",
   "metadata": {
    "ExecuteTime": {
     "end_time": "2022-10-24T03:42:21.367032Z",
     "start_time": "2022-10-24T03:42:21.358057Z"
    }
   },
   "outputs": [
    {
     "data": {
      "text/plain": [
       "dtype('float64')"
      ]
     },
     "execution_count": 91,
     "metadata": {},
     "output_type": "execute_result"
    }
   ],
   "source": [
    "# 배열 데이터 타입\n",
    "arr.dtype"
   ]
  },
  {
   "cell_type": "code",
   "execution_count": 92,
   "id": "6d2f25b0",
   "metadata": {
    "ExecuteTime": {
     "end_time": "2022-10-24T03:42:40.527931Z",
     "start_time": "2022-10-24T03:42:40.516942Z"
    }
   },
   "outputs": [
    {
     "data": {
      "text/plain": [
       "'float64'"
      ]
     },
     "execution_count": 92,
     "metadata": {},
     "output_type": "execute_result"
    }
   ],
   "source": [
    "arr.dtype.name"
   ]
  },
  {
   "cell_type": "code",
   "execution_count": 93,
   "id": "5874118f",
   "metadata": {
    "ExecuteTime": {
     "end_time": "2022-10-24T03:44:12.584403Z",
     "start_time": "2022-10-24T03:44:12.573433Z"
    }
   },
   "outputs": [
    {
     "data": {
      "text/plain": [
       "array([[[0, 0, 0],\n",
       "        [0, 0, 0]],\n",
       "\n",
       "       [[0, 0, 0],\n",
       "        [0, 0, 0]],\n",
       "\n",
       "       [[0, 0, 0],\n",
       "        [0, 0, 0]],\n",
       "\n",
       "       [[0, 0, 0],\n",
       "        [0, 0, 0]],\n",
       "\n",
       "       [[0, 0, 0],\n",
       "        [0, 0, 0]]], dtype=int64)"
      ]
     },
     "execution_count": 93,
     "metadata": {},
     "output_type": "execute_result"
    }
   ],
   "source": [
    "arr.astype(np.int64)"
   ]
  },
  {
   "cell_type": "code",
   "execution_count": 94,
   "id": "8cbcc8ad",
   "metadata": {
    "ExecuteTime": {
     "end_time": "2022-10-24T03:44:54.465941Z",
     "start_time": "2022-10-24T03:44:54.452978Z"
    }
   },
   "outputs": [
    {
     "data": {
      "text/plain": [
       "array([[[0.37009769, 0.5065834 , 0.56676115],\n",
       "        [0.2013878 , 0.21853131, 0.86432134]],\n",
       "\n",
       "       [[0.52067868, 0.00969068, 0.33849607],\n",
       "        [0.23990588, 0.32759363, 0.7392917 ]],\n",
       "\n",
       "       [[0.38451632, 0.61807085, 0.08275969],\n",
       "        [0.53914108, 0.30559355, 0.40753669]],\n",
       "\n",
       "       [[0.41433384, 0.48926949, 0.27414302],\n",
       "        [0.09610475, 0.874173  , 0.79537054]],\n",
       "\n",
       "       [[0.35719147, 0.16303648, 0.67438382],\n",
       "        [0.41346655, 0.20499068, 0.27910769]]])"
      ]
     },
     "execution_count": 94,
     "metadata": {},
     "output_type": "execute_result"
    }
   ],
   "source": [
    "arr.astype(np.float64)"
   ]
  },
  {
   "cell_type": "markdown",
   "id": "d20a9dee",
   "metadata": {},
   "source": [
    "### 6. 도움말 "
   ]
  },
  {
   "cell_type": "code",
   "execution_count": 95,
   "id": "3d047823",
   "metadata": {
    "ExecuteTime": {
     "end_time": "2022-10-24T03:46:32.460498Z",
     "start_time": "2022-10-24T03:46:32.445538Z"
    }
   },
   "outputs": [
    {
     "name": "stdout",
     "output_type": "stream",
     "text": [
      "Data-type of the array's elements.\n",
      "\n",
      "Parameters\n",
      "----------\n",
      "None\n",
      "\n",
      "Returns\n",
      "-------\n",
      "d : numpy dtype object\n",
      "\n",
      "See Also\n",
      "--------\n",
      "numpy.dtype\n",
      "\n",
      "Examples\n",
      "--------\n",
      ">>> x\n",
      "array([[0, 1],\n",
      "       [2, 3]])\n",
      ">>> x.dtype\n",
      "dtype('int32')\n",
      ">>> type(x.dtype)\n",
      "<type 'numpy.dtype'>\n"
     ]
    }
   ],
   "source": [
    "np.info(np.ndarray.dtype)"
   ]
  },
  {
   "cell_type": "markdown",
   "id": "3ab4ea41",
   "metadata": {},
   "source": [
    "### 7. 배열 연산"
   ]
  },
  {
   "cell_type": "code",
   "execution_count": 96,
   "id": "637e8d89",
   "metadata": {
    "ExecuteTime": {
     "end_time": "2022-10-24T05:05:15.383187Z",
     "start_time": "2022-10-24T05:05:15.378198Z"
    }
   },
   "outputs": [
    {
     "name": "stdout",
     "output_type": "stream",
     "text": [
      "type: <class 'numpy.ndarray'>\n",
      "shape:(3, 3), dimension:2, dtype:int32\n",
      "Array's Data: \n",
      " [[1 2 3]\n",
      " [4 5 6]\n",
      " [7 8 9]]\n"
     ]
    }
   ],
   "source": [
    "# arange(1,10) : 1부터 10미만의 범위에서 1씩 증가하는 배열 생성\n",
    "a = np.arange(1,10).reshape(3, 3)\n",
    "pprint(a)"
   ]
  },
  {
   "cell_type": "code",
   "execution_count": 98,
   "id": "526ddc6a",
   "metadata": {
    "ExecuteTime": {
     "end_time": "2022-10-24T05:06:39.465158Z",
     "start_time": "2022-10-24T05:06:39.455185Z"
    }
   },
   "outputs": [
    {
     "name": "stdout",
     "output_type": "stream",
     "text": [
      "type: <class 'numpy.ndarray'>\n",
      "shape:(3, 3), dimension:2, dtype:int32\n",
      "Array's Data: \n",
      " [[9 8 7]\n",
      " [6 5 4]\n",
      " [3 2 1]]\n"
     ]
    }
   ],
   "source": [
    "b = np.arange(9, 0, -1).reshape(3, 3)\n",
    "pprint(b)"
   ]
  },
  {
   "cell_type": "code",
   "execution_count": 104,
   "id": "cdecd2c3",
   "metadata": {
    "ExecuteTime": {
     "end_time": "2022-10-24T05:09:27.531209Z",
     "start_time": "2022-10-24T05:09:27.520237Z"
    }
   },
   "outputs": [
    {
     "data": {
      "text/plain": [
       "array([[10, 10, 10],\n",
       "       [10, 10, 10],\n",
       "       [10, 10, 10]])"
      ]
     },
     "execution_count": 104,
     "metadata": {},
     "output_type": "execute_result"
    }
   ],
   "source": [
    "a + b\n",
    "np.add(a, b)"
   ]
  },
  {
   "cell_type": "code",
   "execution_count": 103,
   "id": "ed0225c2",
   "metadata": {
    "ExecuteTime": {
     "end_time": "2022-10-24T05:09:25.743678Z",
     "start_time": "2022-10-24T05:09:25.735701Z"
    }
   },
   "outputs": [
    {
     "data": {
      "text/plain": [
       "array([[-8, -6, -4],\n",
       "       [-2,  0,  2],\n",
       "       [ 4,  6,  8]])"
      ]
     },
     "execution_count": 103,
     "metadata": {},
     "output_type": "execute_result"
    }
   ],
   "source": [
    "a - b\n",
    "np.subtract(a, b)"
   ]
  },
  {
   "cell_type": "code",
   "execution_count": 105,
   "id": "5c7bda6e",
   "metadata": {
    "ExecuteTime": {
     "end_time": "2022-10-24T05:10:22.079586Z",
     "start_time": "2022-10-24T05:10:22.063628Z"
    }
   },
   "outputs": [
    {
     "data": {
      "text/plain": [
       "array([[ 9, 16, 21],\n",
       "       [24, 25, 24],\n",
       "       [21, 16,  9]])"
      ]
     },
     "execution_count": 105,
     "metadata": {},
     "output_type": "execute_result"
    }
   ],
   "source": [
    "a * b\n",
    "np.multiply(a, b)"
   ]
  },
  {
   "cell_type": "code",
   "execution_count": 102,
   "id": "f6e82282",
   "metadata": {
    "ExecuteTime": {
     "end_time": "2022-10-24T05:07:58.935874Z",
     "start_time": "2022-10-24T05:07:58.919913Z"
    }
   },
   "outputs": [
    {
     "data": {
      "text/plain": [
       "array([[0.11111111, 0.25      , 0.42857143],\n",
       "       [0.66666667, 1.        , 1.5       ],\n",
       "       [2.33333333, 4.        , 9.        ]])"
      ]
     },
     "execution_count": 102,
     "metadata": {},
     "output_type": "execute_result"
    }
   ],
   "source": [
    "a / b"
   ]
  },
  {
   "cell_type": "code",
   "execution_count": 106,
   "id": "8565e193",
   "metadata": {
    "ExecuteTime": {
     "end_time": "2022-10-24T05:10:56.994600Z",
     "start_time": "2022-10-24T05:10:56.976045Z"
    }
   },
   "outputs": [
    {
     "data": {
      "text/plain": [
       "array([[8.10308393e+03, 2.98095799e+03, 1.09663316e+03],\n",
       "       [4.03428793e+02, 1.48413159e+02, 5.45981500e+01],\n",
       "       [2.00855369e+01, 7.38905610e+00, 2.71828183e+00]])"
      ]
     },
     "execution_count": 106,
     "metadata": {},
     "output_type": "execute_result"
    }
   ],
   "source": [
    "# 지수연산\n",
    "np.exp(b)"
   ]
  },
  {
   "cell_type": "code",
   "execution_count": 107,
   "id": "375f3dae",
   "metadata": {
    "ExecuteTime": {
     "end_time": "2022-10-24T05:11:30.361392Z",
     "start_time": "2022-10-24T05:11:30.352415Z"
    }
   },
   "outputs": [
    {
     "data": {
      "text/plain": [
       "array([[1.        , 1.41421356, 1.73205081],\n",
       "       [2.        , 2.23606798, 2.44948974],\n",
       "       [2.64575131, 2.82842712, 3.        ]])"
      ]
     },
     "execution_count": 107,
     "metadata": {},
     "output_type": "execute_result"
    }
   ],
   "source": [
    "# 제곱근\n",
    "np.sqrt(a)"
   ]
  },
  {
   "cell_type": "code",
   "execution_count": 108,
   "id": "ca0e345d",
   "metadata": {
    "ExecuteTime": {
     "end_time": "2022-10-24T05:11:38.160116Z",
     "start_time": "2022-10-24T05:11:38.144159Z"
    }
   },
   "outputs": [
    {
     "data": {
      "text/plain": [
       "array([[ 0.84147098,  0.90929743,  0.14112001],\n",
       "       [-0.7568025 , -0.95892427, -0.2794155 ],\n",
       "       [ 0.6569866 ,  0.98935825,  0.41211849]])"
      ]
     },
     "execution_count": 108,
     "metadata": {},
     "output_type": "execute_result"
    }
   ],
   "source": [
    "np.sin(a)"
   ]
  },
  {
   "cell_type": "code",
   "execution_count": 109,
   "id": "92ef4236",
   "metadata": {
    "ExecuteTime": {
     "end_time": "2022-10-24T05:11:41.259399Z",
     "start_time": "2022-10-24T05:11:41.247432Z"
    }
   },
   "outputs": [
    {
     "data": {
      "text/plain": [
       "array([[ 0.54030231, -0.41614684, -0.9899925 ],\n",
       "       [-0.65364362,  0.28366219,  0.96017029],\n",
       "       [ 0.75390225, -0.14550003, -0.91113026]])"
      ]
     },
     "execution_count": 109,
     "metadata": {},
     "output_type": "execute_result"
    }
   ],
   "source": [
    "np.cos(a)"
   ]
  },
  {
   "cell_type": "code",
   "execution_count": 110,
   "id": "d75235ee",
   "metadata": {
    "ExecuteTime": {
     "end_time": "2022-10-24T05:11:46.432004Z",
     "start_time": "2022-10-24T05:11:46.416047Z"
    }
   },
   "outputs": [
    {
     "data": {
      "text/plain": [
       "array([[ 1.55740772, -2.18503986, -0.14254654],\n",
       "       [ 1.15782128, -3.38051501, -0.29100619],\n",
       "       [ 0.87144798, -6.79971146, -0.45231566]])"
      ]
     },
     "execution_count": 110,
     "metadata": {},
     "output_type": "execute_result"
    }
   ],
   "source": [
    "np.tan(a)"
   ]
  },
  {
   "cell_type": "code",
   "execution_count": 111,
   "id": "36cbf39a",
   "metadata": {
    "ExecuteTime": {
     "end_time": "2022-10-24T05:11:56.908589Z",
     "start_time": "2022-10-24T05:11:56.897618Z"
    }
   },
   "outputs": [
    {
     "data": {
      "text/plain": [
       "array([[0.        , 0.69314718, 1.09861229],\n",
       "       [1.38629436, 1.60943791, 1.79175947],\n",
       "       [1.94591015, 2.07944154, 2.19722458]])"
      ]
     },
     "execution_count": 111,
     "metadata": {},
     "output_type": "execute_result"
    }
   ],
   "source": [
    "np.log(a)"
   ]
  },
  {
   "cell_type": "code",
   "execution_count": 112,
   "id": "e80837cb",
   "metadata": {
    "ExecuteTime": {
     "end_time": "2022-10-24T05:12:45.525149Z",
     "start_time": "2022-10-24T05:12:45.512184Z"
    }
   },
   "outputs": [
    {
     "data": {
      "text/plain": [
       "array([[ 30,  24,  18],\n",
       "       [ 84,  69,  54],\n",
       "       [138, 114,  90]])"
      ]
     },
     "execution_count": 112,
     "metadata": {},
     "output_type": "execute_result"
    }
   ],
   "source": [
    "# 내적 = 행렬곱\n",
    "np.dot(a, b)"
   ]
  },
  {
   "cell_type": "code",
   "execution_count": 119,
   "id": "32162c30",
   "metadata": {
    "ExecuteTime": {
     "end_time": "2022-10-24T05:18:21.012071Z",
     "start_time": "2022-10-24T05:18:21.001100Z"
    }
   },
   "outputs": [],
   "source": [
    "x = np.array([[1,2],[3,4]])\n",
    "y = np.array([[3,4],[5,6]])"
   ]
  },
  {
   "cell_type": "code",
   "execution_count": 117,
   "id": "617b571c",
   "metadata": {
    "ExecuteTime": {
     "end_time": "2022-10-24T05:17:48.686580Z",
     "start_time": "2022-10-24T05:17:48.677604Z"
    }
   },
   "outputs": [
    {
     "data": {
      "text/plain": [
       "array([[1, 2],\n",
       "       [3, 4]])"
      ]
     },
     "execution_count": 117,
     "metadata": {},
     "output_type": "execute_result"
    }
   ],
   "source": [
    "x"
   ]
  },
  {
   "cell_type": "code",
   "execution_count": 120,
   "id": "52230e0a",
   "metadata": {
    "ExecuteTime": {
     "end_time": "2022-10-24T05:18:26.389194Z",
     "start_time": "2022-10-24T05:18:26.382228Z"
    }
   },
   "outputs": [
    {
     "data": {
      "text/plain": [
       "array([[13, 16],\n",
       "       [29, 36]])"
      ]
     },
     "execution_count": 120,
     "metadata": {},
     "output_type": "execute_result"
    }
   ],
   "source": [
    "np.dot(x,y)"
   ]
  },
  {
   "cell_type": "code",
   "execution_count": null,
   "id": "62b45636",
   "metadata": {},
   "outputs": [],
   "source": [
    "# 배열 전체를 비교\n",
    "np.array_equal(a,b)"
   ]
  },
  {
   "cell_type": "markdown",
   "id": "bba78c08",
   "metadata": {},
   "source": [
    "#### 집계함수(Aggregate Function)\n",
    "- Axis(축)을 기준으로 계산한다.\n",
    "- axis = None, 0, 1\n",
    "- axis = None : 전체 행렬을 하나의 배열로 간주\n",
    "- axis = 0 : 열 단위로 그룹화하여 연산 수행\n",
    "- axis = 1 : 행 단위로 그룹화하여 연산 수행"
   ]
  },
  {
   "cell_type": "code",
   "execution_count": 121,
   "id": "cb9bc3ab",
   "metadata": {
    "ExecuteTime": {
     "end_time": "2022-10-24T05:23:39.489260Z",
     "start_time": "2022-10-24T05:23:39.481771Z"
    }
   },
   "outputs": [
    {
     "name": "stdout",
     "output_type": "stream",
     "text": [
      "type: <class 'numpy.ndarray'>\n",
      "shape:(3, 3), dimension:2, dtype:int32\n",
      "Array's Data: \n",
      " [[1 2 3]\n",
      " [4 5 6]\n",
      " [7 8 9]]\n"
     ]
    }
   ],
   "source": [
    "a = np.arange(1, 10).reshape(3, 3)\n",
    "pprint(a)"
   ]
  },
  {
   "cell_type": "code",
   "execution_count": 122,
   "id": "0be47fd3",
   "metadata": {
    "ExecuteTime": {
     "end_time": "2022-10-24T05:24:57.130637Z",
     "start_time": "2022-10-24T05:24:57.119668Z"
    }
   },
   "outputs": [
    {
     "data": {
      "text/plain": [
       "(45, 45)"
      ]
     },
     "execution_count": 122,
     "metadata": {},
     "output_type": "execute_result"
    }
   ],
   "source": [
    "# axis = None\n",
    "a.sum(), np.sum(a)"
   ]
  },
  {
   "cell_type": "code",
   "execution_count": 124,
   "id": "ff81eaa1",
   "metadata": {
    "ExecuteTime": {
     "end_time": "2022-10-24T05:28:31.607980Z",
     "start_time": "2022-10-24T05:28:31.599997Z"
    }
   },
   "outputs": [
    {
     "data": {
      "text/plain": [
       "(array([12, 15, 18]), array([12, 15, 18]))"
      ]
     },
     "execution_count": 124,
     "metadata": {},
     "output_type": "execute_result"
    }
   ],
   "source": [
    "# axis = 0, 열단위로 계산\n",
    "a.sum(axis=0), np.sum(a, axis=0)"
   ]
  },
  {
   "cell_type": "code",
   "execution_count": 125,
   "id": "9f86b12b",
   "metadata": {
    "ExecuteTime": {
     "end_time": "2022-10-24T05:30:07.658966Z",
     "start_time": "2022-10-24T05:30:07.647996Z"
    }
   },
   "outputs": [
    {
     "data": {
      "text/plain": [
       "(array([ 6, 15, 24]), array([ 6, 15, 24]))"
      ]
     },
     "execution_count": 125,
     "metadata": {},
     "output_type": "execute_result"
    }
   ],
   "source": [
    "# axis=1, 행단위로 계산\n",
    "a.sum(axis=1), np.sum(a, axis=1)"
   ]
  },
  {
   "cell_type": "code",
   "execution_count": 126,
   "id": "eae8b337",
   "metadata": {
    "ExecuteTime": {
     "end_time": "2022-10-24T05:30:34.140617Z",
     "start_time": "2022-10-24T05:30:34.133631Z"
    }
   },
   "outputs": [
    {
     "data": {
      "text/plain": [
       "(1, 1)"
      ]
     },
     "execution_count": 126,
     "metadata": {},
     "output_type": "execute_result"
    }
   ],
   "source": [
    "# min\n",
    "a.min(), np.min(a)"
   ]
  },
  {
   "cell_type": "code",
   "execution_count": 127,
   "id": "92ca5451",
   "metadata": {
    "ExecuteTime": {
     "end_time": "2022-10-24T05:31:30.608601Z",
     "start_time": "2022-10-24T05:31:30.600623Z"
    }
   },
   "outputs": [
    {
     "data": {
      "text/plain": [
       "(array([1, 2, 3]), array([1, 2, 3]))"
      ]
     },
     "execution_count": 127,
     "metadata": {},
     "output_type": "execute_result"
    }
   ],
   "source": [
    "a.min(axis = 0), np.min(a, axis=0)"
   ]
  },
  {
   "cell_type": "code",
   "execution_count": 128,
   "id": "eb7c025c",
   "metadata": {
    "ExecuteTime": {
     "end_time": "2022-10-24T05:31:39.323555Z",
     "start_time": "2022-10-24T05:31:39.311600Z"
    }
   },
   "outputs": [
    {
     "data": {
      "text/plain": [
       "(array([1, 4, 7]), array([1, 4, 7]))"
      ]
     },
     "execution_count": 128,
     "metadata": {},
     "output_type": "execute_result"
    }
   ],
   "source": [
    "a.min(axis = 1), np.min(a, axis = 1)"
   ]
  },
  {
   "cell_type": "code",
   "execution_count": 129,
   "id": "76232d17",
   "metadata": {
    "ExecuteTime": {
     "end_time": "2022-10-24T05:31:57.860244Z",
     "start_time": "2022-10-24T05:31:57.848259Z"
    }
   },
   "outputs": [
    {
     "data": {
      "text/plain": [
       "(9, 9)"
      ]
     },
     "execution_count": 129,
     "metadata": {},
     "output_type": "execute_result"
    }
   ],
   "source": [
    "# max\n",
    "a.max(), np.max(a)"
   ]
  },
  {
   "cell_type": "code",
   "execution_count": 131,
   "id": "fec77b4e",
   "metadata": {
    "ExecuteTime": {
     "end_time": "2022-10-24T05:32:29.499832Z",
     "start_time": "2022-10-24T05:32:29.493840Z"
    }
   },
   "outputs": [
    {
     "data": {
      "text/plain": [
       "(array([7, 8, 9]), array([7, 8, 9]))"
      ]
     },
     "execution_count": 131,
     "metadata": {},
     "output_type": "execute_result"
    }
   ],
   "source": [
    "a.max(axis = 0), np.max(a, axis = 0)"
   ]
  },
  {
   "cell_type": "code",
   "execution_count": 130,
   "id": "ee66890a",
   "metadata": {
    "ExecuteTime": {
     "end_time": "2022-10-24T05:32:15.848705Z",
     "start_time": "2022-10-24T05:32:15.829730Z"
    }
   },
   "outputs": [
    {
     "data": {
      "text/plain": [
       "(array([3, 6, 9]), array([3, 6, 9]))"
      ]
     },
     "execution_count": 130,
     "metadata": {},
     "output_type": "execute_result"
    }
   ],
   "source": [
    "a.max(axis = 1), np.max(a, axis = 1)"
   ]
  },
  {
   "cell_type": "code",
   "execution_count": 132,
   "id": "07f01a71",
   "metadata": {
    "ExecuteTime": {
     "end_time": "2022-10-24T05:34:53.729319Z",
     "start_time": "2022-10-24T05:34:53.720348Z"
    }
   },
   "outputs": [
    {
     "data": {
      "text/plain": [
       "(array([ 1,  3,  6, 10, 15, 21, 28, 36, 45], dtype=int32), array([ 1,  3,  6, 10, 15, 21, 28, 36, 45], dtype=int32))"
      ]
     },
     "execution_count": 132,
     "metadata": {},
     "output_type": "execute_result"
    }
   ],
   "source": [
    "# 누적합계 : cumsum\n",
    "a.cumsum(), np.cumsum(a)"
   ]
  },
  {
   "cell_type": "code",
   "execution_count": 133,
   "id": "a2fa88ee",
   "metadata": {
    "ExecuteTime": {
     "end_time": "2022-10-24T05:35:12.772242Z",
     "start_time": "2022-10-24T05:35:12.761272Z"
    }
   },
   "outputs": [
    {
     "data": {
      "text/plain": [
       "(array([[ 1,  2,  3],\n",
       "       [ 5,  7,  9],\n",
       "       [12, 15, 18]], dtype=int32), array([[ 1,  2,  3],\n",
       "       [ 5,  7,  9],\n",
       "       [12, 15, 18]], dtype=int32))"
      ]
     },
     "execution_count": 133,
     "metadata": {},
     "output_type": "execute_result"
    }
   ],
   "source": [
    "a.cumsum(axis = 0), np.cumsum(a, axis = 0)"
   ]
  },
  {
   "cell_type": "code",
   "execution_count": 134,
   "id": "5e3d976b",
   "metadata": {
    "ExecuteTime": {
     "end_time": "2022-10-24T05:35:17.719755Z",
     "start_time": "2022-10-24T05:35:17.702800Z"
    }
   },
   "outputs": [
    {
     "data": {
      "text/plain": [
       "(array([[ 1,  3,  6],\n",
       "       [ 4,  9, 15],\n",
       "       [ 7, 15, 24]], dtype=int32), array([[ 1,  3,  6],\n",
       "       [ 4,  9, 15],\n",
       "       [ 7, 15, 24]], dtype=int32))"
      ]
     },
     "execution_count": 134,
     "metadata": {},
     "output_type": "execute_result"
    }
   ],
   "source": [
    "a.cumsum(axis = 1), np.cumsum(a, axis = 1)"
   ]
  },
  {
   "cell_type": "code",
   "execution_count": 135,
   "id": "b7bad5a2",
   "metadata": {
    "ExecuteTime": {
     "end_time": "2022-10-24T05:39:03.198978Z",
     "start_time": "2022-10-24T05:39:03.183015Z"
    }
   },
   "outputs": [
    {
     "data": {
      "text/plain": [
       "(5.0, 5.0)"
      ]
     },
     "execution_count": 135,
     "metadata": {},
     "output_type": "execute_result"
    }
   ],
   "source": [
    "# 평군 mean\n",
    "a.mean(), np.mean(a)"
   ]
  },
  {
   "cell_type": "code",
   "execution_count": 136,
   "id": "c38d1c70",
   "metadata": {
    "ExecuteTime": {
     "end_time": "2022-10-24T05:39:33.629565Z",
     "start_time": "2022-10-24T05:39:33.622583Z"
    }
   },
   "outputs": [
    {
     "data": {
      "text/plain": [
       "(array([4., 5., 6.]), array([4., 5., 6.]))"
      ]
     },
     "execution_count": 136,
     "metadata": {},
     "output_type": "execute_result"
    }
   ],
   "source": [
    "a.mean(axis = 0), np.mean(a, axis = 0)"
   ]
  },
  {
   "cell_type": "code",
   "execution_count": 137,
   "id": "23344efb",
   "metadata": {
    "ExecuteTime": {
     "end_time": "2022-10-24T05:40:14.474928Z",
     "start_time": "2022-10-24T05:40:14.463958Z"
    }
   },
   "outputs": [
    {
     "data": {
      "text/plain": [
       "(array([2., 5., 8.]), array([2., 5., 8.]))"
      ]
     },
     "execution_count": 137,
     "metadata": {},
     "output_type": "execute_result"
    }
   ],
   "source": [
    "a.mean(axis = 1), np.mean(a, axis = 1)"
   ]
  },
  {
   "cell_type": "code",
   "execution_count": 138,
   "id": "13bee681",
   "metadata": {
    "ExecuteTime": {
     "end_time": "2022-10-24T05:44:12.517219Z",
     "start_time": "2022-10-24T05:44:12.503258Z"
    }
   },
   "outputs": [
    {
     "data": {
      "text/plain": [
       "5.0"
      ]
     },
     "execution_count": 138,
     "metadata": {},
     "output_type": "execute_result"
    }
   ],
   "source": [
    "# 중간값\n",
    "np.median(a)"
   ]
  },
  {
   "cell_type": "code",
   "execution_count": 139,
   "id": "3dd5f968",
   "metadata": {
    "ExecuteTime": {
     "end_time": "2022-10-24T05:44:22.174300Z",
     "start_time": "2022-10-24T05:44:22.159343Z"
    }
   },
   "outputs": [
    {
     "data": {
      "text/plain": [
       "array([[1., 1., 1.],\n",
       "       [1., 1., 1.],\n",
       "       [1., 1., 1.]])"
      ]
     },
     "execution_count": 139,
     "metadata": {},
     "output_type": "execute_result"
    }
   ],
   "source": [
    "# 상관계수\n",
    "np.corrcoef(a)"
   ]
  },
  {
   "cell_type": "code",
   "execution_count": 140,
   "id": "cbfdd121",
   "metadata": {
    "ExecuteTime": {
     "end_time": "2022-10-24T05:44:38.537440Z",
     "start_time": "2022-10-24T05:44:38.527468Z"
    }
   },
   "outputs": [
    {
     "data": {
      "text/plain": [
       "(2.581988897471611, 2.581988897471611)"
      ]
     },
     "execution_count": 140,
     "metadata": {},
     "output_type": "execute_result"
    }
   ],
   "source": [
    "# 표준편차\n",
    "a.std(), np.std(a)"
   ]
  },
  {
   "cell_type": "markdown",
   "id": "9c798dc8",
   "metadata": {},
   "source": [
    "#### 브로드캐스팅(Broadcasting)\n",
    "- 일반적으로 벡터나 행렬의 크기가 같아야 연산을 수행할 수 있다\n",
    "- 넘파이에서 서로 다른 크기를 가진 두 배열의 연산을 지원하는 기능을 말한다."
   ]
  },
  {
   "cell_type": "code",
   "execution_count": 141,
   "id": "092a1c70",
   "metadata": {
    "ExecuteTime": {
     "end_time": "2022-10-24T05:49:36.234399Z",
     "start_time": "2022-10-24T05:49:36.216445Z"
    }
   },
   "outputs": [
    {
     "data": {
      "text/plain": [
       "range(1, 10)"
      ]
     },
     "execution_count": 141,
     "metadata": {},
     "output_type": "execute_result"
    }
   ],
   "source": [
    "x = range(1, 10)\n",
    "x"
   ]
  },
  {
   "cell_type": "code",
   "execution_count": 142,
   "id": "b092c12f",
   "metadata": {
    "ExecuteTime": {
     "end_time": "2022-10-24T05:49:50.372950Z",
     "start_time": "2022-10-24T05:49:50.357990Z"
    }
   },
   "outputs": [
    {
     "data": {
      "text/plain": [
       "array([1, 2, 3, 4, 5, 6, 7, 8, 9])"
      ]
     },
     "execution_count": 142,
     "metadata": {},
     "output_type": "execute_result"
    }
   ],
   "source": [
    "y = np.arange(1, 10)\n",
    "y"
   ]
  },
  {
   "cell_type": "code",
   "execution_count": 143,
   "id": "ae5d7dca",
   "metadata": {
    "ExecuteTime": {
     "end_time": "2022-10-24T05:49:55.597179Z",
     "start_time": "2022-10-24T05:49:55.582222Z"
    }
   },
   "outputs": [
    {
     "data": {
      "text/plain": [
       "array([ 4,  5,  6,  7,  8,  9, 10, 11, 12])"
      ]
     },
     "execution_count": 143,
     "metadata": {},
     "output_type": "execute_result"
    }
   ],
   "source": [
    "y + 3"
   ]
  },
  {
   "cell_type": "code",
   "execution_count": 144,
   "id": "254cc6d8",
   "metadata": {
    "ExecuteTime": {
     "end_time": "2022-10-24T06:07:01.011413Z",
     "start_time": "2022-10-24T06:07:01.005428Z"
    }
   },
   "outputs": [
    {
     "name": "stdout",
     "output_type": "stream",
     "text": [
      "type: <class 'numpy.ndarray'>\n",
      "shape:(4, 6), dimension:2, dtype:int32\n",
      "Array's Data: \n",
      " [[ 1  2  3  4  5  6]\n",
      " [ 7  8  9 10 11 12]\n",
      " [13 14 15 16 17 18]\n",
      " [19 20 21 22 23 24]]\n",
      "type: <class 'numpy.ndarray'>\n",
      "shape:(4, 6), dimension:2, dtype:int32\n",
      "Array's Data: \n",
      " [[25 26 27 28 29 30]\n",
      " [31 32 33 34 35 36]\n",
      " [37 38 39 40 41 42]\n",
      " [43 44 45 46 47 48]]\n"
     ]
    }
   ],
   "source": [
    "a = np.arange(1,25).reshape(4,6)\n",
    "pprint(a)\n",
    "b = np.arange(25,49).reshape(4,6)\n",
    "pprint(b)"
   ]
  },
  {
   "cell_type": "code",
   "execution_count": 145,
   "id": "230dfa2f",
   "metadata": {
    "ExecuteTime": {
     "end_time": "2022-10-24T06:08:06.322150Z",
     "start_time": "2022-10-24T06:08:06.309198Z"
    }
   },
   "outputs": [
    {
     "data": {
      "text/plain": [
       "array([[26, 28, 30, 32, 34, 36],\n",
       "       [38, 40, 42, 44, 46, 48],\n",
       "       [50, 52, 54, 56, 58, 60],\n",
       "       [62, 64, 66, 68, 70, 72]])"
      ]
     },
     "execution_count": 145,
     "metadata": {},
     "output_type": "execute_result"
    }
   ],
   "source": [
    "a + b"
   ]
  },
  {
   "cell_type": "markdown",
   "id": "b134e9a2",
   "metadata": {},
   "source": [
    "#### shape 다른 두 배열의 연산\n",
    "- 두 배열을 같은 shape으로 만든 후 연산을 수행"
   ]
  },
  {
   "cell_type": "code",
   "execution_count": 146,
   "id": "2308919d",
   "metadata": {
    "ExecuteTime": {
     "end_time": "2022-10-24T06:09:15.750716Z",
     "start_time": "2022-10-24T06:09:15.740743Z"
    }
   },
   "outputs": [
    {
     "name": "stdout",
     "output_type": "stream",
     "text": [
      "type: <class 'numpy.ndarray'>\n",
      "shape:(4, 6), dimension:2, dtype:int32\n",
      "Array's Data: \n",
      " [[ 1  2  3  4  5  6]\n",
      " [ 7  8  9 10 11 12]\n",
      " [13 14 15 16 17 18]\n",
      " [19 20 21 22 23 24]]\n"
     ]
    }
   ],
   "source": [
    "# case1 : 배열과 스칼라\n",
    "pprint(a)"
   ]
  },
  {
   "cell_type": "code",
   "execution_count": 147,
   "id": "78b87670",
   "metadata": {
    "ExecuteTime": {
     "end_time": "2022-10-24T06:10:41.731197Z",
     "start_time": "2022-10-24T06:10:41.726211Z"
    }
   },
   "outputs": [
    {
     "data": {
      "text/plain": [
       "array([[101, 102, 103, 104, 105, 106],\n",
       "       [107, 108, 109, 110, 111, 112],\n",
       "       [113, 114, 115, 116, 117, 118],\n",
       "       [119, 120, 121, 122, 123, 124]])"
      ]
     },
     "execution_count": 147,
     "metadata": {},
     "output_type": "execute_result"
    }
   ],
   "source": [
    "a + 100"
   ]
  },
  {
   "cell_type": "code",
   "execution_count": 148,
   "id": "1b30f3c3",
   "metadata": {
    "ExecuteTime": {
     "end_time": "2022-10-24T06:11:23.093649Z",
     "start_time": "2022-10-24T06:11:23.077674Z"
    }
   },
   "outputs": [
    {
     "name": "stdout",
     "output_type": "stream",
     "text": [
      "type: <class 'numpy.ndarray'>\n",
      "shape:(4, 6), dimension:2, dtype:int32\n",
      "Array's Data: \n",
      " [[100 100 100 100 100 100]\n",
      " [100 100 100 100 100 100]\n",
      " [100 100 100 100 100 100]\n",
      " [100 100 100 100 100 100]]\n"
     ]
    }
   ],
   "source": [
    "# step1. 스칼라를 배열로 변경\n",
    "new_arr = np.full_like(a, 100)\n",
    "pprint(new_arr)"
   ]
  },
  {
   "cell_type": "code",
   "execution_count": 149,
   "id": "772185a4",
   "metadata": {
    "ExecuteTime": {
     "end_time": "2022-10-24T06:11:41.397747Z",
     "start_time": "2022-10-24T06:11:41.389769Z"
    }
   },
   "outputs": [
    {
     "data": {
      "text/plain": [
       "array([[101, 102, 103, 104, 105, 106],\n",
       "       [107, 108, 109, 110, 111, 112],\n",
       "       [113, 114, 115, 116, 117, 118],\n",
       "       [119, 120, 121, 122, 123, 124]])"
      ]
     },
     "execution_count": 149,
     "metadata": {},
     "output_type": "execute_result"
    }
   ],
   "source": [
    "# step2. 배열 연산\n",
    "a + new_arr"
   ]
  },
  {
   "cell_type": "code",
   "execution_count": 151,
   "id": "81cba56b",
   "metadata": {
    "ExecuteTime": {
     "end_time": "2022-10-24T06:13:49.667679Z",
     "start_time": "2022-10-24T06:13:49.653718Z"
    }
   },
   "outputs": [
    {
     "name": "stdout",
     "output_type": "stream",
     "text": [
      "type: <class 'numpy.ndarray'>\n",
      "shape:(1, 5), dimension:2, dtype:int32\n",
      "Array's Data: \n",
      " [[0 1 2 3 4]]\n",
      "type: <class 'numpy.ndarray'>\n",
      "shape:(5, 1), dimension:2, dtype:int32\n",
      "Array's Data: \n",
      " [[0]\n",
      " [1]\n",
      " [2]\n",
      " [3]\n",
      " [4]]\n"
     ]
    }
   ],
   "source": [
    "# case2, shape이 다른 두 배열의 연산\n",
    "a = np.arange(5).reshape(1, 5)\n",
    "pprint(a)\n",
    "b = np.arange(5).reshape(5,1)\n",
    "pprint(b)"
   ]
  },
  {
   "cell_type": "code",
   "execution_count": 152,
   "id": "f0421024",
   "metadata": {
    "ExecuteTime": {
     "end_time": "2022-10-24T06:13:56.902367Z",
     "start_time": "2022-10-24T06:13:56.893391Z"
    }
   },
   "outputs": [
    {
     "data": {
      "text/plain": [
       "array([[0, 1, 2, 3, 4],\n",
       "       [1, 2, 3, 4, 5],\n",
       "       [2, 3, 4, 5, 6],\n",
       "       [3, 4, 5, 6, 7],\n",
       "       [4, 5, 6, 7, 8]])"
      ]
     },
     "execution_count": 152,
     "metadata": {},
     "output_type": "execute_result"
    }
   ],
   "source": [
    "a + b"
   ]
  },
  {
   "cell_type": "markdown",
   "id": "4fbb0ee7",
   "metadata": {
    "ExecuteTime": {
     "end_time": "2022-10-24T06:15:28.084359Z",
     "start_time": "2022-10-24T06:15:28.077378Z"
    }
   },
   "source": [
    "### 8. 배열 복사"
   ]
  },
  {
   "cell_type": "code",
   "execution_count": 155,
   "id": "5c305bd6",
   "metadata": {
    "ExecuteTime": {
     "end_time": "2022-10-24T06:16:57.661098Z",
     "start_time": "2022-10-24T06:16:57.644116Z"
    }
   },
   "outputs": [
    {
     "name": "stdout",
     "output_type": "stream",
     "text": [
      "type: <class 'numpy.ndarray'>\n",
      "shape:(3, 3), dimension:2, dtype:int32\n",
      "Array's Data: \n",
      " [[2 8 6]\n",
      " [8 2 3]\n",
      " [4 2 6]]\n"
     ]
    }
   ],
   "source": [
    "a = np.random.randint(0, 9, (3, 3))\n",
    "pprint(a)"
   ]
  },
  {
   "cell_type": "code",
   "execution_count": 157,
   "id": "29776148",
   "metadata": {
    "ExecuteTime": {
     "end_time": "2022-10-24T06:18:50.707090Z",
     "start_time": "2022-10-24T06:18:50.700109Z"
    }
   },
   "outputs": [
    {
     "name": "stdout",
     "output_type": "stream",
     "text": [
      "type: <class 'numpy.ndarray'>\n",
      "shape:(3, 3), dimension:2, dtype:int32\n",
      "Array's Data: \n",
      " [[0 8 6]\n",
      " [0 2 3]\n",
      " [0 2 6]]\n"
     ]
    }
   ],
   "source": [
    "a1 = np.copy(a)\n",
    "a1[ : , 0] = 0\n",
    "pprint(a1)"
   ]
  },
  {
   "cell_type": "code",
   "execution_count": 158,
   "id": "4046fe21",
   "metadata": {
    "ExecuteTime": {
     "end_time": "2022-10-24T06:19:39.519569Z",
     "start_time": "2022-10-24T06:19:39.509483Z"
    }
   },
   "outputs": [
    {
     "name": "stdout",
     "output_type": "stream",
     "text": [
      "type: <class 'numpy.ndarray'>\n",
      "shape:(3, 3), dimension:2, dtype:int32\n",
      "Array's Data: \n",
      " [[2 8 6]\n",
      " [8 2 3]\n",
      " [4 2 6]]\n"
     ]
    }
   ],
   "source": [
    "pprint(a)"
   ]
  },
  {
   "cell_type": "markdown",
   "id": "26c05594",
   "metadata": {},
   "source": [
    "### 9. 배열 정렬\n",
    "- axis를 기준으로 요소 정렬하는 함수 sort()"
   ]
  },
  {
   "cell_type": "code",
   "execution_count": 160,
   "id": "70954458",
   "metadata": {
    "ExecuteTime": {
     "end_time": "2022-10-24T06:23:38.605297Z",
     "start_time": "2022-10-24T06:23:38.597318Z"
    }
   },
   "outputs": [
    {
     "name": "stdout",
     "output_type": "stream",
     "text": [
      "type: <class 'numpy.ndarray'>\n",
      "shape:(3, 3), dimension:2, dtype:float64\n",
      "Array's Data: \n",
      " [[0.57140417 0.09246614 0.05096045]\n",
      " [0.03786407 0.64068363 0.55411291]\n",
      " [0.9618399  0.3661656  0.13424387]]\n"
     ]
    }
   ],
   "source": [
    "unsorted_arr = np.random.random((3,3))\n",
    "pprint(unsorted_arr)"
   ]
  },
  {
   "cell_type": "code",
   "execution_count": 162,
   "id": "aa46063a",
   "metadata": {
    "ExecuteTime": {
     "end_time": "2022-10-24T06:24:02.540758Z",
     "start_time": "2022-10-24T06:24:02.522808Z"
    }
   },
   "outputs": [],
   "source": [
    "arr1 = unsorted_arr.copy()\n",
    "arr2 = unsorted_arr.copy()\n",
    "arr3 = unsorted_arr.copy()"
   ]
  },
  {
   "cell_type": "code",
   "execution_count": 163,
   "id": "477c09e3",
   "metadata": {
    "ExecuteTime": {
     "end_time": "2022-10-24T06:25:52.890433Z",
     "start_time": "2022-10-24T06:25:52.884449Z"
    }
   },
   "outputs": [
    {
     "name": "stdout",
     "output_type": "stream",
     "text": [
      "type: <class 'numpy.ndarray'>\n",
      "shape:(3, 3), dimension:2, dtype:float64\n",
      "Array's Data: \n",
      " [[0.05096045 0.09246614 0.57140417]\n",
      " [0.03786407 0.55411291 0.64068363]\n",
      " [0.13424387 0.3661656  0.9618399 ]]\n"
     ]
    }
   ],
   "source": [
    "# axis = -1\n",
    "arr1.sort()\n",
    "pprint(arr1)"
   ]
  },
  {
   "cell_type": "code",
   "execution_count": 164,
   "id": "941176ef",
   "metadata": {
    "ExecuteTime": {
     "end_time": "2022-10-24T06:27:08.446128Z",
     "start_time": "2022-10-24T06:27:08.438150Z"
    }
   },
   "outputs": [
    {
     "name": "stdout",
     "output_type": "stream",
     "text": [
      "type: <class 'numpy.ndarray'>\n",
      "shape:(3, 3), dimension:2, dtype:float64\n",
      "Array's Data: \n",
      " [[0.03786407 0.09246614 0.05096045]\n",
      " [0.57140417 0.3661656  0.13424387]\n",
      " [0.9618399  0.64068363 0.55411291]]\n"
     ]
    }
   ],
   "source": [
    "# axis = 0, 열단위로 연산\n",
    "arr2.sort(axis=0)\n",
    "pprint(arr2)"
   ]
  },
  {
   "cell_type": "code",
   "execution_count": 167,
   "id": "33fb0a7b",
   "metadata": {
    "ExecuteTime": {
     "end_time": "2022-10-24T06:29:33.007403Z",
     "start_time": "2022-10-24T06:29:33.003414Z"
    }
   },
   "outputs": [
    {
     "name": "stdout",
     "output_type": "stream",
     "text": [
      "type: <class 'numpy.ndarray'>\n",
      "shape:(3, 3), dimension:2, dtype:float64\n",
      "Array's Data: \n",
      " [[0.05096045 0.09246614 0.57140417]\n",
      " [0.03786407 0.55411291 0.64068363]\n",
      " [0.13424387 0.3661656  0.9618399 ]]\n"
     ]
    }
   ],
   "source": [
    "# axis = 1, 행단위로 연산\n",
    "arr3.sort(axis=1)\n",
    "pprint(arr3)"
   ]
  },
  {
   "cell_type": "markdown",
   "id": "13aed5a7",
   "metadata": {},
   "source": [
    "### 10. 서브셋, 슬라이싱, 인덱싱"
   ]
  },
  {
   "cell_type": "code",
   "execution_count": 170,
   "id": "95903d18",
   "metadata": {
    "ExecuteTime": {
     "end_time": "2022-10-24T06:33:14.735395Z",
     "start_time": "2022-10-24T06:33:14.723427Z"
    }
   },
   "outputs": [
    {
     "name": "stdout",
     "output_type": "stream",
     "text": [
      "type: <class 'numpy.ndarray'>\n",
      "shape:(24,), dimension:1, dtype:int32\n",
      "Array's Data: \n",
      " [ 0  1  2  3  4  5  6  7  8  9 10 11 12 13 14 15 16 17 18 19 20 21 22 23]\n",
      "type: <class 'numpy.ndarray'>\n",
      "shape:(4, 6), dimension:2, dtype:int32\n",
      "Array's Data: \n",
      " [[ 0  1  2  3  4  5]\n",
      " [ 6  7  8  9 10 11]\n",
      " [12 13 14 15 16 17]\n",
      " [18 19 20 21 22 23]]\n",
      "type: <class 'numpy.ndarray'>\n",
      "shape:(2, 4, 3), dimension:3, dtype:int32\n",
      "Array's Data: \n",
      " [[[ 0  1  2]\n",
      "  [ 3  4  5]\n",
      "  [ 6  7  8]\n",
      "  [ 9 10 11]]\n",
      "\n",
      " [[12 13 14]\n",
      "  [15 16 17]\n",
      "  [18 19 20]\n",
      "  [21 22 23]]]\n"
     ]
    }
   ],
   "source": [
    "arr0 = np.arange(24) # 1차원 배열\n",
    "pprint(arr0)\n",
    "arr1 = np.arange(24).reshape(4,6) # 2차원 배열\n",
    "pprint(arr1)\n",
    "arr2 = np.arange(24).reshape(2, 4, 3) # 3차원 배열\n",
    "pprint(arr2)"
   ]
  },
  {
   "cell_type": "markdown",
   "id": "5d6cc85b",
   "metadata": {},
   "source": [
    "#### 1차원 배열의 요소 참조 및 변경"
   ]
  },
  {
   "cell_type": "code",
   "execution_count": 171,
   "id": "51ca4742",
   "metadata": {
    "ExecuteTime": {
     "end_time": "2022-10-24T06:34:27.720229Z",
     "start_time": "2022-10-24T06:34:27.716240Z"
    }
   },
   "outputs": [
    {
     "data": {
      "text/plain": [
       "5"
      ]
     },
     "execution_count": 171,
     "metadata": {},
     "output_type": "execute_result"
    }
   ],
   "source": [
    "arr0[5]"
   ]
  },
  {
   "cell_type": "code",
   "execution_count": 172,
   "id": "f826b981",
   "metadata": {
    "ExecuteTime": {
     "end_time": "2022-10-24T06:34:38.395495Z",
     "start_time": "2022-10-24T06:34:38.380535Z"
    }
   },
   "outputs": [
    {
     "name": "stdout",
     "output_type": "stream",
     "text": [
      "type: <class 'numpy.ndarray'>\n",
      "shape:(24,), dimension:1, dtype:int32\n",
      "Array's Data: \n",
      " [    0     1     2     3     4 10000     6     7     8     9    10    11\n",
      "    12    13    14    15    16    17    18    19    20    21    22    23]\n"
     ]
    }
   ],
   "source": [
    "arr0[5] = 10000\n",
    "pprint(arr0)"
   ]
  },
  {
   "cell_type": "markdown",
   "id": "2ea59b15",
   "metadata": {},
   "source": [
    "#### 2차원 배열의 요소 참조와 변경"
   ]
  },
  {
   "cell_type": "code",
   "execution_count": 174,
   "id": "cd018d1b",
   "metadata": {
    "ExecuteTime": {
     "end_time": "2022-10-24T06:37:46.245309Z",
     "start_time": "2022-10-24T06:37:46.229374Z"
    }
   },
   "outputs": [
    {
     "data": {
      "text/plain": [
       "1"
      ]
     },
     "execution_count": 174,
     "metadata": {},
     "output_type": "execute_result"
    }
   ],
   "source": [
    "# 1행에 두번째 컬럼 요소 참조\n",
    "arr1[0, 1]"
   ]
  },
  {
   "cell_type": "code",
   "execution_count": 176,
   "id": "b21ffeb3",
   "metadata": {
    "ExecuteTime": {
     "end_time": "2022-10-24T06:38:03.015153Z",
     "start_time": "2022-10-24T06:38:03.005180Z"
    }
   },
   "outputs": [
    {
     "name": "stdout",
     "output_type": "stream",
     "text": [
      "type: <class 'numpy.ndarray'>\n",
      "shape:(4, 6), dimension:2, dtype:int32\n",
      "Array's Data: \n",
      " [[    0 10000     2     3     4     5]\n",
      " [    6     7     8     9    10    11]\n",
      " [   12    13    14    15    16    17]\n",
      " [   18    19    20    21    22    23]]\n"
     ]
    }
   ],
   "source": [
    "arr1[0, 1] = 10000\n",
    "pprint(arr1)"
   ]
  },
  {
   "cell_type": "markdown",
   "id": "f4565852",
   "metadata": {},
   "source": [
    "#### 3차원 배열의 요소 참조와 변경"
   ]
  },
  {
   "cell_type": "code",
   "execution_count": 173,
   "id": "f46cf6e6",
   "metadata": {
    "ExecuteTime": {
     "end_time": "2022-10-24T06:37:33.416754Z",
     "start_time": "2022-10-24T06:37:33.405783Z"
    }
   },
   "outputs": [
    {
     "data": {
      "text/plain": [
       "13"
      ]
     },
     "execution_count": 173,
     "metadata": {},
     "output_type": "execute_result"
    }
   ],
   "source": [
    "# 2번쨰 면, 첫번쨰 행, 두번째 열 참조\n",
    "arr2[1, 0, 1]"
   ]
  },
  {
   "cell_type": "code",
   "execution_count": 177,
   "id": "61f775e1",
   "metadata": {
    "ExecuteTime": {
     "end_time": "2022-10-24T06:38:21.238117Z",
     "start_time": "2022-10-24T06:38:21.228144Z"
    }
   },
   "outputs": [
    {
     "name": "stdout",
     "output_type": "stream",
     "text": [
      "type: <class 'numpy.ndarray'>\n",
      "shape:(2, 4, 3), dimension:3, dtype:int32\n",
      "Array's Data: \n",
      " [[[    0     1     2]\n",
      "  [    3     4     5]\n",
      "  [    6     7     8]\n",
      "  [    9    10    11]]\n",
      "\n",
      " [[   12 10000    14]\n",
      "  [   15    16    17]\n",
      "  [   18    19    20]\n",
      "  [   21    22    23]]]\n"
     ]
    }
   ],
   "source": [
    "arr2[1, 0, 1] = 10000\n",
    "pprint(arr2)"
   ]
  },
  {
   "cell_type": "markdown",
   "id": "4f2a7d1b",
   "metadata": {},
   "source": [
    "#### 슬라이싱(slicing)\n",
    "- 양수 인덱스 : 1(정방향, 첫 인덱스를 의미)\n",
    "- 음수 인덱스 : -1(반대방향, 마지막 인덱스를 의미)"
   ]
  },
  {
   "cell_type": "code",
   "execution_count": 178,
   "id": "c8064919",
   "metadata": {
    "ExecuteTime": {
     "end_time": "2022-10-24T06:42:03.387805Z",
     "start_time": "2022-10-24T06:42:03.371848Z"
    }
   },
   "outputs": [
    {
     "name": "stdout",
     "output_type": "stream",
     "text": [
      "type: <class 'numpy.ndarray'>\n",
      "shape:(4, 6), dimension:2, dtype:int32\n",
      "Array's Data: \n",
      " [[ 1  2  3  4  5  6]\n",
      " [ 7  8  9 10 11 12]\n",
      " [13 14 15 16 17 18]\n",
      " [19 20 21 22 23 24]]\n"
     ]
    }
   ],
   "source": [
    "arr1 = np.arange(1,25).reshape(4,6) # 2차원 배열\n",
    "pprint(arr1)"
   ]
  },
  {
   "cell_type": "code",
   "execution_count": 179,
   "id": "696c97a5",
   "metadata": {
    "ExecuteTime": {
     "end_time": "2022-10-24T06:43:26.425980Z",
     "start_time": "2022-10-24T06:43:26.413016Z"
    }
   },
   "outputs": [
    {
     "data": {
      "text/plain": [
       "array([[ 8,  9, 10, 11],\n",
       "       [14, 15, 16, 17]])"
      ]
     },
     "execution_count": 179,
     "metadata": {},
     "output_type": "execute_result"
    }
   ],
   "source": [
    "# 가운데 요소 추출\n",
    "arr1[1:3, 1:5]"
   ]
  },
  {
   "cell_type": "code",
   "execution_count": 180,
   "id": "edeecb22",
   "metadata": {
    "ExecuteTime": {
     "end_time": "2022-10-24T06:44:43.931959Z",
     "start_time": "2022-10-24T06:44:43.916002Z"
    }
   },
   "outputs": [
    {
     "data": {
      "text/plain": [
       "array([[ 8,  9, 10, 11],\n",
       "       [14, 15, 16, 17]])"
      ]
     },
     "execution_count": 180,
     "metadata": {},
     "output_type": "execute_result"
    }
   ],
   "source": [
    "arr1[1:-1, 1:-1]"
   ]
  },
  {
   "cell_type": "code",
   "execution_count": 182,
   "id": "b06765e6",
   "metadata": {
    "ExecuteTime": {
     "end_time": "2022-10-24T06:46:45.886490Z",
     "start_time": "2022-10-24T06:46:45.875520Z"
    }
   },
   "outputs": [
    {
     "data": {
      "text/plain": [
       "array([[ 2,  3],\n",
       "       [ 8,  9],\n",
       "       [14, 15],\n",
       "       [20, 21]])"
      ]
     },
     "execution_count": 182,
     "metadata": {},
     "output_type": "execute_result"
    }
   ],
   "source": [
    "a = arr1[:, 1:3]\n",
    "a"
   ]
  },
  {
   "cell_type": "code",
   "execution_count": 183,
   "id": "62b06651",
   "metadata": {
    "ExecuteTime": {
     "end_time": "2022-10-24T06:47:13.802328Z",
     "start_time": "2022-10-24T06:47:13.795346Z"
    }
   },
   "outputs": [
    {
     "name": "stdout",
     "output_type": "stream",
     "text": [
      "type: <class 'numpy.ndarray'>\n",
      "shape:(4, 6), dimension:2, dtype:int32\n",
      "Array's Data: \n",
      " [[   1 9999 9999    4    5    6]\n",
      " [   7 9999 9999   10   11   12]\n",
      " [  13 9999 9999   16   17   18]\n",
      " [  19 9999 9999   22   23   24]]\n"
     ]
    }
   ],
   "source": [
    "arr1[:, 1:3] = 9999\n",
    "pprint(arr1)"
   ]
  },
  {
   "cell_type": "code",
   "execution_count": null,
   "id": "13a4ae1c",
   "metadata": {},
   "outputs": [],
   "source": []
  },
  {
   "cell_type": "markdown",
   "id": "6951248a",
   "metadata": {},
   "source": [
    "#### 불린 인덱싱(Boolean Indexing)\n",
    "- "
   ]
  },
  {
   "cell_type": "code",
   "execution_count": 184,
   "id": "5d108232",
   "metadata": {
    "ExecuteTime": {
     "end_time": "2022-10-24T06:49:36.707438Z",
     "start_time": "2022-10-24T06:49:36.699445Z"
    }
   },
   "outputs": [
    {
     "name": "stdout",
     "output_type": "stream",
     "text": [
      "type: <class 'numpy.ndarray'>\n",
      "shape:(4, 6), dimension:2, dtype:int32\n",
      "Array's Data: \n",
      " [[ 1  2  3  4  5  6]\n",
      " [ 7  8  9 10 11 12]\n",
      " [13 14 15 16 17 18]\n",
      " [19 20 21 22 23 24]]\n"
     ]
    }
   ],
   "source": [
    "arr1 = np.arange(1,25).reshape(4,6) # 2차원 배열\n",
    "pprint(arr1)"
   ]
  },
  {
   "cell_type": "code",
   "execution_count": 190,
   "id": "ed70af9f",
   "metadata": {
    "ExecuteTime": {
     "end_time": "2022-10-24T06:53:02.333123Z",
     "start_time": "2022-10-24T06:53:02.314174Z"
    }
   },
   "outputs": [
    {
     "data": {
      "text/plain": [
       "156"
      ]
     },
     "execution_count": 190,
     "metadata": {},
     "output_type": "execute_result"
    }
   ],
   "source": [
    "# arr1 배열에서 요소의 값이 짝수인 요소들의 총합은?\n",
    "np.sum(arr1[arr1%2==0])"
   ]
  },
  {
   "cell_type": "markdown",
   "id": "3545bb76",
   "metadata": {
    "ExecuteTime": {
     "end_time": "2022-10-24T07:05:08.417282Z",
     "start_time": "2022-10-24T07:05:08.412277Z"
    }
   },
   "source": [
    "#### 팬시 인덱싱"
   ]
  },
  {
   "cell_type": "code",
   "execution_count": 198,
   "id": "18aa356f",
   "metadata": {
    "ExecuteTime": {
     "end_time": "2022-10-24T07:07:48.442907Z",
     "start_time": "2022-10-24T07:07:48.426594Z"
    }
   },
   "outputs": [
    {
     "name": "stdout",
     "output_type": "stream",
     "text": [
      "type: <class 'numpy.ndarray'>\n",
      "shape:(4, 6), dimension:2, dtype:int32\n",
      "Array's Data: \n",
      " [[ 1  2  3  4  5  6]\n",
      " [ 7  8  9 10 11 12]\n",
      " [13 14 15 16 17 18]\n",
      " [19 20 21 22 23 24]]\n"
     ]
    }
   ],
   "source": [
    "arr = np.arange(1,25).reshape(4,6) # 2차원 배열\n",
    "pprint(arr1)"
   ]
  },
  {
   "cell_type": "code",
   "execution_count": 199,
   "id": "bdc9eeed",
   "metadata": {
    "ExecuteTime": {
     "end_time": "2022-10-24T07:07:50.759921Z",
     "start_time": "2022-10-24T07:07:50.746956Z"
    }
   },
   "outputs": [
    {
     "data": {
      "text/plain": [
       "[1, 8, 15, 22]"
      ]
     },
     "execution_count": 199,
     "metadata": {},
     "output_type": "execute_result"
    }
   ],
   "source": [
    "[arr[0,0], arr[1,1], arr[2,2], arr[3,3]]"
   ]
  },
  {
   "cell_type": "code",
   "execution_count": 200,
   "id": "9a76f005",
   "metadata": {
    "ExecuteTime": {
     "end_time": "2022-10-24T07:08:24.542276Z",
     "start_time": "2022-10-24T07:08:24.529311Z"
    }
   },
   "outputs": [
    {
     "data": {
      "text/plain": [
       "array([ 1,  8, 15, 22])"
      ]
     },
     "execution_count": 200,
     "metadata": {},
     "output_type": "execute_result"
    }
   ],
   "source": [
    "arr[[0, 1, 2, 3], [0, 1, 2, 3]]"
   ]
  },
  {
   "cell_type": "code",
   "execution_count": 201,
   "id": "0b844abb",
   "metadata": {
    "ExecuteTime": {
     "end_time": "2022-10-24T07:09:21.330321Z",
     "start_time": "2022-10-24T07:09:21.314364Z"
    }
   },
   "outputs": [
    {
     "data": {
      "text/plain": [
       "array([[ 2,  3],\n",
       "       [ 8,  9],\n",
       "       [14, 15],\n",
       "       [20, 21]])"
      ]
     },
     "execution_count": 201,
     "metadata": {},
     "output_type": "execute_result"
    }
   ],
   "source": [
    "arr[:, [1, 2]]"
   ]
  },
  {
   "cell_type": "markdown",
   "id": "b2d52842",
   "metadata": {},
   "source": [
    "### 11. 배열 변환\n",
    "- 전치, 배열 shape 변환, 배열 요소의 추가/삭제, 배열 결합, 분리"
   ]
  },
  {
   "cell_type": "markdown",
   "id": "c5e5424d",
   "metadata": {
    "ExecuteTime": {
     "end_time": "2022-10-24T07:12:10.972977Z",
     "start_time": "2022-10-24T07:12:10.955025Z"
    }
   },
   "source": [
    "#### 전치(Transpose): 행렬의 행과 열을 바꾼다"
   ]
  },
  {
   "cell_type": "code",
   "execution_count": 203,
   "id": "a83be1b1",
   "metadata": {
    "ExecuteTime": {
     "end_time": "2022-10-24T07:12:54.033756Z",
     "start_time": "2022-10-24T07:12:54.026771Z"
    }
   },
   "outputs": [
    {
     "name": "stdout",
     "output_type": "stream",
     "text": [
      "type: <class 'numpy.ndarray'>\n",
      "shape:(2, 3), dimension:2, dtype:int32\n",
      "Array's Data: \n",
      " [[4 5 7]\n",
      " [4 4 8]]\n"
     ]
    }
   ],
   "source": [
    "a = np.random.randint(1, 10, (2,3))\n",
    "pprint(a)"
   ]
  },
  {
   "cell_type": "code",
   "execution_count": 204,
   "id": "7a837a7a",
   "metadata": {
    "ExecuteTime": {
     "end_time": "2022-10-24T07:13:23.458294Z",
     "start_time": "2022-10-24T07:13:23.443335Z"
    }
   },
   "outputs": [
    {
     "name": "stdout",
     "output_type": "stream",
     "text": [
      "type: <class 'numpy.ndarray'>\n",
      "shape:(3, 2), dimension:2, dtype:int32\n",
      "Array's Data: \n",
      " [[4 4]\n",
      " [5 4]\n",
      " [7 8]]\n"
     ]
    }
   ],
   "source": [
    "pprint(a.T)"
   ]
  },
  {
   "cell_type": "markdown",
   "id": "acfbb56c",
   "metadata": {},
   "source": [
    "#### 배열 형태 변경"
   ]
  },
  {
   "cell_type": "code",
   "execution_count": 205,
   "id": "79497b8b",
   "metadata": {
    "ExecuteTime": {
     "end_time": "2022-10-24T07:16:22.227050Z",
     "start_time": "2022-10-24T07:16:22.211094Z"
    }
   },
   "outputs": [
    {
     "name": "stdout",
     "output_type": "stream",
     "text": [
      "type: <class 'numpy.ndarray'>\n",
      "shape:(2, 3), dimension:2, dtype:int32\n",
      "Array's Data: \n",
      " [[9 3 1]\n",
      " [4 1 7]]\n"
     ]
    }
   ],
   "source": [
    "a = np.random.randint(1, 10, (2,3))\n",
    "pprint(a)"
   ]
  },
  {
   "cell_type": "code",
   "execution_count": 207,
   "id": "9cf001d7",
   "metadata": {
    "ExecuteTime": {
     "end_time": "2022-10-24T07:18:19.273393Z",
     "start_time": "2022-10-24T07:18:19.256437Z"
    }
   },
   "outputs": [],
   "source": [
    "b = a.ravel()"
   ]
  },
  {
   "cell_type": "code",
   "execution_count": 216,
   "id": "38345ff6",
   "metadata": {
    "ExecuteTime": {
     "end_time": "2022-10-24T07:20:12.834626Z",
     "start_time": "2022-10-24T07:20:12.816675Z"
    }
   },
   "outputs": [],
   "source": [
    "b[0] = 10000"
   ]
  },
  {
   "cell_type": "code",
   "execution_count": 217,
   "id": "6bb076e4",
   "metadata": {
    "ExecuteTime": {
     "end_time": "2022-10-24T07:20:14.884627Z",
     "start_time": "2022-10-24T07:20:14.874654Z"
    }
   },
   "outputs": [
    {
     "name": "stdout",
     "output_type": "stream",
     "text": [
      "type: <class 'numpy.ndarray'>\n",
      "shape:(2, 3), dimension:2, dtype:int32\n",
      "Array's Data: \n",
      " [[10000     3     1]\n",
      " [    4     1     7]]\n"
     ]
    }
   ],
   "source": [
    "pprint(a)"
   ]
  },
  {
   "cell_type": "code",
   "execution_count": 210,
   "id": "2edc6d2c",
   "metadata": {
    "ExecuteTime": {
     "end_time": "2022-10-24T07:18:49.841127Z",
     "start_time": "2022-10-24T07:18:49.824172Z"
    }
   },
   "outputs": [
    {
     "data": {
      "text/plain": [
       "[1, 2, 3, 4, 5]"
      ]
     },
     "execution_count": 210,
     "metadata": {},
     "output_type": "execute_result"
    }
   ],
   "source": [
    "x = [1, 2, 3, 4, 5]\n",
    "x"
   ]
  },
  {
   "cell_type": "code",
   "execution_count": 212,
   "id": "751d6c2b",
   "metadata": {
    "ExecuteTime": {
     "end_time": "2022-10-24T07:19:26.814139Z",
     "start_time": "2022-10-24T07:19:26.803171Z"
    }
   },
   "outputs": [
    {
     "data": {
      "text/plain": [
       "[1, 2, 3, 4, 5]"
      ]
     },
     "execution_count": 212,
     "metadata": {},
     "output_type": "execute_result"
    }
   ],
   "source": [
    "x1 = x\n",
    "x1"
   ]
  },
  {
   "cell_type": "code",
   "execution_count": 213,
   "id": "12596fb3",
   "metadata": {
    "ExecuteTime": {
     "end_time": "2022-10-24T07:19:38.448006Z",
     "start_time": "2022-10-24T07:19:38.433045Z"
    }
   },
   "outputs": [
    {
     "data": {
      "text/plain": [
       "[100, 2, 3, 4, 5]"
      ]
     },
     "execution_count": 213,
     "metadata": {},
     "output_type": "execute_result"
    }
   ],
   "source": [
    "x1[0] = 100\n",
    "x1"
   ]
  },
  {
   "cell_type": "code",
   "execution_count": 214,
   "id": "9debbe35",
   "metadata": {
    "ExecuteTime": {
     "end_time": "2022-10-24T07:19:40.673988Z",
     "start_time": "2022-10-24T07:19:40.665011Z"
    }
   },
   "outputs": [
    {
     "data": {
      "text/plain": [
       "[100, 2, 3, 4, 5]"
      ]
     },
     "execution_count": 214,
     "metadata": {},
     "output_type": "execute_result"
    }
   ],
   "source": [
    "x"
   ]
  },
  {
   "cell_type": "code",
   "execution_count": 219,
   "id": "7f25f593",
   "metadata": {
    "ExecuteTime": {
     "end_time": "2022-10-24T07:20:50.368327Z",
     "start_time": "2022-10-24T07:20:50.354366Z"
    }
   },
   "outputs": [
    {
     "data": {
      "text/plain": [
       "[100, 2, 3, 4, 5]"
      ]
     },
     "execution_count": 219,
     "metadata": {},
     "output_type": "execute_result"
    }
   ],
   "source": [
    "x2 = x[:]\n",
    "x2"
   ]
  },
  {
   "cell_type": "code",
   "execution_count": 220,
   "id": "25ed100c",
   "metadata": {
    "ExecuteTime": {
     "end_time": "2022-10-24T07:21:00.928769Z",
     "start_time": "2022-10-24T07:21:00.912776Z"
    }
   },
   "outputs": [],
   "source": [
    "x2[0] = 100000"
   ]
  },
  {
   "cell_type": "code",
   "execution_count": 221,
   "id": "6407e6cf",
   "metadata": {
    "ExecuteTime": {
     "end_time": "2022-10-24T07:21:09.147125Z",
     "start_time": "2022-10-24T07:21:09.130170Z"
    }
   },
   "outputs": [
    {
     "data": {
      "text/plain": [
       "[100, 2, 3, 4, 5]"
      ]
     },
     "execution_count": 221,
     "metadata": {},
     "output_type": "execute_result"
    }
   ],
   "source": [
    "x"
   ]
  },
  {
   "cell_type": "code",
   "execution_count": 222,
   "id": "ade59b5a",
   "metadata": {
    "ExecuteTime": {
     "end_time": "2022-10-24T07:23:21.715811Z",
     "start_time": "2022-10-24T07:23:21.697844Z"
    }
   },
   "outputs": [
    {
     "name": "stdout",
     "output_type": "stream",
     "text": [
      "type: <class 'numpy.ndarray'>\n",
      "shape:(2, 3), dimension:2, dtype:int32\n",
      "Array's Data: \n",
      " [[3 3 8]\n",
      " [5 7 8]]\n"
     ]
    }
   ],
   "source": [
    "a = np.random.randint(1, 10, (2,3))\n",
    "pprint(a)"
   ]
  },
  {
   "cell_type": "code",
   "execution_count": 223,
   "id": "3a26442f",
   "metadata": {
    "ExecuteTime": {
     "end_time": "2022-10-24T07:25:02.580922Z",
     "start_time": "2022-10-24T07:25:02.572943Z"
    }
   },
   "outputs": [
    {
     "name": "stdout",
     "output_type": "stream",
     "text": [
      "type: <class 'numpy.ndarray'>\n",
      "shape:(3, 2, 1), dimension:3, dtype:int32\n",
      "Array's Data: \n",
      " [[[3]\n",
      "  [3]]\n",
      "\n",
      " [[8]\n",
      "  [5]]\n",
      "\n",
      " [[7]\n",
      "  [8]]]\n"
     ]
    }
   ],
   "source": [
    "result = a.reshape(3, 2, 1)\n",
    "pprint(result)"
   ]
  },
  {
   "cell_type": "code",
   "execution_count": 224,
   "id": "c94252b3",
   "metadata": {
    "ExecuteTime": {
     "end_time": "2022-10-24T07:27:41.100588Z",
     "start_time": "2022-10-24T07:27:41.091612Z"
    }
   },
   "outputs": [],
   "source": [
    "x = np.array([1, 2, 3, 4, 5, 6, 7, 8, 9])"
   ]
  },
  {
   "cell_type": "code",
   "execution_count": 225,
   "id": "2cb6c481",
   "metadata": {
    "ExecuteTime": {
     "end_time": "2022-10-24T07:27:44.731930Z",
     "start_time": "2022-10-24T07:27:44.722956Z"
    }
   },
   "outputs": [
    {
     "data": {
      "text/plain": [
       "array([1, 2, 3, 4, 5, 6, 7, 8, 9])"
      ]
     },
     "execution_count": 225,
     "metadata": {},
     "output_type": "execute_result"
    }
   ],
   "source": [
    "x"
   ]
  },
  {
   "cell_type": "code",
   "execution_count": 226,
   "id": "afe69779",
   "metadata": {
    "ExecuteTime": {
     "end_time": "2022-10-24T07:28:46.400773Z",
     "start_time": "2022-10-24T07:28:46.386806Z"
    }
   },
   "outputs": [
    {
     "name": "stdout",
     "output_type": "stream",
     "text": [
      "type: <class 'numpy.ndarray'>\n",
      "shape:(3, 3), dimension:2, dtype:int32\n",
      "Array's Data: \n",
      " [[1 2 3]\n",
      " [4 5 6]\n",
      " [7 8 9]]\n"
     ]
    }
   ],
   "source": [
    "y = x.reshape(3, -1)\n",
    "pprint(y)"
   ]
  },
  {
   "cell_type": "markdown",
   "id": "9ec3d500",
   "metadata": {},
   "source": [
    "#### 요소 추가/삭제\n",
    "- 배열의 요소 변경 추가, 삽입, 삭제\n",
    "- resize, append, insert, delete"
   ]
  },
  {
   "cell_type": "code",
   "execution_count": 227,
   "id": "be2cc20a",
   "metadata": {
    "ExecuteTime": {
     "end_time": "2022-10-24T07:34:31.463876Z",
     "start_time": "2022-10-24T07:34:31.457893Z"
    }
   },
   "outputs": [
    {
     "name": "stdout",
     "output_type": "stream",
     "text": [
      "type: <class 'numpy.ndarray'>\n",
      "shape:(2, 6), dimension:2, dtype:int32\n",
      "Array's Data: \n",
      " [[4 6 6 5 2 9]\n",
      " [7 3 7 5 8 3]]\n"
     ]
    }
   ],
   "source": [
    "a = np.random.randint(1, 10, (2,6))\n",
    "pprint(a)"
   ]
  },
  {
   "cell_type": "code",
   "execution_count": 228,
   "id": "e0b53581",
   "metadata": {
    "ExecuteTime": {
     "end_time": "2022-10-24T07:35:08.463717Z",
     "start_time": "2022-10-24T07:35:08.450708Z"
    }
   },
   "outputs": [
    {
     "name": "stdout",
     "output_type": "stream",
     "text": [
      "type: <class 'numpy.ndarray'>\n",
      "shape:(6, 2), dimension:2, dtype:int32\n",
      "Array's Data: \n",
      " [[4 6]\n",
      " [6 5]\n",
      " [2 9]\n",
      " [7 3]\n",
      " [7 5]\n",
      " [8 3]]\n"
     ]
    }
   ],
   "source": [
    "# shape 변경, 요소수 변경 없음\n",
    "a.resize((6, 2))\n",
    "pprint(a)"
   ]
  },
  {
   "cell_type": "code",
   "execution_count": 229,
   "id": "1e036bd3",
   "metadata": {
    "ExecuteTime": {
     "end_time": "2022-10-24T07:35:39.621667Z",
     "start_time": "2022-10-24T07:35:39.617679Z"
    }
   },
   "outputs": [
    {
     "name": "stdout",
     "output_type": "stream",
     "text": [
      "type: <class 'numpy.ndarray'>\n",
      "shape:(2, 6), dimension:2, dtype:int32\n",
      "Array's Data: \n",
      " [[6 5 3 5 8 1]\n",
      " [1 6 6 8 2 9]]\n"
     ]
    }
   ],
   "source": [
    "b = np.random.randint(1, 10, (2,6))\n",
    "pprint(b)"
   ]
  },
  {
   "cell_type": "code",
   "execution_count": 230,
   "id": "8c35ccda",
   "metadata": {
    "ExecuteTime": {
     "end_time": "2022-10-24T07:36:54.701136Z",
     "start_time": "2022-10-24T07:36:54.697147Z"
    }
   },
   "outputs": [
    {
     "name": "stdout",
     "output_type": "stream",
     "text": [
      "type: <class 'numpy.ndarray'>\n",
      "shape:(2, 10), dimension:2, dtype:int32\n",
      "Array's Data: \n",
      " [[6 5 3 5 8 1 1 6 6 8]\n",
      " [2 9 0 0 0 0 0 0 0 0]]\n"
     ]
    }
   ],
   "source": [
    "# 요소수 12 => 20\n",
    "# 늘어난 요소는 0으로 채워짐\n",
    "b.resize((2, 10))\n",
    "pprint(b)"
   ]
  },
  {
   "cell_type": "code",
   "execution_count": 232,
   "id": "8f3e5cb7",
   "metadata": {
    "ExecuteTime": {
     "end_time": "2022-10-24T07:37:23.468722Z",
     "start_time": "2022-10-24T07:37:23.457750Z"
    }
   },
   "outputs": [
    {
     "name": "stdout",
     "output_type": "stream",
     "text": [
      "type: <class 'numpy.ndarray'>\n",
      "shape:(2, 6), dimension:2, dtype:int32\n",
      "Array's Data: \n",
      " [[2 7 7 2 8 3]\n",
      " [9 3 8 1 6 3]]\n"
     ]
    }
   ],
   "source": [
    "c = np.random.randint(1, 10, (2,6))\n",
    "pprint(c)"
   ]
  },
  {
   "cell_type": "code",
   "execution_count": 233,
   "id": "68a10094",
   "metadata": {
    "ExecuteTime": {
     "end_time": "2022-10-24T07:37:52.700646Z",
     "start_time": "2022-10-24T07:37:52.689678Z"
    }
   },
   "outputs": [],
   "source": [
    "# 요소수 12 => 9\n",
    "# 삭제\n",
    "c.resize((3,3))"
   ]
  },
  {
   "cell_type": "code",
   "execution_count": 234,
   "id": "feaf9787",
   "metadata": {
    "ExecuteTime": {
     "end_time": "2022-10-24T07:38:01.800492Z",
     "start_time": "2022-10-24T07:38:01.785531Z"
    }
   },
   "outputs": [
    {
     "name": "stdout",
     "output_type": "stream",
     "text": [
      "type: <class 'numpy.ndarray'>\n",
      "shape:(3, 3), dimension:2, dtype:int32\n",
      "Array's Data: \n",
      " [[2 7 7]\n",
      " [2 8 3]\n",
      " [9 3 8]]\n"
     ]
    }
   ],
   "source": [
    "pprint(c)"
   ]
  },
  {
   "cell_type": "markdown",
   "id": "a41e7033",
   "metadata": {},
   "source": [
    "append(arr, value, axis=none)\n",
    "- 배열의 끝에 추가"
   ]
  },
  {
   "cell_type": "code",
   "execution_count": 235,
   "id": "c9de800a",
   "metadata": {
    "ExecuteTime": {
     "end_time": "2022-10-24T07:39:41.574693Z",
     "start_time": "2022-10-24T07:39:41.555722Z"
    }
   },
   "outputs": [
    {
     "name": "stdout",
     "output_type": "stream",
     "text": [
      "type: <class 'numpy.ndarray'>\n",
      "shape:(3, 3), dimension:2, dtype:int32\n",
      "Array's Data: \n",
      " [[1 2 3]\n",
      " [4 5 6]\n",
      " [7 8 9]]\n",
      "type: <class 'numpy.ndarray'>\n",
      "shape:(3, 3), dimension:2, dtype:int32\n",
      "Array's Data: \n",
      " [[10 11 12]\n",
      " [13 14 15]\n",
      " [16 17 18]]\n"
     ]
    }
   ],
   "source": [
    "x = np.arange(1, 10).reshape(3, 3)\n",
    "pprint(x)\n",
    "y = np.arange(10, 19).reshape(3, 3)\n",
    "pprint(y)"
   ]
  },
  {
   "cell_type": "code",
   "execution_count": 236,
   "id": "b4a39396",
   "metadata": {
    "ExecuteTime": {
     "end_time": "2022-10-24T07:42:03.609385Z",
     "start_time": "2022-10-24T07:42:03.604398Z"
    }
   },
   "outputs": [
    {
     "name": "stdout",
     "output_type": "stream",
     "text": [
      "type: <class 'numpy.ndarray'>\n",
      "shape:(18,), dimension:1, dtype:int32\n",
      "Array's Data: \n",
      " [ 1  2  3  4  5  6  7  8  9 10 11 12 13 14 15 16 17 18]\n"
     ]
    }
   ],
   "source": [
    "# case1. axis 지정없이 추가\n",
    "# axis를 지정하지 않으면 배열은 1차원 배열로 변형되어 결합된다.\n",
    "result = np.append(x,y)\n",
    "pprint(result)"
   ]
  },
  {
   "cell_type": "code",
   "execution_count": 237,
   "id": "fb60e3c2",
   "metadata": {
    "ExecuteTime": {
     "end_time": "2022-10-24T07:43:16.455392Z",
     "start_time": "2022-10-24T07:43:16.450406Z"
    }
   },
   "outputs": [
    {
     "name": "stdout",
     "output_type": "stream",
     "text": [
      "type: <class 'numpy.ndarray'>\n",
      "shape:(3, 3), dimension:2, dtype:int32\n",
      "Array's Data: \n",
      " [[1 2 3]\n",
      " [4 5 6]\n",
      " [7 8 9]]\n"
     ]
    }
   ],
   "source": [
    "pprint(x)"
   ]
  },
  {
   "cell_type": "code",
   "execution_count": 238,
   "id": "8425c211",
   "metadata": {
    "ExecuteTime": {
     "end_time": "2022-10-24T07:44:32.744317Z",
     "start_time": "2022-10-24T07:44:32.728354Z"
    }
   },
   "outputs": [
    {
     "name": "stdout",
     "output_type": "stream",
     "text": [
      "type: <class 'numpy.ndarray'>\n",
      "shape:(6, 3), dimension:2, dtype:int32\n",
      "Array's Data: \n",
      " [[ 1  2  3]\n",
      " [ 4  5  6]\n",
      " [ 7  8  9]\n",
      " [10 11 12]\n",
      " [13 14 15]\n",
      " [16 17 18]]\n"
     ]
    }
   ],
   "source": [
    "# case2. axis = 0, 행을 기준으로\n",
    "result = np.append(x,y, axis=0)\n",
    "pprint(result)\n"
   ]
  },
  {
   "cell_type": "code",
   "execution_count": 239,
   "id": "72eab795",
   "metadata": {
    "ExecuteTime": {
     "end_time": "2022-10-24T07:45:24.536680Z",
     "start_time": "2022-10-24T07:45:24.522718Z"
    }
   },
   "outputs": [
    {
     "name": "stdout",
     "output_type": "stream",
     "text": [
      "type: <class 'numpy.ndarray'>\n",
      "shape:(3, 6), dimension:2, dtype:int32\n",
      "Array's Data: \n",
      " [[ 1  2  3 10 11 12]\n",
      " [ 4  5  6 13 14 15]\n",
      " [ 7  8  9 16 17 18]]\n"
     ]
    }
   ],
   "source": [
    "# case3. axis = 1, 열을 기준으로\n",
    "result = np.append(x,y, axis=1)\n",
    "pprint(result)"
   ]
  },
  {
   "cell_type": "markdown",
   "id": "3e0e080f",
   "metadata": {},
   "source": [
    "#### insert(arr, obj, value, axis)"
   ]
  },
  {
   "cell_type": "code",
   "execution_count": 241,
   "id": "540c624f",
   "metadata": {
    "ExecuteTime": {
     "end_time": "2022-10-24T07:49:33.610882Z",
     "start_time": "2022-10-24T07:49:33.592930Z"
    }
   },
   "outputs": [
    {
     "name": "stdout",
     "output_type": "stream",
     "text": [
      "type: <class 'numpy.ndarray'>\n",
      "shape:(3, 3), dimension:2, dtype:int32\n",
      "Array's Data: \n",
      " [[1 2 3]\n",
      " [4 5 6]\n",
      " [7 8 9]]\n"
     ]
    }
   ],
   "source": [
    "a = np.arange(1, 10).reshape(3, 3)\n",
    "pprint(a)"
   ]
  },
  {
   "cell_type": "code",
   "execution_count": 242,
   "id": "b291445e",
   "metadata": {
    "ExecuteTime": {
     "end_time": "2022-10-24T07:50:52.932554Z",
     "start_time": "2022-10-24T07:50:52.921583Z"
    }
   },
   "outputs": [
    {
     "data": {
      "text/plain": [
       "array([ 1, 99,  2,  3,  4,  5,  6,  7,  8,  9])"
      ]
     },
     "execution_count": 242,
     "metadata": {},
     "output_type": "execute_result"
    }
   ],
   "source": [
    "# a라는 배열을 일차원 배열로 변환하고 1번 index에 99를 추가\n",
    "np.insert(a, 1, 99)"
   ]
  },
  {
   "cell_type": "code",
   "execution_count": 243,
   "id": "53720f88",
   "metadata": {
    "ExecuteTime": {
     "end_time": "2022-10-24T07:51:14.868999Z",
     "start_time": "2022-10-24T07:51:14.849555Z"
    }
   },
   "outputs": [
    {
     "data": {
      "text/plain": [
       "array([[ 1,  2,  3],\n",
       "       [99, 99, 99],\n",
       "       [ 4,  5,  6],\n",
       "       [ 7,  8,  9]])"
      ]
     },
     "execution_count": 243,
     "metadata": {},
     "output_type": "execute_result"
    }
   ],
   "source": [
    "np.insert(a, 1, 99, axis=0)"
   ]
  },
  {
   "cell_type": "code",
   "execution_count": 244,
   "id": "7c8e4fc2",
   "metadata": {
    "ExecuteTime": {
     "end_time": "2022-10-24T07:52:07.267427Z",
     "start_time": "2022-10-24T07:52:07.254467Z"
    }
   },
   "outputs": [
    {
     "data": {
      "text/plain": [
       "array([[ 1, 99,  2,  3],\n",
       "       [ 4, 99,  5,  6],\n",
       "       [ 7, 99,  8,  9]])"
      ]
     },
     "execution_count": 244,
     "metadata": {},
     "output_type": "execute_result"
    }
   ],
   "source": [
    "np.insert(a, 1, 99, axis=1)"
   ]
  },
  {
   "cell_type": "markdown",
   "id": "fe43ce5a",
   "metadata": {},
   "source": [
    "#### delete(arr, obj, axis=None)"
   ]
  },
  {
   "cell_type": "code",
   "execution_count": 245,
   "id": "99e4c39e",
   "metadata": {
    "ExecuteTime": {
     "end_time": "2022-10-24T07:54:01.490667Z",
     "start_time": "2022-10-24T07:54:01.481616Z"
    }
   },
   "outputs": [
    {
     "name": "stdout",
     "output_type": "stream",
     "text": [
      "type: <class 'numpy.ndarray'>\n",
      "shape:(3, 3), dimension:2, dtype:int32\n",
      "Array's Data: \n",
      " [[1 2 3]\n",
      " [4 5 6]\n",
      " [7 8 9]]\n"
     ]
    }
   ],
   "source": [
    "a = np.arange(1, 10).reshape(3, 3)\n",
    "pprint(a)"
   ]
  },
  {
   "cell_type": "code",
   "execution_count": 246,
   "id": "e99d95f3",
   "metadata": {
    "ExecuteTime": {
     "end_time": "2022-10-24T07:54:39.584542Z",
     "start_time": "2022-10-24T07:54:39.578559Z"
    }
   },
   "outputs": [
    {
     "data": {
      "text/plain": [
       "array([1, 3, 4, 5, 6, 7, 8, 9])"
      ]
     },
     "execution_count": 246,
     "metadata": {},
     "output_type": "execute_result"
    }
   ],
   "source": [
    "# 1차원 배열로 변환하고 1번쨰 index 삭제\n",
    "np.delete(a, 1)"
   ]
  },
  {
   "cell_type": "code",
   "execution_count": 247,
   "id": "d98d8cfe",
   "metadata": {
    "ExecuteTime": {
     "end_time": "2022-10-24T07:55:22.313846Z",
     "start_time": "2022-10-24T07:55:22.304870Z"
    }
   },
   "outputs": [
    {
     "data": {
      "text/plain": [
       "array([[1, 2, 3],\n",
       "       [7, 8, 9]])"
      ]
     },
     "execution_count": 247,
     "metadata": {},
     "output_type": "execute_result"
    }
   ],
   "source": [
    "np.delete(a, 1, axis=0)"
   ]
  },
  {
   "cell_type": "code",
   "execution_count": 248,
   "id": "5dd960b2",
   "metadata": {
    "ExecuteTime": {
     "end_time": "2022-10-24T07:55:35.090757Z",
     "start_time": "2022-10-24T07:55:35.081795Z"
    }
   },
   "outputs": [
    {
     "data": {
      "text/plain": [
       "array([[1, 3],\n",
       "       [4, 6],\n",
       "       [7, 9]])"
      ]
     },
     "execution_count": 248,
     "metadata": {},
     "output_type": "execute_result"
    }
   ],
   "source": [
    "np.delete(a, 1, axis=1)"
   ]
  },
  {
   "cell_type": "markdown",
   "id": "eb5060e2",
   "metadata": {},
   "source": [
    "#### 배열 결합\n",
    "- np.concatenate((a1, a2), axis)\n",
    "- np.vstack : 수직 방향으로 배열 결합\n",
    "- np.hstack : 수평 방향으로 배열 결합"
   ]
  },
  {
   "cell_type": "code",
   "execution_count": 249,
   "id": "0b7d732b",
   "metadata": {
    "ExecuteTime": {
     "end_time": "2022-10-24T08:15:00.485175Z",
     "start_time": "2022-10-24T08:15:00.472198Z"
    }
   },
   "outputs": [
    {
     "name": "stdout",
     "output_type": "stream",
     "text": [
      "type: <class 'numpy.ndarray'>\n",
      "shape:(2, 3), dimension:2, dtype:int32\n",
      "Array's Data: \n",
      " [[1 2 3]\n",
      " [4 5 6]]\n",
      "type: <class 'numpy.ndarray'>\n",
      "shape:(2, 3), dimension:2, dtype:int32\n",
      "Array's Data: \n",
      " [[ 7  8  9]\n",
      " [10 11 12]]\n"
     ]
    }
   ],
   "source": [
    "a = np.arange(1, 7).reshape(2, 3)\n",
    "pprint(a)\n",
    "b = np.arange(7, 13).reshape(2, 3)\n",
    "pprint(b)"
   ]
  },
  {
   "cell_type": "code",
   "execution_count": 250,
   "id": "834fdaa0",
   "metadata": {
    "ExecuteTime": {
     "end_time": "2022-10-24T08:15:47.694942Z",
     "start_time": "2022-10-24T08:15:47.688958Z"
    }
   },
   "outputs": [
    {
     "data": {
      "text/plain": [
       "array([[ 1,  2,  3],\n",
       "       [ 4,  5,  6],\n",
       "       [ 7,  8,  9],\n",
       "       [10, 11, 12]])"
      ]
     },
     "execution_count": 250,
     "metadata": {},
     "output_type": "execute_result"
    }
   ],
   "source": [
    "result = np.concatenate((a, b)) # axis = 0\n",
    "result"
   ]
  },
  {
   "cell_type": "code",
   "execution_count": 251,
   "id": "5358098e",
   "metadata": {
    "ExecuteTime": {
     "end_time": "2022-10-24T08:16:25.021603Z",
     "start_time": "2022-10-24T08:16:25.015617Z"
    }
   },
   "outputs": [
    {
     "data": {
      "text/plain": [
       "array([[ 1,  2,  3],\n",
       "       [ 4,  5,  6],\n",
       "       [ 7,  8,  9],\n",
       "       [10, 11, 12]])"
      ]
     },
     "execution_count": 251,
     "metadata": {},
     "output_type": "execute_result"
    }
   ],
   "source": [
    "result = np.concatenate((a, b), axis = 0)\n",
    "result"
   ]
  },
  {
   "cell_type": "code",
   "execution_count": 252,
   "id": "cfac75b6",
   "metadata": {
    "ExecuteTime": {
     "end_time": "2022-10-24T08:16:33.272044Z",
     "start_time": "2022-10-24T08:16:33.264066Z"
    }
   },
   "outputs": [
    {
     "data": {
      "text/plain": [
       "array([[ 1,  2,  3,  7,  8,  9],\n",
       "       [ 4,  5,  6, 10, 11, 12]])"
      ]
     },
     "execution_count": 252,
     "metadata": {},
     "output_type": "execute_result"
    }
   ],
   "source": [
    "result = np.concatenate((a, b), axis = 1)\n",
    "result"
   ]
  },
  {
   "cell_type": "markdown",
   "id": "d51dc6a0",
   "metadata": {
    "ExecuteTime": {
     "end_time": "2022-10-24T08:18:43.348198Z",
     "start_time": "2022-10-24T08:18:43.343213Z"
    }
   },
   "source": [
    "#### 수직 방향 배열 결합 : vstack\n",
    "- np.concatenate((a, b), axis = 0) 동일"
   ]
  },
  {
   "cell_type": "code",
   "execution_count": 254,
   "id": "b1f2eada",
   "metadata": {
    "ExecuteTime": {
     "end_time": "2022-10-24T08:21:13.497702Z",
     "start_time": "2022-10-24T08:21:13.487740Z"
    }
   },
   "outputs": [
    {
     "name": "stdout",
     "output_type": "stream",
     "text": [
      "type: <class 'numpy.ndarray'>\n",
      "shape:(2, 3), dimension:2, dtype:int32\n",
      "Array's Data: \n",
      " [[1 2 3]\n",
      " [4 5 6]]\n",
      "type: <class 'numpy.ndarray'>\n",
      "shape:(2, 3), dimension:2, dtype:int32\n",
      "Array's Data: \n",
      " [[ 7  8  9]\n",
      " [10 11 12]]\n"
     ]
    }
   ],
   "source": [
    "a = np.arange(1, 7).reshape(2, 3)\n",
    "pprint(a)\n",
    "b = np.arange(7, 13).reshape(2, 3)\n",
    "pprint(b)"
   ]
  },
  {
   "cell_type": "code",
   "execution_count": 255,
   "id": "cf8f2d53",
   "metadata": {
    "ExecuteTime": {
     "end_time": "2022-10-24T08:21:45.220734Z",
     "start_time": "2022-10-24T08:21:45.203787Z"
    },
    "scrolled": true
   },
   "outputs": [
    {
     "data": {
      "text/plain": [
       "array([[ 1,  2,  3],\n",
       "       [ 4,  5,  6],\n",
       "       [ 7,  8,  9],\n",
       "       [10, 11, 12]])"
      ]
     },
     "execution_count": 255,
     "metadata": {},
     "output_type": "execute_result"
    }
   ],
   "source": [
    "np.vstack((a, b))"
   ]
  },
  {
   "cell_type": "code",
   "execution_count": 256,
   "id": "0a8e12e7",
   "metadata": {
    "ExecuteTime": {
     "end_time": "2022-10-24T08:22:08.860430Z",
     "start_time": "2022-10-24T08:22:08.852452Z"
    }
   },
   "outputs": [
    {
     "data": {
      "text/plain": [
       "array([[ 1,  2,  3],\n",
       "       [ 4,  5,  6],\n",
       "       [ 7,  8,  9],\n",
       "       [10, 11, 12],\n",
       "       [ 1,  2,  3],\n",
       "       [ 4,  5,  6],\n",
       "       [ 7,  8,  9],\n",
       "       [10, 11, 12]])"
      ]
     },
     "execution_count": 256,
     "metadata": {},
     "output_type": "execute_result"
    }
   ],
   "source": [
    "np.vstack((a, b, a, b))"
   ]
  },
  {
   "cell_type": "markdown",
   "id": "155a7154",
   "metadata": {},
   "source": [
    "#### 수평 방향 배열 결합 : hstack\n",
    "- np.concatenate((a, b), axis = 1) 동일"
   ]
  },
  {
   "cell_type": "code",
   "execution_count": 259,
   "id": "6ca8fa1c",
   "metadata": {
    "ExecuteTime": {
     "end_time": "2022-10-24T08:22:48.732645Z",
     "start_time": "2022-10-24T08:22:48.725647Z"
    }
   },
   "outputs": [
    {
     "name": "stdout",
     "output_type": "stream",
     "text": [
      "type: <class 'numpy.ndarray'>\n",
      "shape:(2, 3), dimension:2, dtype:int32\n",
      "Array's Data: \n",
      " [[1 2 3]\n",
      " [4 5 6]]\n",
      "type: <class 'numpy.ndarray'>\n",
      "shape:(2, 3), dimension:2, dtype:int32\n",
      "Array's Data: \n",
      " [[ 7  8  9]\n",
      " [10 11 12]]\n"
     ]
    }
   ],
   "source": [
    "a = np.arange(1, 7).reshape(2, 3)\n",
    "pprint(a)\n",
    "b = np.arange(7, 13).reshape(2, 3)\n",
    "pprint(b)"
   ]
  },
  {
   "cell_type": "code",
   "execution_count": 258,
   "id": "613ce9fb",
   "metadata": {
    "ExecuteTime": {
     "end_time": "2022-10-24T08:22:34.412998Z",
     "start_time": "2022-10-24T08:22:34.408012Z"
    }
   },
   "outputs": [
    {
     "data": {
      "text/plain": [
       "array([[ 1,  2,  3,  7,  8,  9],\n",
       "       [ 4,  5,  6, 10, 11, 12]])"
      ]
     },
     "execution_count": 258,
     "metadata": {},
     "output_type": "execute_result"
    }
   ],
   "source": [
    "np.hstack((a,b))"
   ]
  },
  {
   "cell_type": "code",
   "execution_count": 260,
   "id": "d0294451",
   "metadata": {
    "ExecuteTime": {
     "end_time": "2022-10-24T08:22:57.719782Z",
     "start_time": "2022-10-24T08:22:57.703938Z"
    }
   },
   "outputs": [
    {
     "data": {
      "text/plain": [
       "array([[ 1,  2,  3,  7,  8,  9,  1,  2,  3,  7,  8,  9],\n",
       "       [ 4,  5,  6, 10, 11, 12,  4,  5,  6, 10, 11, 12]])"
      ]
     },
     "execution_count": 260,
     "metadata": {},
     "output_type": "execute_result"
    }
   ],
   "source": [
    "np.hstack((a,b,a,b))"
   ]
  },
  {
   "cell_type": "markdown",
   "id": "db84bcb9",
   "metadata": {},
   "source": [
    "#### 배열 분리\n",
    "- np.hsplit() : 수평(행) 방향으로 분할\n",
    "- np.vsplit() : 수직(열) 방향으로 분할"
   ]
  },
  {
   "cell_type": "code",
   "execution_count": 262,
   "id": "1cd85e67",
   "metadata": {
    "ExecuteTime": {
     "end_time": "2022-10-24T08:26:01.151587Z",
     "start_time": "2022-10-24T08:26:01.135639Z"
    }
   },
   "outputs": [
    {
     "name": "stdout",
     "output_type": "stream",
     "text": [
      "type: <class 'numpy.ndarray'>\n",
      "shape:(4, 6), dimension:2, dtype:int32\n",
      "Array's Data: \n",
      " [[ 1  2  3  4  5  6]\n",
      " [ 7  8  9 10 11 12]\n",
      " [13 14 15 16 17 18]\n",
      " [19 20 21 22 23 24]]\n"
     ]
    }
   ],
   "source": [
    "a = np.arange(1, 25).reshape(4, 6)\n",
    "pprint(a)"
   ]
  },
  {
   "cell_type": "code",
   "execution_count": 263,
   "id": "bb35ce0a",
   "metadata": {
    "ExecuteTime": {
     "end_time": "2022-10-24T08:26:33.002729Z",
     "start_time": "2022-10-24T08:26:32.992757Z"
    }
   },
   "outputs": [
    {
     "data": {
      "text/plain": [
       "[array([[ 1,  2,  3],\n",
       "       [ 7,  8,  9],\n",
       "       [13, 14, 15],\n",
       "       [19, 20, 21]]), array([[ 4,  5,  6],\n",
       "       [10, 11, 12],\n",
       "       [16, 17, 18],\n",
       "       [22, 23, 24]])]"
      ]
     },
     "execution_count": 263,
     "metadata": {},
     "output_type": "execute_result"
    }
   ],
   "source": [
    "# 수평방향으로 배열을 두 그룹으로 분할\n",
    "result = np.hsplit(a, 2)\n",
    "result"
   ]
  },
  {
   "cell_type": "code",
   "execution_count": 264,
   "id": "fa681855",
   "metadata": {
    "ExecuteTime": {
     "end_time": "2022-10-24T08:27:10.046207Z",
     "start_time": "2022-10-24T08:27:10.032241Z"
    }
   },
   "outputs": [
    {
     "data": {
      "text/plain": [
       "[array([[ 1,  2],\n",
       "       [ 7,  8],\n",
       "       [13, 14],\n",
       "       [19, 20]]), array([[ 3,  4],\n",
       "       [ 9, 10],\n",
       "       [15, 16],\n",
       "       [21, 22]]), array([[ 5,  6],\n",
       "       [11, 12],\n",
       "       [17, 18],\n",
       "       [23, 24]])]"
      ]
     },
     "execution_count": 264,
     "metadata": {},
     "output_type": "execute_result"
    }
   ],
   "source": [
    "result = np.hsplit(a, 3)\n",
    "result"
   ]
  },
  {
   "cell_type": "code",
   "execution_count": 265,
   "id": "3a793740",
   "metadata": {
    "ExecuteTime": {
     "end_time": "2022-10-24T08:32:53.678780Z",
     "start_time": "2022-10-24T08:32:53.672814Z"
    }
   },
   "outputs": [
    {
     "data": {
      "text/plain": [
       "[array([[ 1],\n",
       "       [ 7],\n",
       "       [13],\n",
       "       [19]]), array([[ 2,  3],\n",
       "       [ 8,  9],\n",
       "       [14, 15],\n",
       "       [20, 21]]), array([[ 4,  5,  6],\n",
       "       [10, 11, 12],\n",
       "       [16, 17, 18],\n",
       "       [22, 23, 24]]), array([], shape=(4, 0), dtype=int32)]"
      ]
     },
     "execution_count": 265,
     "metadata": {},
     "output_type": "execute_result"
    }
   ],
   "source": [
    "# 구간 설정 배열을 이용하여 여러 구간으로 구분\n",
    "# a[:,:1], a[:, 1:3], a[:, 3:6]\n",
    "result = np.hsplit(a, [1, 3, 6])\n",
    "result"
   ]
  },
  {
   "cell_type": "markdown",
   "id": "69627b77",
   "metadata": {},
   "source": [
    "#### Boolean Indexing"
   ]
  },
  {
   "cell_type": "code",
   "execution_count": 2,
   "id": "b65a9b53",
   "metadata": {
    "ExecuteTime": {
     "end_time": "2022-10-25T01:52:17.592767Z",
     "start_time": "2022-10-25T01:52:17.167895Z"
    }
   },
   "outputs": [],
   "source": [
    "import numpy as np\n",
    "names = np.array(['Bob', 'Joe', 'Will', 'Bob', 'Will', 'Joe', 'Joe'])\n",
    "data = np.random.randn(7,4)"
   ]
  },
  {
   "cell_type": "code",
   "execution_count": 3,
   "id": "9b8ffb00",
   "metadata": {
    "ExecuteTime": {
     "end_time": "2022-10-25T01:52:25.103127Z",
     "start_time": "2022-10-25T01:52:25.085174Z"
    }
   },
   "outputs": [
    {
     "data": {
      "text/plain": [
       "array([[-2.19744703, -1.49375083, -0.16364944,  0.20539167],\n",
       "       [ 1.63308289, -0.65627456, -1.16202682, -2.70901057],\n",
       "       [ 1.77496938, -1.32352978,  0.69874794, -0.5391211 ],\n",
       "       [ 0.75115977, -1.07629882, -0.86137796, -0.39206197],\n",
       "       [ 0.25287993,  2.29573464, -0.09370263,  0.63303563],\n",
       "       [-0.12363999,  0.96933269, -0.54000788,  0.40472403],\n",
       "       [ 1.35759312, -0.93063668,  0.80554847,  0.40831775]])"
      ]
     },
     "execution_count": 3,
     "metadata": {},
     "output_type": "execute_result"
    }
   ],
   "source": [
    "data"
   ]
  },
  {
   "cell_type": "code",
   "execution_count": 4,
   "id": "f9ac67b0",
   "metadata": {
    "ExecuteTime": {
     "end_time": "2022-10-25T01:52:33.274978Z",
     "start_time": "2022-10-25T01:52:33.266003Z"
    }
   },
   "outputs": [
    {
     "data": {
      "text/plain": [
       "array(['Bob', 'Joe', 'Will', 'Bob', 'Will', 'Joe', 'Joe'], dtype='<U4')"
      ]
     },
     "execution_count": 4,
     "metadata": {},
     "output_type": "execute_result"
    }
   ],
   "source": [
    "names"
   ]
  },
  {
   "cell_type": "code",
   "execution_count": 5,
   "id": "6964d24f",
   "metadata": {
    "ExecuteTime": {
     "end_time": "2022-10-25T01:54:30.399689Z",
     "start_time": "2022-10-25T01:54:30.382734Z"
    }
   },
   "outputs": [
    {
     "data": {
      "text/plain": [
       "array([ True, False, False,  True, False, False, False])"
      ]
     },
     "execution_count": 5,
     "metadata": {},
     "output_type": "execute_result"
    }
   ],
   "source": [
    "names == 'Bob'"
   ]
  },
  {
   "cell_type": "code",
   "execution_count": 6,
   "id": "95bece30",
   "metadata": {
    "ExecuteTime": {
     "end_time": "2022-10-25T01:55:07.289914Z",
     "start_time": "2022-10-25T01:55:07.270965Z"
    }
   },
   "outputs": [
    {
     "data": {
      "text/plain": [
       "array([[-2.19744703, -1.49375083, -0.16364944,  0.20539167],\n",
       "       [ 0.75115977, -1.07629882, -0.86137796, -0.39206197]])"
      ]
     },
     "execution_count": 6,
     "metadata": {},
     "output_type": "execute_result"
    }
   ],
   "source": [
    "data[names == 'Bob']"
   ]
  },
  {
   "cell_type": "markdown",
   "id": "a732be4d",
   "metadata": {},
   "source": [
    "#### 전치행렬과 축바꾸기\n",
    "- transpose()와 T"
   ]
  },
  {
   "cell_type": "code",
   "execution_count": 7,
   "id": "d39b98e7",
   "metadata": {
    "ExecuteTime": {
     "end_time": "2022-10-25T02:57:59.145154Z",
     "start_time": "2022-10-25T02:57:59.140168Z"
    }
   },
   "outputs": [
    {
     "data": {
      "text/plain": [
       "array([[0, 1],\n",
       "       [2, 3]])"
      ]
     },
     "execution_count": 7,
     "metadata": {},
     "output_type": "execute_result"
    }
   ],
   "source": [
    "x = np.arange(4).reshape(2, 2)\n",
    "x"
   ]
  },
  {
   "cell_type": "code",
   "execution_count": 8,
   "id": "76f75efc",
   "metadata": {
    "ExecuteTime": {
     "end_time": "2022-10-25T02:58:38.460011Z",
     "start_time": "2022-10-25T02:58:38.452033Z"
    }
   },
   "outputs": [
    {
     "data": {
      "text/plain": [
       "array([[0, 2],\n",
       "       [1, 3]])"
      ]
     },
     "execution_count": 8,
     "metadata": {},
     "output_type": "execute_result"
    }
   ],
   "source": [
    "x.T"
   ]
  },
  {
   "cell_type": "code",
   "execution_count": 12,
   "id": "77310070",
   "metadata": {
    "ExecuteTime": {
     "end_time": "2022-10-25T02:59:43.097438Z",
     "start_time": "2022-10-25T02:59:43.090447Z"
    }
   },
   "outputs": [
    {
     "data": {
      "text/plain": [
       "array([[0, 1],\n",
       "       [2, 3]])"
      ]
     },
     "execution_count": 12,
     "metadata": {},
     "output_type": "execute_result"
    }
   ],
   "source": [
    "x.transpose(0,1)"
   ]
  },
  {
   "cell_type": "code",
   "execution_count": 13,
   "id": "9a89b46f",
   "metadata": {
    "ExecuteTime": {
     "end_time": "2022-10-25T03:00:06.434958Z",
     "start_time": "2022-10-25T03:00:06.419007Z"
    }
   },
   "outputs": [
    {
     "data": {
      "text/plain": [
       "array([[[1., 1., 1.],\n",
       "        [1., 1., 1.]]])"
      ]
     },
     "execution_count": 13,
     "metadata": {},
     "output_type": "execute_result"
    }
   ],
   "source": [
    "y = np.ones((1, 2, 3))\n",
    "y"
   ]
  },
  {
   "cell_type": "code",
   "execution_count": 15,
   "id": "821ad8b3",
   "metadata": {
    "ExecuteTime": {
     "end_time": "2022-10-25T03:01:12.747859Z",
     "start_time": "2022-10-25T03:01:12.737886Z"
    }
   },
   "outputs": [
    {
     "data": {
      "text/plain": [
       "array([[[1., 1.]],\n",
       "\n",
       "       [[1., 1.]],\n",
       "\n",
       "       [[1., 1.]]])"
      ]
     },
     "execution_count": 15,
     "metadata": {},
     "output_type": "execute_result"
    }
   ],
   "source": [
    "np.transpose(y, (2,0,1))"
   ]
  },
  {
   "cell_type": "code",
   "execution_count": null,
   "id": "2d7dd935",
   "metadata": {},
   "outputs": [],
   "source": []
  }
 ],
 "metadata": {
  "kernelspec": {
   "display_name": "Python 3 (ipykernel)",
   "language": "python",
   "name": "python3"
  },
  "language_info": {
   "codemirror_mode": {
    "name": "ipython",
    "version": 3
   },
   "file_extension": ".py",
   "mimetype": "text/x-python",
   "name": "python",
   "nbconvert_exporter": "python",
   "pygments_lexer": "ipython3",
   "version": "3.9.7"
  },
  "toc": {
   "base_numbering": 1,
   "nav_menu": {},
   "number_sections": true,
   "sideBar": true,
   "skip_h1_title": false,
   "title_cell": "Table of Contents",
   "title_sidebar": "Contents",
   "toc_cell": false,
   "toc_position": {},
   "toc_section_display": true,
   "toc_window_display": true
  }
 },
 "nbformat": 4,
 "nbformat_minor": 5
}
