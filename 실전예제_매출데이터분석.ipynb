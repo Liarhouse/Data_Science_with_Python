{
 "cells": [
  {
   "cell_type": "code",
   "execution_count": 1,
   "id": "34499df6",
   "metadata": {
    "ExecuteTime": {
     "end_time": "2022-10-27T07:02:00.405740Z",
     "start_time": "2022-10-27T07:01:58.836838Z"
    }
   },
   "outputs": [],
   "source": [
    "import numpy as np\n",
    "import pandas as pd\n",
    "import matplotlib.pyplot as plt"
   ]
  },
  {
   "cell_type": "code",
   "execution_count": 4,
   "id": "c6dc1202",
   "metadata": {
    "ExecuteTime": {
     "end_time": "2022-10-27T07:03:33.420489Z",
     "start_time": "2022-10-27T07:03:33.385581Z"
    }
   },
   "outputs": [
    {
     "data": {
      "text/html": [
       "<div>\n",
       "<style scoped>\n",
       "    .dataframe tbody tr th:only-of-type {\n",
       "        vertical-align: middle;\n",
       "    }\n",
       "\n",
       "    .dataframe tbody tr th {\n",
       "        vertical-align: top;\n",
       "    }\n",
       "\n",
       "    .dataframe thead th {\n",
       "        text-align: right;\n",
       "    }\n",
       "</style>\n",
       "<table border=\"1\" class=\"dataframe\">\n",
       "  <thead>\n",
       "    <tr style=\"text-align: right;\">\n",
       "      <th></th>\n",
       "      <th>order_id</th>\n",
       "      <th>quantity</th>\n",
       "      <th>item_name</th>\n",
       "      <th>choice_description</th>\n",
       "      <th>item_price</th>\n",
       "    </tr>\n",
       "  </thead>\n",
       "  <tbody>\n",
       "    <tr>\n",
       "      <th>0</th>\n",
       "      <td>1</td>\n",
       "      <td>1</td>\n",
       "      <td>Chips and Fresh Tomato Salsa</td>\n",
       "      <td>NaN</td>\n",
       "      <td>$2.39</td>\n",
       "    </tr>\n",
       "    <tr>\n",
       "      <th>1</th>\n",
       "      <td>1</td>\n",
       "      <td>1</td>\n",
       "      <td>Izze</td>\n",
       "      <td>[Clementine]</td>\n",
       "      <td>$3.39</td>\n",
       "    </tr>\n",
       "    <tr>\n",
       "      <th>2</th>\n",
       "      <td>1</td>\n",
       "      <td>1</td>\n",
       "      <td>Nantucket Nectar</td>\n",
       "      <td>[Apple]</td>\n",
       "      <td>$3.39</td>\n",
       "    </tr>\n",
       "    <tr>\n",
       "      <th>3</th>\n",
       "      <td>1</td>\n",
       "      <td>1</td>\n",
       "      <td>Chips and Tomatillo-Green Chili Salsa</td>\n",
       "      <td>NaN</td>\n",
       "      <td>$2.39</td>\n",
       "    </tr>\n",
       "    <tr>\n",
       "      <th>4</th>\n",
       "      <td>2</td>\n",
       "      <td>2</td>\n",
       "      <td>Chicken Bowl</td>\n",
       "      <td>[Tomatillo-Red Chili Salsa (Hot), [Black Beans...</td>\n",
       "      <td>$16.98</td>\n",
       "    </tr>\n",
       "  </tbody>\n",
       "</table>\n",
       "</div>"
      ],
      "text/plain": [
       "   order_id  quantity                              item_name  \\\n",
       "0         1         1           Chips and Fresh Tomato Salsa   \n",
       "1         1         1                                   Izze   \n",
       "2         1         1                       Nantucket Nectar   \n",
       "3         1         1  Chips and Tomatillo-Green Chili Salsa   \n",
       "4         2         2                           Chicken Bowl   \n",
       "\n",
       "                                  choice_description item_price  \n",
       "0                                                NaN     $2.39   \n",
       "1                                       [Clementine]     $3.39   \n",
       "2                                            [Apple]     $3.39   \n",
       "3                                                NaN     $2.39   \n",
       "4  [Tomatillo-Red Chili Salsa (Hot), [Black Beans...    $16.98   "
      ]
     },
     "execution_count": 4,
     "metadata": {},
     "output_type": "execute_result"
    }
   ],
   "source": [
    "file_path = 'C:\\K_digital\\source\\data\\chipotle.csv'\n",
    "chipo = pd.read_csv(file_path)\n",
    "chipo.head()"
   ]
  },
  {
   "cell_type": "code",
   "execution_count": 13,
   "id": "387159dd",
   "metadata": {
    "ExecuteTime": {
     "end_time": "2022-10-27T07:17:43.430931Z",
     "start_time": "2022-10-27T07:17:43.415971Z"
    }
   },
   "outputs": [
    {
     "name": "stdout",
     "output_type": "stream",
     "text": [
      "<class 'pandas.core.frame.DataFrame'>\n",
      "RangeIndex: 4622 entries, 0 to 4621\n",
      "Data columns (total 5 columns):\n",
      " #   Column              Non-Null Count  Dtype  \n",
      "---  ------              --------------  -----  \n",
      " 0   order_id            4622 non-null   int64  \n",
      " 1   quantity            4622 non-null   int64  \n",
      " 2   item_name           4622 non-null   object \n",
      " 3   choice_description  3376 non-null   object \n",
      " 4   item_price          4622 non-null   float64\n",
      "dtypes: float64(1), int64(2), object(2)\n",
      "memory usage: 180.7+ KB\n"
     ]
    }
   ],
   "source": [
    "chipo.info()"
   ]
  },
  {
   "cell_type": "code",
   "execution_count": 12,
   "id": "2d2d6a1f",
   "metadata": {
    "ExecuteTime": {
     "end_time": "2022-10-27T07:17:38.819911Z",
     "start_time": "2022-10-27T07:17:38.799945Z"
    }
   },
   "outputs": [],
   "source": [
    "chipo['item_price'] = chipo.item_price.str.slice(1,).astype(float)"
   ]
  },
  {
   "cell_type": "code",
   "execution_count": 30,
   "id": "64f62e32",
   "metadata": {
    "ExecuteTime": {
     "end_time": "2022-10-27T07:31:01.353818Z",
     "start_time": "2022-10-27T07:31:01.334869Z"
    }
   },
   "outputs": [
    {
     "data": {
      "text/html": [
       "<div>\n",
       "<style scoped>\n",
       "    .dataframe tbody tr th:only-of-type {\n",
       "        vertical-align: middle;\n",
       "    }\n",
       "\n",
       "    .dataframe tbody tr th {\n",
       "        vertical-align: top;\n",
       "    }\n",
       "\n",
       "    .dataframe thead th {\n",
       "        text-align: right;\n",
       "    }\n",
       "</style>\n",
       "<table border=\"1\" class=\"dataframe\">\n",
       "  <thead>\n",
       "    <tr style=\"text-align: right;\">\n",
       "      <th></th>\n",
       "      <th>quantity</th>\n",
       "      <th>item_price</th>\n",
       "    </tr>\n",
       "    <tr>\n",
       "      <th>item_name</th>\n",
       "      <th></th>\n",
       "      <th></th>\n",
       "    </tr>\n",
       "  </thead>\n",
       "  <tbody>\n",
       "    <tr>\n",
       "      <th>Chicken Bowl</th>\n",
       "      <td>761</td>\n",
       "      <td>7342.73</td>\n",
       "    </tr>\n",
       "    <tr>\n",
       "      <th>Chicken Burrito</th>\n",
       "      <td>591</td>\n",
       "      <td>5575.82</td>\n",
       "    </tr>\n",
       "    <tr>\n",
       "      <th>Chips and Guacamole</th>\n",
       "      <td>506</td>\n",
       "      <td>2201.04</td>\n",
       "    </tr>\n",
       "    <tr>\n",
       "      <th>Steak Burrito</th>\n",
       "      <td>386</td>\n",
       "      <td>3851.43</td>\n",
       "    </tr>\n",
       "    <tr>\n",
       "      <th>Canned Soft Drink</th>\n",
       "      <td>351</td>\n",
       "      <td>438.75</td>\n",
       "    </tr>\n",
       "    <tr>\n",
       "      <th>Chips</th>\n",
       "      <td>230</td>\n",
       "      <td>494.34</td>\n",
       "    </tr>\n",
       "    <tr>\n",
       "      <th>Steak Bowl</th>\n",
       "      <td>221</td>\n",
       "      <td>2260.19</td>\n",
       "    </tr>\n",
       "    <tr>\n",
       "      <th>Bottled Water</th>\n",
       "      <td>211</td>\n",
       "      <td>302.56</td>\n",
       "    </tr>\n",
       "    <tr>\n",
       "      <th>Chips and Fresh Tomato Salsa</th>\n",
       "      <td>130</td>\n",
       "      <td>361.36</td>\n",
       "    </tr>\n",
       "    <tr>\n",
       "      <th>Canned Soda</th>\n",
       "      <td>126</td>\n",
       "      <td>137.34</td>\n",
       "    </tr>\n",
       "  </tbody>\n",
       "</table>\n",
       "</div>"
      ],
      "text/plain": [
       "                              quantity  item_price\n",
       "item_name                                         \n",
       "Chicken Bowl                       761     7342.73\n",
       "Chicken Burrito                    591     5575.82\n",
       "Chips and Guacamole                506     2201.04\n",
       "Steak Burrito                      386     3851.43\n",
       "Canned Soft Drink                  351      438.75\n",
       "Chips                              230      494.34\n",
       "Steak Bowl                         221     2260.19\n",
       "Bottled Water                      211      302.56\n",
       "Chips and Fresh Tomato Salsa       130      361.36\n",
       "Canned Soda                        126      137.34"
      ]
     },
     "execution_count": 30,
     "metadata": {},
     "output_type": "execute_result"
    }
   ],
   "source": [
    "# 주문이 많은 메뉴 기준으로 정렬한 테이블\n",
    "chipo.groupby('item_name')[['quantity', 'item_price']].sum().sort_values('quantity', ascending=0)"
   ]
  },
  {
   "cell_type": "code",
   "execution_count": 31,
   "id": "724112e4",
   "metadata": {
    "ExecuteTime": {
     "end_time": "2022-10-27T07:32:20.548903Z",
     "start_time": "2022-10-27T07:32:20.526814Z"
    }
   },
   "outputs": [
    {
     "data": {
      "text/html": [
       "<div>\n",
       "<style scoped>\n",
       "    .dataframe tbody tr th:only-of-type {\n",
       "        vertical-align: middle;\n",
       "    }\n",
       "\n",
       "    .dataframe tbody tr th {\n",
       "        vertical-align: top;\n",
       "    }\n",
       "\n",
       "    .dataframe thead th {\n",
       "        text-align: right;\n",
       "    }\n",
       "</style>\n",
       "<table border=\"1\" class=\"dataframe\">\n",
       "  <thead>\n",
       "    <tr style=\"text-align: right;\">\n",
       "      <th></th>\n",
       "      <th>quantity</th>\n",
       "      <th>item_price</th>\n",
       "    </tr>\n",
       "    <tr>\n",
       "      <th>item_name</th>\n",
       "      <th></th>\n",
       "      <th></th>\n",
       "    </tr>\n",
       "  </thead>\n",
       "  <tbody>\n",
       "    <tr>\n",
       "      <th>Chicken Bowl</th>\n",
       "      <td>761</td>\n",
       "      <td>7342.73</td>\n",
       "    </tr>\n",
       "    <tr>\n",
       "      <th>Chicken Burrito</th>\n",
       "      <td>591</td>\n",
       "      <td>5575.82</td>\n",
       "    </tr>\n",
       "    <tr>\n",
       "      <th>Chips and Guacamole</th>\n",
       "      <td>506</td>\n",
       "      <td>2201.04</td>\n",
       "    </tr>\n",
       "    <tr>\n",
       "      <th>Steak Burrito</th>\n",
       "      <td>386</td>\n",
       "      <td>3851.43</td>\n",
       "    </tr>\n",
       "    <tr>\n",
       "      <th>Canned Soft Drink</th>\n",
       "      <td>351</td>\n",
       "      <td>438.75</td>\n",
       "    </tr>\n",
       "    <tr>\n",
       "      <th>Chips</th>\n",
       "      <td>230</td>\n",
       "      <td>494.34</td>\n",
       "    </tr>\n",
       "    <tr>\n",
       "      <th>Steak Bowl</th>\n",
       "      <td>221</td>\n",
       "      <td>2260.19</td>\n",
       "    </tr>\n",
       "    <tr>\n",
       "      <th>Bottled Water</th>\n",
       "      <td>211</td>\n",
       "      <td>302.56</td>\n",
       "    </tr>\n",
       "    <tr>\n",
       "      <th>Chips and Fresh Tomato Salsa</th>\n",
       "      <td>130</td>\n",
       "      <td>361.36</td>\n",
       "    </tr>\n",
       "    <tr>\n",
       "      <th>Canned Soda</th>\n",
       "      <td>126</td>\n",
       "      <td>137.34</td>\n",
       "    </tr>\n",
       "  </tbody>\n",
       "</table>\n",
       "</div>"
      ],
      "text/plain": [
       "                              quantity  item_price\n",
       "item_name                                         \n",
       "Chicken Bowl                       761     7342.73\n",
       "Chicken Burrito                    591     5575.82\n",
       "Chips and Guacamole                506     2201.04\n",
       "Steak Burrito                      386     3851.43\n",
       "Canned Soft Drink                  351      438.75\n",
       "Chips                              230      494.34\n",
       "Steak Bowl                         221     2260.19\n",
       "Bottled Water                      211      302.56\n",
       "Chips and Fresh Tomato Salsa       130      361.36\n",
       "Canned Soda                        126      137.34"
      ]
     },
     "execution_count": 31,
     "metadata": {},
     "output_type": "execute_result"
    }
   ],
   "source": [
    "# 주문이 많은 메뉴 Top 10\n",
    "chipo.groupby('item_name')[['quantity', 'item_price']].sum().sort_values('quantity', ascending=0).head(10)"
   ]
  },
  {
   "cell_type": "code",
   "execution_count": 95,
   "id": "b1611c22",
   "metadata": {
    "ExecuteTime": {
     "end_time": "2022-10-27T08:02:54.434430Z",
     "start_time": "2022-10-27T08:02:54.310762Z"
    }
   },
   "outputs": [
    {
     "data": {
      "image/png": "[encoded data removed]",
      "text/plain": [
       "<Figure size 640x480 with 1 Axes>"
      ]
     },
     "metadata": {},
     "output_type": "display_data"
    }
   ],
   "source": [
    "# 주문이 많은 메뉴 Top 10 시각화\n",
    "Top = chipo.groupby('item_name')[['quantity', 'item_price']].sum().sort_values('quantity',\n",
    "                                                                               ascending=0).head(10)\n",
    "\n",
    "plt.bar(Top.index, Top.quantity, align='center',\n",
    "        color='blue')\n",
    "\n",
    "plt.show()"
   ]
  },
  {
   "cell_type": "code",
   "execution_count": 99,
   "id": "566d296f",
   "metadata": {
    "ExecuteTime": {
     "end_time": "2022-10-27T08:06:50.681728Z",
     "start_time": "2022-10-27T08:06:50.550080Z"
    }
   },
   "outputs": [
    {
     "data": {
      "image/png": "[encoded data removed]",
      "text/plain": [
       "<Figure size 640x480 with 1 Axes>"
      ]
     },
     "metadata": {},
     "output_type": "display_data"
    }
   ],
   "source": [
    "# 수평 막대 그래프\n",
    "TopH = Top.sort_values('quantity')\n",
    "plt.barh(TopH.index, TopH.quantity, align='center',\n",
    "        color='blue')\n",
    "\n",
    "plt.show()"
   ]
  },
  {
   "cell_type": "code",
   "execution_count": 33,
   "id": "bd0e9bf3",
   "metadata": {
    "ExecuteTime": {
     "end_time": "2022-10-27T07:32:58.745110Z",
     "start_time": "2022-10-27T07:32:58.727154Z"
    }
   },
   "outputs": [
    {
     "data": {
      "text/html": [
       "<div>\n",
       "<style scoped>\n",
       "    .dataframe tbody tr th:only-of-type {\n",
       "        vertical-align: middle;\n",
       "    }\n",
       "\n",
       "    .dataframe tbody tr th {\n",
       "        vertical-align: top;\n",
       "    }\n",
       "\n",
       "    .dataframe thead th {\n",
       "        text-align: right;\n",
       "    }\n",
       "</style>\n",
       "<table border=\"1\" class=\"dataframe\">\n",
       "  <thead>\n",
       "    <tr style=\"text-align: right;\">\n",
       "      <th></th>\n",
       "      <th>quantity</th>\n",
       "      <th>item_price</th>\n",
       "    </tr>\n",
       "    <tr>\n",
       "      <th>item_name</th>\n",
       "      <th></th>\n",
       "      <th></th>\n",
       "    </tr>\n",
       "  </thead>\n",
       "  <tbody>\n",
       "    <tr>\n",
       "      <th>Carnitas Salad</th>\n",
       "      <td>1</td>\n",
       "      <td>8.99</td>\n",
       "    </tr>\n",
       "    <tr>\n",
       "      <th>Veggie Crispy Tacos</th>\n",
       "      <td>1</td>\n",
       "      <td>8.49</td>\n",
       "    </tr>\n",
       "    <tr>\n",
       "      <th>Chips and Mild Fresh Tomato Salsa</th>\n",
       "      <td>1</td>\n",
       "      <td>3.00</td>\n",
       "    </tr>\n",
       "    <tr>\n",
       "      <th>Crispy Tacos</th>\n",
       "      <td>2</td>\n",
       "      <td>14.80</td>\n",
       "    </tr>\n",
       "    <tr>\n",
       "      <th>Salad</th>\n",
       "      <td>2</td>\n",
       "      <td>14.80</td>\n",
       "    </tr>\n",
       "    <tr>\n",
       "      <th>Bowl</th>\n",
       "      <td>4</td>\n",
       "      <td>29.60</td>\n",
       "    </tr>\n",
       "    <tr>\n",
       "      <th>Steak Salad</th>\n",
       "      <td>4</td>\n",
       "      <td>35.66</td>\n",
       "    </tr>\n",
       "    <tr>\n",
       "      <th>Veggie Salad</th>\n",
       "      <td>6</td>\n",
       "      <td>50.94</td>\n",
       "    </tr>\n",
       "    <tr>\n",
       "      <th>Carnitas Salad Bowl</th>\n",
       "      <td>6</td>\n",
       "      <td>66.34</td>\n",
       "    </tr>\n",
       "    <tr>\n",
       "      <th>Burrito</th>\n",
       "      <td>6</td>\n",
       "      <td>44.40</td>\n",
       "    </tr>\n",
       "  </tbody>\n",
       "</table>\n",
       "</div>"
      ],
      "text/plain": [
       "                                   quantity  item_price\n",
       "item_name                                              \n",
       "Carnitas Salad                            1        8.99\n",
       "Veggie Crispy Tacos                       1        8.49\n",
       "Chips and Mild Fresh Tomato Salsa         1        3.00\n",
       "Crispy Tacos                              2       14.80\n",
       "Salad                                     2       14.80\n",
       "Bowl                                      4       29.60\n",
       "Steak Salad                               4       35.66\n",
       "Veggie Salad                              6       50.94\n",
       "Carnitas Salad Bowl                       6       66.34\n",
       "Burrito                                   6       44.40"
      ]
     },
     "execution_count": 33,
     "metadata": {},
     "output_type": "execute_result"
    }
   ],
   "source": [
    "# 주문이 적은 메뉴 Worst 10\n",
    "chipo.groupby('item_name')[['quantity', 'item_price']].sum().sort_values('quantity').head(10)"
   ]
  },
  {
   "cell_type": "code",
   "execution_count": 100,
   "id": "f02e4342",
   "metadata": {
    "ExecuteTime": {
     "end_time": "2022-10-27T08:07:42.910016Z",
     "start_time": "2022-10-27T08:07:42.893061Z"
    }
   },
   "outputs": [],
   "source": [
    "wor = chipo.groupby('item_name')[['quantity', 'item_price']].sum().sort_values('quantity').head(10)"
   ]
  },
  {
   "cell_type": "code",
   "execution_count": 101,
   "id": "74a61d04",
   "metadata": {
    "ExecuteTime": {
     "end_time": "2022-10-27T08:08:15.670754Z",
     "start_time": "2022-10-27T08:08:15.542089Z"
    }
   },
   "outputs": [
    {
     "data": {
      "image/png": "[encoded data removed]",
      "text/plain": [
       "<Figure size 640x480 with 1 Axes>"
      ]
     },
     "metadata": {},
     "output_type": "display_data"
    }
   ],
   "source": [
    "# 주문이 적은 메뉴 Worst 10 시각화\n",
    "plt.bar(wor.index, wor.quantity, align='center',\n",
    "        color='blue')\n",
    "\n",
    "plt.show()"
   ]
  },
  {
   "cell_type": "code",
   "execution_count": 102,
   "id": "2b4b561d",
   "metadata": {
    "ExecuteTime": {
     "end_time": "2022-10-27T08:09:35.332237Z",
     "start_time": "2022-10-27T08:09:35.149709Z"
    },
    "scrolled": true
   },
   "outputs": [
    {
     "data": {
      "image/png": "[encoded data removed]",
      "text/plain": [
       "<Figure size 640x480 with 1 Axes>"
      ]
     },
     "metadata": {},
     "output_type": "display_data"
    }
   ],
   "source": [
    "# 수평 막대 그래프\n",
    "worH = wor.sort_values('quantity', ascending = 0)\n",
    "plt.barh(worH.index, worH.quantity, align='center',\n",
    "        color='blue')\n",
    "\n",
    "plt.show()"
   ]
  },
  {
   "cell_type": "code",
   "execution_count": 107,
   "id": "a16ada13",
   "metadata": {
    "ExecuteTime": {
     "end_time": "2022-10-27T08:12:11.343796Z",
     "start_time": "2022-10-27T08:12:11.326842Z"
    },
    "scrolled": true
   },
   "outputs": [
    {
     "data": {
      "text/plain": [
       "item_name\n",
       "Steak Salad Bowl                         11.083548\n",
       "Carnitas Salad Bowl                      11.056667\n",
       "Barbacoa Salad Bowl                      10.640000\n",
       "Carnitas Bowl                            10.376197\n",
       "Steak Bowl                               10.227104\n",
       "Barbacoa Bowl                            10.187273\n",
       "Veggie Salad Bowl                        10.138889\n",
       "Barbacoa Soft Tacos                      10.018400\n",
       "Barbacoa Crispy Tacos                    10.017500\n",
       "Chicken Salad Bowl                        9.989837\n",
       "Steak Burrito                             9.977798\n",
       "Veggie Bowl                               9.976897\n",
       "Carnitas Burrito                          9.963833\n",
       "Steak Crispy Tacos                        9.926111\n",
       "Barbacoa Burrito                          9.832418\n",
       "Carnitas Crispy Tacos                     9.745000\n",
       "Chicken Bowl                              9.648791\n",
       "Veggie Burrito                            9.636804\n",
       "Steak Soft Tacos                          9.572321\n",
       "Chicken Crispy Tacos                      9.442600\n",
       "Chicken Burrito                           9.434552\n",
       "Carnitas Soft Tacos                       9.398500\n",
       "Veggie Soft Tacos                         9.245000\n",
       "Chicken Soft Tacos                        9.234083\n",
       "Chicken Salad                             9.010000\n",
       "Carnitas Salad                            8.990000\n",
       "Steak Salad                               8.915000\n",
       "Veggie Salad                              8.490000\n",
       "Veggie Crispy Tacos                       8.490000\n",
       "Burrito                                   7.400000\n",
       "Crispy Tacos                              7.400000\n",
       "Salad                                     7.400000\n",
       "Bowl                                      7.400000\n",
       "6 Pack Soft Drink                         6.490000\n",
       "Chips and Guacamole                       4.349881\n",
       "Nantucket Nectar                          3.390000\n",
       "Izze                                      3.390000\n",
       "Chips and Mild Fresh Tomato Salsa         3.000000\n",
       "Chips and Roasted Chili Corn Salsa        2.950000\n",
       "Chips and Tomatillo Red Chili Salsa       2.950000\n",
       "Chips and Tomatillo Green Chili Salsa     2.950000\n",
       "Chips and Fresh Tomato Salsa              2.779692\n",
       "Chips and Tomatillo-Red Chili Salsa       2.390000\n",
       "Chips and Roasted Chili-Corn Salsa        2.390000\n",
       "Chips and Tomatillo-Green Chili Salsa     2.390000\n",
       "Chips                                     2.149304\n",
       "Side of Chips                             1.690000\n",
       "Bottled Water                             1.433934\n",
       "Canned Soft Drink                         1.250000\n",
       "Canned Soda                               1.090000\n",
       "Name: menu_price, dtype: float64"
      ]
     },
     "execution_count": 107,
     "metadata": {},
     "output_type": "execute_result"
    }
   ],
   "source": [
    "# 메뉴당 가격(높은 순으로 정렬)\n",
    "quan = chipo.groupby('item_name')[['quantity', 'item_price']].sum().sort_values('quantity', ascending=0)\n",
    "quan['menu_price'] = quan.item_price / quan.quantity\n",
    "quan.sort_values('menu_price', ascending=0).menu_price"
   ]
  },
  {
   "cell_type": "code",
   "execution_count": 108,
   "id": "7433c41f",
   "metadata": {
    "ExecuteTime": {
     "end_time": "2022-10-27T08:15:30.585555Z",
     "start_time": "2022-10-27T08:15:30.558627Z"
    }
   },
   "outputs": [
    {
     "data": {
      "text/html": [
       "<div>\n",
       "<style scoped>\n",
       "    .dataframe tbody tr th:only-of-type {\n",
       "        vertical-align: middle;\n",
       "    }\n",
       "\n",
       "    .dataframe tbody tr th {\n",
       "        vertical-align: top;\n",
       "    }\n",
       "\n",
       "    .dataframe thead th {\n",
       "        text-align: right;\n",
       "    }\n",
       "</style>\n",
       "<table border=\"1\" class=\"dataframe\">\n",
       "  <thead>\n",
       "    <tr style=\"text-align: right;\">\n",
       "      <th></th>\n",
       "      <th>quantity</th>\n",
       "      <th>item_price</th>\n",
       "    </tr>\n",
       "    <tr>\n",
       "      <th>order_id</th>\n",
       "      <th></th>\n",
       "      <th></th>\n",
       "    </tr>\n",
       "  </thead>\n",
       "  <tbody>\n",
       "    <tr>\n",
       "      <th>1</th>\n",
       "      <td>4</td>\n",
       "      <td>11.56</td>\n",
       "    </tr>\n",
       "    <tr>\n",
       "      <th>2</th>\n",
       "      <td>2</td>\n",
       "      <td>16.98</td>\n",
       "    </tr>\n",
       "    <tr>\n",
       "      <th>3</th>\n",
       "      <td>2</td>\n",
       "      <td>12.67</td>\n",
       "    </tr>\n",
       "    <tr>\n",
       "      <th>4</th>\n",
       "      <td>2</td>\n",
       "      <td>21.00</td>\n",
       "    </tr>\n",
       "    <tr>\n",
       "      <th>5</th>\n",
       "      <td>2</td>\n",
       "      <td>13.70</td>\n",
       "    </tr>\n",
       "    <tr>\n",
       "      <th>...</th>\n",
       "      <td>...</td>\n",
       "      <td>...</td>\n",
       "    </tr>\n",
       "    <tr>\n",
       "      <th>1830</th>\n",
       "      <td>2</td>\n",
       "      <td>23.00</td>\n",
       "    </tr>\n",
       "    <tr>\n",
       "      <th>1831</th>\n",
       "      <td>3</td>\n",
       "      <td>12.90</td>\n",
       "    </tr>\n",
       "    <tr>\n",
       "      <th>1832</th>\n",
       "      <td>2</td>\n",
       "      <td>13.20</td>\n",
       "    </tr>\n",
       "    <tr>\n",
       "      <th>1833</th>\n",
       "      <td>2</td>\n",
       "      <td>23.50</td>\n",
       "    </tr>\n",
       "    <tr>\n",
       "      <th>1834</th>\n",
       "      <td>3</td>\n",
       "      <td>28.75</td>\n",
       "    </tr>\n",
       "  </tbody>\n",
       "</table>\n",
       "<p>1834 rows × 2 columns</p>\n",
       "</div>"
      ],
      "text/plain": [
       "          quantity  item_price\n",
       "order_id                      \n",
       "1                4       11.56\n",
       "2                2       16.98\n",
       "3                2       12.67\n",
       "4                2       21.00\n",
       "5                2       13.70\n",
       "...            ...         ...\n",
       "1830             2       23.00\n",
       "1831             3       12.90\n",
       "1832             2       13.20\n",
       "1833             2       23.50\n",
       "1834             3       28.75\n",
       "\n",
       "[1834 rows x 2 columns]"
      ]
     },
     "execution_count": 108,
     "metadata": {},
     "output_type": "execute_result"
    }
   ],
   "source": [
    "# 주문번호별 주문개수 및 총 비용\n",
    "chipo.groupby('order_id')[['quantity', 'item_price']].sum()"
   ]
  },
  {
   "cell_type": "code",
   "execution_count": 132,
   "id": "4e72a78c",
   "metadata": {
    "ExecuteTime": {
     "end_time": "2022-10-27T08:50:05.697608Z",
     "start_time": "2022-10-27T08:50:05.681649Z"
    }
   },
   "outputs": [
    {
     "data": {
      "text/plain": [
       "0       2.39\n",
       "3       2.39\n",
       "6       1.69\n",
       "10      4.45\n",
       "14      4.45\n",
       "        ... \n",
       "4600    4.45\n",
       "4605    4.45\n",
       "4613    2.15\n",
       "4614    1.50\n",
       "4616    4.45\n",
       "Name: item_price, Length: 1246, dtype: float64"
      ]
     },
     "execution_count": 132,
     "metadata": {},
     "output_type": "execute_result"
    }
   ],
   "source": [
    "# 음식에 아무 옵션도 들어가지 않았던 주문들만 추출 이걸 사용하면 순수 메뉴 가격 도출 가능\n",
    "chipo[chipo.choice_description.isna()].item_price"
   ]
  },
  {
   "cell_type": "code",
   "execution_count": 136,
   "id": "361df481",
   "metadata": {
    "ExecuteTime": {
     "end_time": "2022-10-27T08:52:32.252018Z",
     "start_time": "2022-10-27T08:52:31.731128Z"
    }
   },
   "outputs": [
    {
     "data": {
      "text/plain": [
       "<AxesSubplot:>"
      ]
     },
     "execution_count": 136,
     "metadata": {},
     "output_type": "execute_result"
    },
    {
     "data": {
      "image/png": "[encoded data removed]",
      "text/plain": [
       "<Figure size 640x480 with 1 Axes>"
      ]
     },
     "metadata": {},
     "output_type": "display_data"
    }
   ],
   "source": [
    "chipono.groupby('item_name').boxplot(chipono.item_price)"
   ]
  },
  {
   "cell_type": "code",
   "execution_count": 124,
   "id": "f4bd8da4",
   "metadata": {
    "ExecuteTime": {
     "end_time": "2022-10-27T08:30:15.638778Z",
     "start_time": "2022-10-27T08:30:15.620824Z"
    }
   },
   "outputs": [
    {
     "name": "stderr",
     "output_type": "stream",
     "text": [
      "C:\\Users\\admin\\AppData\\Local\\Temp/ipykernel_21220/3294876549.py:2: FutureWarning: Indexing with multiple keys (implicitly converted to a tuple of keys) will be deprecated, use a list instead.\n",
      "  chipono.groupby('item_name')['quantity', 'item_price'].sum()\n"
     ]
    },
    {
     "data": {
      "text/html": [
       "<div>\n",
       "<style scoped>\n",
       "    .dataframe tbody tr th:only-of-type {\n",
       "        vertical-align: middle;\n",
       "    }\n",
       "\n",
       "    .dataframe tbody tr th {\n",
       "        vertical-align: top;\n",
       "    }\n",
       "\n",
       "    .dataframe thead th {\n",
       "        text-align: right;\n",
       "    }\n",
       "</style>\n",
       "<table border=\"1\" class=\"dataframe\">\n",
       "  <thead>\n",
       "    <tr style=\"text-align: right;\">\n",
       "      <th></th>\n",
       "      <th>quantity</th>\n",
       "      <th>item_price</th>\n",
       "    </tr>\n",
       "    <tr>\n",
       "      <th>item_name</th>\n",
       "      <th></th>\n",
       "      <th></th>\n",
       "    </tr>\n",
       "  </thead>\n",
       "  <tbody>\n",
       "    <tr>\n",
       "      <th>Bottled Water</th>\n",
       "      <td>211</td>\n",
       "      <td>302.56</td>\n",
       "    </tr>\n",
       "    <tr>\n",
       "      <th>Chips</th>\n",
       "      <td>230</td>\n",
       "      <td>494.34</td>\n",
       "    </tr>\n",
       "    <tr>\n",
       "      <th>Chips and Fresh Tomato Salsa</th>\n",
       "      <td>130</td>\n",
       "      <td>361.36</td>\n",
       "    </tr>\n",
       "    <tr>\n",
       "      <th>Chips and Guacamole</th>\n",
       "      <td>506</td>\n",
       "      <td>2201.04</td>\n",
       "    </tr>\n",
       "    <tr>\n",
       "      <th>Chips and Mild Fresh Tomato Salsa</th>\n",
       "      <td>1</td>\n",
       "      <td>3.00</td>\n",
       "    </tr>\n",
       "    <tr>\n",
       "      <th>Chips and Roasted Chili Corn Salsa</th>\n",
       "      <td>23</td>\n",
       "      <td>67.85</td>\n",
       "    </tr>\n",
       "    <tr>\n",
       "      <th>Chips and Roasted Chili-Corn Salsa</th>\n",
       "      <td>18</td>\n",
       "      <td>43.02</td>\n",
       "    </tr>\n",
       "    <tr>\n",
       "      <th>Chips and Tomatillo Green Chili Salsa</th>\n",
       "      <td>45</td>\n",
       "      <td>132.75</td>\n",
       "    </tr>\n",
       "    <tr>\n",
       "      <th>Chips and Tomatillo Red Chili Salsa</th>\n",
       "      <td>50</td>\n",
       "      <td>147.50</td>\n",
       "    </tr>\n",
       "    <tr>\n",
       "      <th>Chips and Tomatillo-Green Chili Salsa</th>\n",
       "      <td>33</td>\n",
       "      <td>78.87</td>\n",
       "    </tr>\n",
       "    <tr>\n",
       "      <th>Chips and Tomatillo-Red Chili Salsa</th>\n",
       "      <td>25</td>\n",
       "      <td>59.75</td>\n",
       "    </tr>\n",
       "    <tr>\n",
       "      <th>Side of Chips</th>\n",
       "      <td>110</td>\n",
       "      <td>185.90</td>\n",
       "    </tr>\n",
       "  </tbody>\n",
       "</table>\n",
       "</div>"
      ],
      "text/plain": [
       "                                       quantity  item_price\n",
       "item_name                                                  \n",
       "Bottled Water                               211      302.56\n",
       "Chips                                       230      494.34\n",
       "Chips and Fresh Tomato Salsa                130      361.36\n",
       "Chips and Guacamole                         506     2201.04\n",
       "Chips and Mild Fresh Tomato Salsa             1        3.00\n",
       "Chips and Roasted Chili Corn Salsa           23       67.85\n",
       "Chips and Roasted Chili-Corn Salsa           18       43.02\n",
       "Chips and Tomatillo Green Chili Salsa        45      132.75\n",
       "Chips and Tomatillo Red Chili Salsa          50      147.50\n",
       "Chips and Tomatillo-Green Chili Salsa        33       78.87\n",
       "Chips and Tomatillo-Red Chili Salsa          25       59.75\n",
       "Side of Chips                               110      185.90"
      ]
     },
     "execution_count": 124,
     "metadata": {},
     "output_type": "execute_result"
    }
   ],
   "source": [
    "chipono = chipo[chipo.choice_description.isna()]\n",
    "chipono.groupby('item_name')['quantity', 'item_price'].sum()"
   ]
  },
  {
   "cell_type": "code",
   "execution_count": 119,
   "id": "09e393fb",
   "metadata": {
    "ExecuteTime": {
     "end_time": "2022-10-27T08:26:33.119869Z",
     "start_time": "2022-10-27T08:26:33.109894Z"
    }
   },
   "outputs": [
    {
     "name": "stderr",
     "output_type": "stream",
     "text": [
      "C:\\Users\\admin\\AppData\\Local\\Temp/ipykernel_21220/4283510444.py:1: FutureWarning: Indexing with multiple keys (implicitly converted to a tuple of keys) will be deprecated, use a list instead.\n",
      "  nom = chipo[chipo.choice_description.isna()].groupby('item_name')['quantity', 'item_price'].sum()\n"
     ]
    }
   ],
   "source": [
    "nom = chipo[chipo.choice_description.isna()].groupby('item_name')['quantity', 'item_price'].sum()"
   ]
  },
  {
   "cell_type": "code",
   "execution_count": 123,
   "id": "1462739e",
   "metadata": {
    "ExecuteTime": {
     "end_time": "2022-10-27T08:28:44.924021Z",
     "start_time": "2022-10-27T08:28:44.917041Z"
    }
   },
   "outputs": [
    {
     "data": {
      "text/plain": [
       "item_name\n",
       "Bottled Water                            1.433934\n",
       "Chips                                    2.149304\n",
       "Chips and Fresh Tomato Salsa             2.779692\n",
       "Chips and Guacamole                      4.349881\n",
       "Chips and Mild Fresh Tomato Salsa        3.000000\n",
       "Chips and Roasted Chili Corn Salsa       2.950000\n",
       "Chips and Roasted Chili-Corn Salsa       2.390000\n",
       "Chips and Tomatillo Green Chili Salsa    2.950000\n",
       "Chips and Tomatillo Red Chili Salsa      2.950000\n",
       "Chips and Tomatillo-Green Chili Salsa    2.390000\n",
       "Chips and Tomatillo-Red Chili Salsa      2.390000\n",
       "Side of Chips                            1.690000\n",
       "dtype: float64"
      ]
     },
     "execution_count": 123,
     "metadata": {},
     "output_type": "execute_result"
    }
   ],
   "source": [
    "# 옵션을 제외하여 각 메뉴별 가격\n",
    "# 구했지만 옵션이 없는 메뉴가 25%정도 밖에 안되어 메뉴 수도 적고 물, 감자칩, 감자칩과 토마토 살사소스, 감자칩과 과카몰리,\n",
    "# 감자침과 순한 토마토 살사소스의 메뉴가격이 이상함\n",
    "nom['menu_price'] = nom.item_price / nom.quantity\n",
    "nom.menu_price"
   ]
  },
  {
   "cell_type": "code",
   "execution_count": 131,
   "id": "a7d4158f",
   "metadata": {
    "ExecuteTime": {
     "end_time": "2022-10-27T08:49:32.471885Z",
     "start_time": "2022-10-27T08:49:32.452932Z"
    }
   },
   "outputs": [
    {
     "data": {
      "text/plain": [
       "item_name\n",
       "Bottled Water                             302.56\n",
       "Chips                                     494.34\n",
       "Chips and Fresh Tomato Salsa              361.36\n",
       "Chips and Guacamole                      2201.04\n",
       "Chips and Mild Fresh Tomato Salsa           3.00\n",
       "Chips and Roasted Chili Corn Salsa         67.85\n",
       "Chips and Roasted Chili-Corn Salsa         43.02\n",
       "Chips and Tomatillo Green Chili Salsa     132.75\n",
       "Chips and Tomatillo Red Chili Salsa       147.50\n",
       "Chips and Tomatillo-Green Chili Salsa      78.87\n",
       "Chips and Tomatillo-Red Chili Salsa        59.75\n",
       "Side of Chips                             185.90\n",
       "Name: item_price, dtype: float64"
      ]
     },
     "execution_count": 131,
     "metadata": {},
     "output_type": "execute_result"
    }
   ],
   "source": [
    "nom.item_price"
   ]
  },
  {
   "cell_type": "code",
   "execution_count": 125,
   "id": "1b4fe780",
   "metadata": {
    "ExecuteTime": {
     "end_time": "2022-10-27T08:31:14.460398Z",
     "start_time": "2022-10-27T08:31:14.431478Z"
    }
   },
   "outputs": [
    {
     "data": {
      "text/html": [
       "<div>\n",
       "<style scoped>\n",
       "    .dataframe tbody tr th:only-of-type {\n",
       "        vertical-align: middle;\n",
       "    }\n",
       "\n",
       "    .dataframe tbody tr th {\n",
       "        vertical-align: top;\n",
       "    }\n",
       "\n",
       "    .dataframe thead th {\n",
       "        text-align: right;\n",
       "    }\n",
       "</style>\n",
       "<table border=\"1\" class=\"dataframe\">\n",
       "  <thead>\n",
       "    <tr style=\"text-align: right;\">\n",
       "      <th></th>\n",
       "      <th></th>\n",
       "      <th>order_id</th>\n",
       "      <th>quantity</th>\n",
       "      <th>item_price</th>\n",
       "    </tr>\n",
       "    <tr>\n",
       "      <th>item_name</th>\n",
       "      <th>choice_description</th>\n",
       "      <th></th>\n",
       "      <th></th>\n",
       "      <th></th>\n",
       "    </tr>\n",
       "  </thead>\n",
       "  <tbody>\n",
       "    <tr>\n",
       "      <th rowspan=\"5\" valign=\"top\">6 Pack Soft Drink</th>\n",
       "      <th>[Coke]</th>\n",
       "      <td>19440</td>\n",
       "      <td>21</td>\n",
       "      <td>136.29</td>\n",
       "    </tr>\n",
       "    <tr>\n",
       "      <th>[Diet Coke]</th>\n",
       "      <td>24539</td>\n",
       "      <td>25</td>\n",
       "      <td>162.25</td>\n",
       "    </tr>\n",
       "    <tr>\n",
       "      <th>[Lemonade]</th>\n",
       "      <td>3056</td>\n",
       "      <td>2</td>\n",
       "      <td>12.98</td>\n",
       "    </tr>\n",
       "    <tr>\n",
       "      <th>[Nestea]</th>\n",
       "      <td>1746</td>\n",
       "      <td>2</td>\n",
       "      <td>12.98</td>\n",
       "    </tr>\n",
       "    <tr>\n",
       "      <th>[Sprite]</th>\n",
       "      <td>3541</td>\n",
       "      <td>5</td>\n",
       "      <td>32.45</td>\n",
       "    </tr>\n",
       "    <tr>\n",
       "      <th>...</th>\n",
       "      <th>...</th>\n",
       "      <td>...</td>\n",
       "      <td>...</td>\n",
       "      <td>...</td>\n",
       "    </tr>\n",
       "    <tr>\n",
       "      <th rowspan=\"5\" valign=\"top\">Veggie Soft Tacos</th>\n",
       "      <th>[Fresh Tomato Salsa, [Black Beans, Cheese, Sour Cream, Lettuce]]</th>\n",
       "      <td>322</td>\n",
       "      <td>1</td>\n",
       "      <td>8.75</td>\n",
       "    </tr>\n",
       "    <tr>\n",
       "      <th>[Fresh Tomato Salsa, [Fajita Vegetables, Rice, Black Beans, Pinto Beans, Cheese, Sour Cream, Guacamole, Lettuce]]</th>\n",
       "      <td>688</td>\n",
       "      <td>1</td>\n",
       "      <td>11.25</td>\n",
       "    </tr>\n",
       "    <tr>\n",
       "      <th>[Roasted Chili Corn Salsa (Medium), [Black Beans, Fajita Veggies, Cheese, Sour Cream, Lettuce]]</th>\n",
       "      <td>1132</td>\n",
       "      <td>1</td>\n",
       "      <td>8.49</td>\n",
       "    </tr>\n",
       "    <tr>\n",
       "      <th>[Roasted Chili Corn Salsa, [Fajita Vegetables, Black Beans, Pinto Beans, Cheese, Lettuce]]</th>\n",
       "      <td>948</td>\n",
       "      <td>1</td>\n",
       "      <td>8.75</td>\n",
       "    </tr>\n",
       "    <tr>\n",
       "      <th>[Tomatillo Red Chili Salsa, [Fajita Vegetables, Rice, Black Beans, Cheese, Guacamole, Lettuce]]</th>\n",
       "      <td>304</td>\n",
       "      <td>1</td>\n",
       "      <td>11.25</td>\n",
       "    </tr>\n",
       "  </tbody>\n",
       "</table>\n",
       "<p>1859 rows × 3 columns</p>\n",
       "</div>"
      ],
      "text/plain": [
       "                                                                      order_id  \\\n",
       "item_name         choice_description                                             \n",
       "6 Pack Soft Drink [Coke]                                                 19440   \n",
       "                  [Diet Coke]                                            24539   \n",
       "                  [Lemonade]                                              3056   \n",
       "                  [Nestea]                                                1746   \n",
       "                  [Sprite]                                                3541   \n",
       "...                                                                        ...   \n",
       "Veggie Soft Tacos [Fresh Tomato Salsa, [Black Beans, Cheese, Sour...       322   \n",
       "                  [Fresh Tomato Salsa, [Fajita Vegetables, Rice, ...       688   \n",
       "                  [Roasted Chili Corn Salsa (Medium), [Black Bean...      1132   \n",
       "                  [Roasted Chili Corn Salsa, [Fajita Vegetables, ...       948   \n",
       "                  [Tomatillo Red Chili Salsa, [Fajita Vegetables,...       304   \n",
       "\n",
       "                                                                      quantity  \\\n",
       "item_name         choice_description                                             \n",
       "6 Pack Soft Drink [Coke]                                                    21   \n",
       "                  [Diet Coke]                                               25   \n",
       "                  [Lemonade]                                                 2   \n",
       "                  [Nestea]                                                   2   \n",
       "                  [Sprite]                                                   5   \n",
       "...                                                                        ...   \n",
       "Veggie Soft Tacos [Fresh Tomato Salsa, [Black Beans, Cheese, Sour...         1   \n",
       "                  [Fresh Tomato Salsa, [Fajita Vegetables, Rice, ...         1   \n",
       "                  [Roasted Chili Corn Salsa (Medium), [Black Bean...         1   \n",
       "                  [Roasted Chili Corn Salsa, [Fajita Vegetables, ...         1   \n",
       "                  [Tomatillo Red Chili Salsa, [Fajita Vegetables,...         1   \n",
       "\n",
       "                                                                      item_price  \n",
       "item_name         choice_description                                              \n",
       "6 Pack Soft Drink [Coke]                                                  136.29  \n",
       "                  [Diet Coke]                                             162.25  \n",
       "                  [Lemonade]                                               12.98  \n",
       "                  [Nestea]                                                 12.98  \n",
       "                  [Sprite]                                                 32.45  \n",
       "...                                                                          ...  \n",
       "Veggie Soft Tacos [Fresh Tomato Salsa, [Black Beans, Cheese, Sour...        8.75  \n",
       "                  [Fresh Tomato Salsa, [Fajita Vegetables, Rice, ...       11.25  \n",
       "                  [Roasted Chili Corn Salsa (Medium), [Black Bean...        8.49  \n",
       "                  [Roasted Chili Corn Salsa, [Fajita Vegetables, ...        8.75  \n",
       "                  [Tomatillo Red Chili Salsa, [Fajita Vegetables,...       11.25  \n",
       "\n",
       "[1859 rows x 3 columns]"
      ]
     },
     "execution_count": 125,
     "metadata": {},
     "output_type": "execute_result"
    }
   ],
   "source": [
    "chipo.groupby(['item_name', 'choice_description']).sum()"
   ]
  },
  {
   "cell_type": "code",
   "execution_count": 127,
   "id": "6f66c9f3",
   "metadata": {
    "ExecuteTime": {
     "end_time": "2022-10-27T08:33:15.036742Z",
     "start_time": "2022-10-27T08:33:15.021779Z"
    }
   },
   "outputs": [
    {
     "data": {
      "text/plain": [
       "MultiIndex([('6 Pack Soft Drink', ...),\n",
       "            ('6 Pack Soft Drink', ...),\n",
       "            ('6 Pack Soft Drink', ...),\n",
       "            ('6 Pack Soft Drink', ...),\n",
       "            ('6 Pack Soft Drink', ...),\n",
       "            (    'Barbacoa Bowl', ...),\n",
       "            (    'Barbacoa Bowl', ...),\n",
       "            (    'Barbacoa Bowl', ...),\n",
       "            (    'Barbacoa Bowl', ...),\n",
       "            (    'Barbacoa Bowl', ...),\n",
       "            ...\n",
       "            ('Veggie Salad Bowl', ...),\n",
       "            ('Veggie Salad Bowl', ...),\n",
       "            ('Veggie Salad Bowl', ...),\n",
       "            ('Veggie Soft Tacos', ...),\n",
       "            ('Veggie Soft Tacos', ...),\n",
       "            ('Veggie Soft Tacos', ...),\n",
       "            ('Veggie Soft Tacos', ...),\n",
       "            ('Veggie Soft Tacos', ...),\n",
       "            ('Veggie Soft Tacos', ...),\n",
       "            ('Veggie Soft Tacos', ...)],\n",
       "           names=['item_name', 'choice_description'], length=1859)"
      ]
     },
     "execution_count": 127,
     "metadata": {},
     "output_type": "execute_result"
    }
   ],
   "source": [
    "chipog = chipo.groupby(['item_name', 'choice_description']).sum()\n",
    "chipog.index"
   ]
  }
 ],
 "metadata": {
  "kernelspec": {
   "display_name": "Python 3 (ipykernel)",
   "language": "python",
   "name": "python3"
  },
  "language_info": {
   "codemirror_mode": {
    "name": "ipython",
    "version": 3
   },
   "file_extension": ".py",
   "mimetype": "text/x-python",
   "name": "python",
   "nbconvert_exporter": "python",
   "pygments_lexer": "ipython3",
   "version": "3.9.7"
  },
  "toc": {
   "base_numbering": 1,
   "nav_menu": {},
   "number_sections": true,
   "sideBar": true,
   "skip_h1_title": false,
   "title_cell": "Table of Contents",
   "title_sidebar": "Contents",
   "toc_cell": false,
   "toc_position": {},
   "toc_section_display": true,
   "toc_window_display": false
  }
 },
 "nbformat": 4,
 "nbformat_minor": 5
}
