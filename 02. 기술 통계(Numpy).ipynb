{
 "cells": [
  {
   "cell_type": "code",
   "execution_count": 2,
   "id": "f75551c0",
   "metadata": {
    "ExecuteTime": {
     "end_time": "2022-10-25T03:38:23.267236Z",
     "start_time": "2022-10-25T03:38:23.147552Z"
    }
   },
   "outputs": [],
   "source": [
    "import numpy as np"
   ]
  },
  {
   "cell_type": "markdown",
   "id": "adbfc885",
   "metadata": {},
   "source": [
    "#### 데이터 개수(len, count)"
   ]
  },
  {
   "cell_type": "code",
   "execution_count": 3,
   "id": "5565fc15",
   "metadata": {
    "ExecuteTime": {
     "end_time": "2022-10-25T03:38:25.571873Z",
     "start_time": "2022-10-25T03:38:25.561899Z"
    }
   },
   "outputs": [],
   "source": [
    "x = np.array([18, 5, 10, 23, 19, -8, 10, 0, 0, 5, 2, 15, 8,\n",
    "              2, 5, 4, 15, -1, 4, -7, -24, 7,  9, -6, 23, -13])b"
   ]
  },
  {
   "cell_type": "code",
   "execution_count": 4,
   "id": "4ab75e7f",
   "metadata": {
    "ExecuteTime": {
     "end_time": "2022-10-25T03:38:34.897579Z",
     "start_time": "2022-10-25T03:38:34.882628Z"
    }
   },
   "outputs": [
    {
     "data": {
      "text/plain": [
       "26"
      ]
     },
     "execution_count": 4,
     "metadata": {},
     "output_type": "execute_result"
    }
   ],
   "source": [
    "len(x)"
   ]
  },
  {
   "cell_type": "markdown",
   "id": "b3f68920",
   "metadata": {},
   "source": [
    "#### 평균(mean, average)"
   ]
  },
  {
   "cell_type": "code",
   "execution_count": 5,
   "id": "e05a8c3e",
   "metadata": {
    "ExecuteTime": {
     "end_time": "2022-10-25T03:38:43.888804Z",
     "start_time": "2022-10-25T03:38:43.881815Z"
    }
   },
   "outputs": [
    {
     "data": {
      "text/plain": [
       "4.8076923076923075"
      ]
     },
     "execution_count": 5,
     "metadata": {},
     "output_type": "execute_result"
    }
   ],
   "source": [
    "np.mean(x)"
   ]
  },
  {
   "cell_type": "markdown",
   "id": "d46522cd",
   "metadata": {},
   "source": [
    "#### 분산(var, variance)\n",
    "- 표본 분산(n-1)\n",
    "- 불편 분산(비편향 분산)"
   ]
  },
  {
   "cell_type": "code",
   "execution_count": 6,
   "id": "c1ed87a0",
   "metadata": {
    "ExecuteTime": {
     "end_time": "2022-10-25T03:41:45.271603Z",
     "start_time": "2022-10-25T03:41:45.259632Z"
    }
   },
   "outputs": [
    {
     "data": {
      "text/plain": [
       "115.23224852071006"
      ]
     },
     "execution_count": 6,
     "metadata": {},
     "output_type": "execute_result"
    }
   ],
   "source": [
    "np.var(x) # 표본 분산"
   ]
  },
  {
   "cell_type": "code",
   "execution_count": 7,
   "id": "eeee9f3b",
   "metadata": {
    "ExecuteTime": {
     "end_time": "2022-10-25T03:43:07.117227Z",
     "start_time": "2022-10-25T03:43:07.106255Z"
    }
   },
   "outputs": [
    {
     "data": {
      "text/plain": [
       "119.84153846153846"
      ]
     },
     "execution_count": 7,
     "metadata": {},
     "output_type": "execute_result"
    }
   ],
   "source": [
    "np.var(x, ddof=1) # 불편 분산/ 비편향 분산"
   ]
  },
  {
   "cell_type": "markdown",
   "id": "5fff5f70",
   "metadata": {},
   "source": [
    "####  표준 편차(std, standard divation)"
   ]
  },
  {
   "cell_type": "code",
   "execution_count": 8,
   "id": "6ce45f41",
   "metadata": {
    "ExecuteTime": {
     "end_time": "2022-10-25T03:44:47.270433Z",
     "start_time": "2022-10-25T03:44:47.260461Z"
    }
   },
   "outputs": [
    {
     "data": {
      "text/plain": [
       "10.734628476137871"
      ]
     },
     "execution_count": 8,
     "metadata": {},
     "output_type": "execute_result"
    }
   ],
   "source": [
    "# 분산의 양의 제곱근 값\n",
    "np.std(x)"
   ]
  },
  {
   "cell_type": "markdown",
   "id": "9d7ee015",
   "metadata": {},
   "source": [
    "#### 최댓값(max, maximum)"
   ]
  },
  {
   "cell_type": "code",
   "execution_count": 9,
   "id": "dcb8b0c9",
   "metadata": {
    "ExecuteTime": {
     "end_time": "2022-10-25T03:45:34.553621Z",
     "start_time": "2022-10-25T03:45:34.546595Z"
    }
   },
   "outputs": [
    {
     "data": {
      "text/plain": [
       "23"
      ]
     },
     "execution_count": 9,
     "metadata": {},
     "output_type": "execute_result"
    }
   ],
   "source": [
    "np.max(x)"
   ]
  },
  {
   "cell_type": "markdown",
   "id": "73d5447d",
   "metadata": {},
   "source": [
    "#### 최솟값(min, minimum)"
   ]
  },
  {
   "cell_type": "code",
   "execution_count": 10,
   "id": "c6f77c81",
   "metadata": {
    "ExecuteTime": {
     "end_time": "2022-10-25T03:45:46.105801Z",
     "start_time": "2022-10-25T03:45:46.089836Z"
    }
   },
   "outputs": [
    {
     "data": {
      "text/plain": [
       "-24"
      ]
     },
     "execution_count": 10,
     "metadata": {},
     "output_type": "execute_result"
    }
   ],
   "source": [
    "np.min(x)"
   ]
  },
  {
   "cell_type": "markdown",
   "id": "bfb708c4",
   "metadata": {},
   "source": [
    "#### 중앙값(median)"
   ]
  },
  {
   "cell_type": "code",
   "execution_count": 11,
   "id": "efa6e891",
   "metadata": {
    "ExecuteTime": {
     "end_time": "2022-10-25T03:45:54.916936Z",
     "start_time": "2022-10-25T03:45:54.906968Z"
    }
   },
   "outputs": [
    {
     "data": {
      "text/plain": [
       "5.0"
      ]
     },
     "execution_count": 11,
     "metadata": {},
     "output_type": "execute_result"
    }
   ],
   "source": [
    "np.median(x)"
   ]
  },
  {
   "cell_type": "markdown",
   "id": "2982042d",
   "metadata": {},
   "source": [
    "####  사분위수(quantile)\n",
    "- 백분위수(percentile)"
   ]
  },
  {
   "cell_type": "code",
   "execution_count": 26,
   "id": "e66fbcfa",
   "metadata": {
    "ExecuteTime": {
     "end_time": "2022-10-25T03:49:18.804671Z",
     "start_time": "2022-10-25T03:49:18.785712Z"
    }
   },
   "outputs": [
    {
     "data": {
      "text/plain": [
       "0.0"
      ]
     },
     "execution_count": 26,
     "metadata": {},
     "output_type": "execute_result"
    }
   ],
   "source": [
    "np.percentile(x, 25)"
   ]
  },
  {
   "cell_type": "code",
   "execution_count": 27,
   "id": "5a813460",
   "metadata": {
    "ExecuteTime": {
     "end_time": "2022-10-25T03:49:21.829383Z",
     "start_time": "2022-10-25T03:49:21.818410Z"
    }
   },
   "outputs": [
    {
     "data": {
      "text/plain": [
       "5.0"
      ]
     },
     "execution_count": 27,
     "metadata": {},
     "output_type": "execute_result"
    }
   ],
   "source": [
    "np.quantile(x,0.50)"
   ]
  }
 ],
 "metadata": {
  "kernelspec": {
   "display_name": "Python 3 (ipykernel)",
   "language": "python",
   "name": "python3"
  },
  "language_info": {
   "codemirror_mode": {
    "name": "ipython",
    "version": 3
   },
   "file_extension": ".py",
   "mimetype": "text/x-python",
   "name": "python",
   "nbconvert_exporter": "python",
   "pygments_lexer": "ipython3",
   "version": "3.9.7"
  },
  "toc": {
   "base_numbering": 1,
   "nav_menu": {},
   "number_sections": true,
   "sideBar": true,
   "skip_h1_title": false,
   "title_cell": "Table of Contents",
   "title_sidebar": "Contents",
   "toc_cell": false,
   "toc_position": {},
   "toc_section_display": true,
   "toc_window_display": false
  }
 },
 "nbformat": 4,
 "nbformat_minor": 5
}
