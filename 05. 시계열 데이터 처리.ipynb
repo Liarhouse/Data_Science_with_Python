{
 "cells": [
  {
   "cell_type": "markdown",
   "id": "614a47f3",
   "metadata": {},
   "source": [
    "# DatetimeIndex\n",
    "- pd.to_datetime() : 문자열을 날짜/시간의 자료형인 datetime 자료형으로 바꿔주는 함수\n",
    "- pd.date_range() : 시작일과 종료일 또는 시작일과 기간을 입력하면 범위 내의 인덱스를 자동으로 생성\n",
    "- 시계열 자료 : 인덱스에 날짜나 시간이 오는 데이터\n",
    "- 판다스에서 시계열 자료를 생성하려면 인덱스를 DatetimeIndex 자료형으로 만들어야 한다."
   ]
  },
  {
   "cell_type": "code",
   "execution_count": 3,
   "id": "ed59ab20",
   "metadata": {
    "ExecuteTime": {
     "end_time": "2022-10-27T03:30:58.862813Z",
     "start_time": "2022-10-27T03:30:58.492635Z"
    }
   },
   "outputs": [],
   "source": [
    "import pandas as pd\n",
    "import numpy as np"
   ]
  },
  {
   "cell_type": "code",
   "execution_count": 5,
   "id": "2768deb0",
   "metadata": {
    "ExecuteTime": {
     "end_time": "2022-10-27T03:31:08.234273Z",
     "start_time": "2022-10-27T03:31:08.222296Z"
    }
   },
   "outputs": [],
   "source": [
    "date_str = ['2018, 1, 1', '2018, 1, 4', '2018, 1, 5', '2018, 1, 6']"
   ]
  },
  {
   "cell_type": "code",
   "execution_count": 6,
   "id": "d44d03a1",
   "metadata": {
    "ExecuteTime": {
     "end_time": "2022-10-27T03:31:09.946684Z",
     "start_time": "2022-10-27T03:31:09.925740Z"
    }
   },
   "outputs": [
    {
     "data": {
      "text/plain": [
       "DatetimeIndex(['2018-01-01', '2018-01-04', '2018-01-05', '2018-01-06'], dtype='datetime64[ns]', freq=None)"
      ]
     },
     "execution_count": 6,
     "metadata": {},
     "output_type": "execute_result"
    }
   ],
   "source": [
    "idx = pd.to_datetime(date_str)\n",
    "idx"
   ]
  },
  {
   "cell_type": "code",
   "execution_count": 7,
   "id": "735b30ac",
   "metadata": {
    "ExecuteTime": {
     "end_time": "2022-10-27T03:31:47.831681Z",
     "start_time": "2022-10-27T03:31:47.814727Z"
    }
   },
   "outputs": [
    {
     "data": {
      "text/plain": [
       "2018-01-01    2.194711\n",
       "2018-01-04   -0.345031\n",
       "2018-01-05    0.500958\n",
       "2018-01-06   -0.882424\n",
       "dtype: float64"
      ]
     },
     "execution_count": 7,
     "metadata": {},
     "output_type": "execute_result"
    }
   ],
   "source": [
    "# Series\n",
    "s = pd.Series(np.random.randn(4), index=idx)\n",
    "s"
   ]
  },
  {
   "cell_type": "code",
   "execution_count": 8,
   "id": "42d4ea90",
   "metadata": {
    "ExecuteTime": {
     "end_time": "2022-10-27T03:33:35.571835Z",
     "start_time": "2022-10-27T03:33:35.557872Z"
    }
   },
   "outputs": [
    {
     "data": {
      "text/plain": [
       "DatetimeIndex(['2022-04-02', '2022-04-03', '2022-04-04', '2022-04-05',\n",
       "               '2022-04-06', '2022-04-07', '2022-04-08', '2022-04-09',\n",
       "               '2022-04-10', '2022-04-11', '2022-04-12', '2022-04-13',\n",
       "               '2022-04-14', '2022-04-15', '2022-04-16', '2022-04-17',\n",
       "               '2022-04-18', '2022-04-19', '2022-04-20', '2022-04-21',\n",
       "               '2022-04-22', '2022-04-23', '2022-04-24', '2022-04-25',\n",
       "               '2022-04-26', '2022-04-27', '2022-04-28', '2022-04-29',\n",
       "               '2022-04-30'],\n",
       "              dtype='datetime64[ns]', freq='D')"
      ]
     },
     "execution_count": 8,
     "metadata": {},
     "output_type": "execute_result"
    }
   ],
   "source": [
    "pd.date_range('2022-4-2', '2022-4-30')"
   ]
  },
  {
   "cell_type": "code",
   "execution_count": 9,
   "id": "cf98a6d9",
   "metadata": {
    "ExecuteTime": {
     "end_time": "2022-10-27T03:34:06.929736Z",
     "start_time": "2022-10-27T03:34:06.918764Z"
    }
   },
   "outputs": [
    {
     "data": {
      "text/plain": [
       "DatetimeIndex(['2022-10-01', '2022-10-02', '2022-10-03', '2022-10-04',\n",
       "               '2022-10-05', '2022-10-06', '2022-10-07', '2022-10-08',\n",
       "               '2022-10-09', '2022-10-10', '2022-10-11', '2022-10-12',\n",
       "               '2022-10-13', '2022-10-14', '2022-10-15', '2022-10-16',\n",
       "               '2022-10-17', '2022-10-18', '2022-10-19', '2022-10-20',\n",
       "               '2022-10-21', '2022-10-22', '2022-10-23', '2022-10-24',\n",
       "               '2022-10-25', '2022-10-26', '2022-10-27', '2022-10-28',\n",
       "               '2022-10-29', '2022-10-30'],\n",
       "              dtype='datetime64[ns]', freq='D')"
      ]
     },
     "execution_count": 9,
     "metadata": {},
     "output_type": "execute_result"
    }
   ],
   "source": [
    "pd.date_range(start='2022-10-1', periods = 30)"
   ]
  },
  {
   "cell_type": "markdown",
   "id": "d9572f5d",
   "metadata": {},
   "source": [
    "#### freq 매개변수로 특정한 날짜만 생성되도록 설정할 수 있다.\n",
    "- s : second, 초\n",
    "- T : minute, 분\n",
    "- H : hour, 시간\n",
    "- D : day, 일\n",
    "- B : 주말이 아닌 평일\n",
    "- W : 주(일요일)\n",
    "- W-MON : 주(월요일)\n",
    "- M : 각 달의 마지막 날\n",
    "- MS : 각 달의 첫날"
   ]
  },
  {
   "cell_type": "markdown",
   "id": "fec6f058",
   "metadata": {},
   "source": [
    "## shift"
   ]
  },
  {
   "cell_type": "code",
   "execution_count": 10,
   "id": "85800fce",
   "metadata": {
    "ExecuteTime": {
     "end_time": "2022-10-27T05:10:52.613174Z",
     "start_time": "2022-10-27T05:10:52.601205Z"
    }
   },
   "outputs": [],
   "source": [
    "ts = pd.Series(np.random.randn(4), index = pd.date_range('2018-1-1', periods=4, freq='M'))"
   ]
  },
  {
   "cell_type": "code",
   "execution_count": 11,
   "id": "a4f0ac62",
   "metadata": {
    "ExecuteTime": {
     "end_time": "2022-10-27T05:10:55.177230Z",
     "start_time": "2022-10-27T05:10:55.168261Z"
    }
   },
   "outputs": [
    {
     "data": {
      "text/plain": [
       "2018-01-31    0.754719\n",
       "2018-02-28    2.388339\n",
       "2018-03-31    0.124829\n",
       "2018-04-30   -0.368038\n",
       "Freq: M, dtype: float64"
      ]
     },
     "execution_count": 11,
     "metadata": {},
     "output_type": "execute_result"
    }
   ],
   "source": [
    "ts"
   ]
  },
  {
   "cell_type": "code",
   "execution_count": 12,
   "id": "e9ec3398",
   "metadata": {
    "ExecuteTime": {
     "end_time": "2022-10-27T05:11:06.417832Z",
     "start_time": "2022-10-27T05:11:06.407859Z"
    }
   },
   "outputs": [
    {
     "data": {
      "text/plain": [
       "2018-01-31    2.388339\n",
       "2018-02-28    0.124829\n",
       "2018-03-31   -0.368038\n",
       "2018-04-30         NaN\n",
       "Freq: M, dtype: float64"
      ]
     },
     "execution_count": 12,
     "metadata": {},
     "output_type": "execute_result"
    }
   ],
   "source": [
    "ts.shift(-1)"
   ]
  },
  {
   "cell_type": "code",
   "execution_count": 13,
   "id": "2a2a32fa",
   "metadata": {
    "ExecuteTime": {
     "end_time": "2022-10-27T05:11:24.941616Z",
     "start_time": "2022-10-27T05:11:24.928625Z"
    }
   },
   "outputs": [
    {
     "data": {
      "text/plain": [
       "2018-02-28    0.754719\n",
       "2018-03-31    2.388339\n",
       "2018-04-30    0.124829\n",
       "2018-05-31   -0.368038\n",
       "Freq: M, dtype: float64"
      ]
     },
     "execution_count": 13,
     "metadata": {},
     "output_type": "execute_result"
    }
   ],
   "source": [
    "ts.shift(1, freq='M')"
   ]
  },
  {
   "cell_type": "code",
   "execution_count": 14,
   "id": "1b84c1ad",
   "metadata": {
    "ExecuteTime": {
     "end_time": "2022-10-27T05:13:06.271340Z",
     "start_time": "2022-10-27T05:13:06.263361Z"
    }
   },
   "outputs": [
    {
     "data": {
      "text/plain": [
       "2018-02-04    0.754719\n",
       "2018-03-04    2.388339\n",
       "2018-04-01    0.124829\n",
       "2018-05-06   -0.368038\n",
       "dtype: float64"
      ]
     },
     "execution_count": 14,
     "metadata": {},
     "output_type": "execute_result"
    }
   ],
   "source": [
    "ts.shift(1, freq='W')"
   ]
  },
  {
   "cell_type": "markdown",
   "id": "ecee449a",
   "metadata": {},
   "source": [
    "### resample : 날짜나 시간 간격을 재조어하는 기능\n",
    "- up-sample(업샘플링) : 데이터 양이 증가\n",
    "- down-sample(다운 샘플링) : 데이터 양이 감소"
   ]
  },
  {
   "cell_type": "code",
   "execution_count": 15,
   "id": "d07a3d11",
   "metadata": {
    "ExecuteTime": {
     "end_time": "2022-10-27T05:16:12.575528Z",
     "start_time": "2022-10-27T05:16:12.567536Z"
    }
   },
   "outputs": [
    {
     "data": {
      "text/plain": [
       "2018-01-01    1.001317\n",
       "2018-01-02   -1.285987\n",
       "2018-01-03    0.331437\n",
       "2018-01-04    0.277442\n",
       "2018-01-05    0.013249\n",
       "2018-01-06   -0.989785\n",
       "2018-01-07   -1.070277\n",
       "2018-01-08   -0.179702\n",
       "2018-01-09   -0.151596\n",
       "2018-01-10   -0.548379\n",
       "2018-01-11   -0.829374\n",
       "2018-01-12    0.744920\n",
       "2018-01-13   -0.381845\n",
       "2018-01-14   -0.164979\n",
       "2018-01-15   -0.758922\n",
       "2018-01-16   -0.733977\n",
       "2018-01-17   -0.857703\n",
       "2018-01-18    1.480951\n",
       "2018-01-19    1.774957\n",
       "2018-01-20   -1.685165\n",
       "Freq: D, dtype: float64"
      ]
     },
     "execution_count": 15,
     "metadata": {},
     "output_type": "execute_result"
    }
   ],
   "source": [
    "ts = pd.Series(np.random.randn(100), index = pd.date_range('2018-1-1',\n",
    "                                                           periods=100, freq='D'))\n",
    "ts.head(20)"
   ]
  },
  {
   "cell_type": "code",
   "execution_count": 16,
   "id": "499f9925",
   "metadata": {
    "ExecuteTime": {
     "end_time": "2022-10-27T05:20:47.467888Z",
     "start_time": "2022-10-27T05:20:47.456917Z"
    }
   },
   "outputs": [
    {
     "data": {
      "text/plain": [
       "2018-01-31    1.001317\n",
       "2018-02-28    0.442081\n",
       "2018-03-31    0.901889\n",
       "2018-04-30   -0.022551\n",
       "Freq: M, dtype: float64"
      ]
     },
     "execution_count": 16,
     "metadata": {},
     "output_type": "execute_result"
    }
   ],
   "source": [
    "ts.resample('M').first()"
   ]
  },
  {
   "cell_type": "code",
   "execution_count": null,
   "id": "5d5c18ae",
   "metadata": {},
   "outputs": [],
   "source": [
    "##"
   ]
  }
 ],
 "metadata": {
  "kernelspec": {
   "display_name": "Python 3 (ipykernel)",
   "language": "python",
   "name": "python3"
  },
  "language_info": {
   "codemirror_mode": {
    "name": "ipython",
    "version": 3
   },
   "file_extension": ".py",
   "mimetype": "text/x-python",
   "name": "python",
   "nbconvert_exporter": "python",
   "pygments_lexer": "ipython3",
   "version": "3.9.7"
  },
  "toc": {
   "base_numbering": 1,
   "nav_menu": {},
   "number_sections": true,
   "sideBar": true,
   "skip_h1_title": false,
   "title_cell": "Table of Contents",
   "title_sidebar": "Contents",
   "toc_cell": false,
   "toc_position": {},
   "toc_section_display": true,
   "toc_window_display": false
  }
 },
 "nbformat": 4,
 "nbformat_minor": 5
}
